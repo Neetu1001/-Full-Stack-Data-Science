{
 "cells": [
  {
   "cell_type": "markdown",
   "id": "54b79396",
   "metadata": {},
   "source": [
    "## Assignment 9\n",
    "\n",
    "### 1. To what does a relative path refer?\n",
    "\n",
    "**Ans:**  The relative path is the path to some file with respect to your current working directory (PWD). "
   ]
  },
  {
   "cell_type": "markdown",
   "id": "c66faafd",
   "metadata": {},
   "source": [
    "### 2.Where does an absolute path start with your Operating System ?\n",
    "\n",
    "**Ans:** "
   ]
  },
  {
   "cell_type": "code",
   "execution_count": 1,
   "id": "61025953",
   "metadata": {},
   "outputs": [
    {
     "data": {
      "text/plain": [
       "'C:\\\\Users\\\\hp\\\\iNeuron1\\\\Test2\\\\ iNeuron-Full-Stack-Data-Science-Assignments\\\\Python\\\\Python Basic Assignment'"
      ]
     },
     "execution_count": 1,
     "metadata": {},
     "output_type": "execute_result"
    }
   ],
   "source": [
    "# Method 1\n",
    "%pwd"
   ]
  },
  {
   "cell_type": "code",
   "execution_count": 2,
   "id": "ce593c71",
   "metadata": {},
   "outputs": [
    {
     "data": {
      "text/plain": [
       "'C:\\\\Users\\\\hp\\\\iNeuron1\\\\Test2\\\\ iNeuron-Full-Stack-Data-Science-Assignments\\\\Python\\\\Python Basic Assignment'"
      ]
     },
     "execution_count": 2,
     "metadata": {},
     "output_type": "execute_result"
    }
   ],
   "source": [
    "# Method 2\n",
    "import os\n",
    "os.getcwd()"
   ]
  },
  {
   "cell_type": "markdown",
   "id": "f13c1ec5",
   "metadata": {},
   "source": [
    "### 3. What do the functions os.getcwd() and os.chdir() do?\n",
    "\n",
    "**Ans:** \n",
    "\n",
    "1. **OS.GETCWD()**  : gets the current working directory of the file or program\n",
    "2. **OS.CHDIR()**  : Changes the direction of the current file to the spcified location\n",
    "\n"
   ]
  },
  {
   "cell_type": "markdown",
   "id": "4616f09c",
   "metadata": {},
   "source": [
    "### 4. What are the . and .. folders?\n",
    "\n",
    "**Ans:**\n",
    "\n",
    "    . folders displays the path of the current executing file\n",
    "\n",
    "    .. folders displays the path of parent directory of the file currently executing\n"
   ]
  },
  {
   "cell_type": "code",
   "execution_count": 3,
   "id": "fb3e2504",
   "metadata": {},
   "outputs": [
    {
     "name": "stdout",
     "output_type": "stream",
     "text": [
      ". Folder Path:\n",
      " C:\\Users\\hp\\iNeuron1\\Test2\\ iNeuron-Full-Stack-Data-Science-Assignments\\Python\\Python Basic Assignment\n"
     ]
    }
   ],
   "source": [
    "print(f\". Folder Path:\\n {os.path.abspath('.')}\")"
   ]
  },
  {
   "cell_type": "code",
   "execution_count": 5,
   "id": "9fa834b4",
   "metadata": {},
   "outputs": [
    {
     "name": "stdout",
     "output_type": "stream",
     "text": [
      "\n",
      ".. Folder Path:\n",
      " C:\\Users\\hp\\iNeuron1\\Test2\\ iNeuron-Full-Stack-Data-Science-Assignments\\Python\n"
     ]
    }
   ],
   "source": [
    "print(f\"\\n.. Folder Path:\\n {os.path.abspath('..')}\")"
   ]
  },
  {
   "cell_type": "markdown",
   "id": "247d1542",
   "metadata": {},
   "source": [
    "### 5. In C:\\bacon\\eggs\\spam.txt, which part is the dir name, and which part is the base name?\n",
    "\n",
    "**Ans:** \n",
    "\n",
    "If **C:\\bacon\\eggs\\spam.txt** is the path then\n",
    "    \n",
    "    C:\\bacon\\eggs ---> Directory Name\n",
    "\n",
    "    spam.txt      ---> Base Name"
   ]
  },
  {
   "cell_type": "markdown",
   "id": "2fd51926",
   "metadata": {},
   "source": [
    "### 6. What are the three “mode” arguments that can be passed to the open() function?\n",
    "\n",
    "**Ans:**\n",
    "\n",
    "Values that can be passed for \"mode\" Parameter in the open() Function\n",
    "\n",
    "* **r  - Read Mode** \n",
    "* **w  - Write Mode**\n",
    "* **w+ - Read+Write Mode**\n",
    "* **a  - append Mode**\n"
   ]
  },
  {
   "cell_type": "markdown",
   "id": "6cb83840",
   "metadata": {},
   "source": [
    "### 7. What happens if an existing file is opened in write mode?\n",
    "\n",
    "**Ans:**\n",
    " If the existing file is opened in write mode:\n",
    "    \n",
    "    The existing file will be overriden with the new file  with the same name\n",
    "    A new file will be created; if the file with the same name does not exist\n"
   ]
  },
  {
   "cell_type": "markdown",
   "id": "01612588",
   "metadata": {},
   "source": [
    "### 8.How do you tell the difference between read() and readlines() ?\n",
    "\n",
    "**Ans:** \n",
    "\n",
    "**read():**  This will read the individual string of the file.\n",
    "\n",
    "**readlines():** This will read all the string of the file. It will return the data in the form of list."
   ]
  },
  {
   "cell_type": "code",
   "execution_count": 6,
   "id": "f5cb716f",
   "metadata": {},
   "outputs": [
    {
     "name": "stdout",
     "output_type": "stream",
     "text": [
      "Writing test.txt\n"
     ]
    }
   ],
   "source": [
    "%%writefile test.txt\n",
    "Hello, this is a quick test file.\n",
    "Neetu here"
   ]
  },
  {
   "cell_type": "code",
   "execution_count": 7,
   "id": "a327c68c",
   "metadata": {},
   "outputs": [],
   "source": [
    "# Opening the text.txt \n",
    "my_file = open('test.txt')"
   ]
  },
  {
   "cell_type": "code",
   "execution_count": 8,
   "id": "047f60b9",
   "metadata": {},
   "outputs": [
    {
     "data": {
      "text/plain": [
       "'Hello, this is a quick test file.\\nNeetu here\\n'"
      ]
     },
     "execution_count": 8,
     "metadata": {},
     "output_type": "execute_result"
    }
   ],
   "source": [
    "# Reading the file\n",
    "my_file.read()"
   ]
  },
  {
   "cell_type": "code",
   "execution_count": 9,
   "id": "863c9d3f",
   "metadata": {},
   "outputs": [
    {
     "data": {
      "text/plain": [
       "0"
      ]
     },
     "execution_count": 9,
     "metadata": {},
     "output_type": "execute_result"
    }
   ],
   "source": [
    "# Seek to the start of file\n",
    "my_file.seek(0)"
   ]
  },
  {
   "cell_type": "code",
   "execution_count": 10,
   "id": "908f9c93",
   "metadata": {},
   "outputs": [
    {
     "data": {
      "text/plain": [
       "['Hello, this is a quick test file.\\n', 'Neetu here\\n']"
      ]
     },
     "execution_count": 10,
     "metadata": {},
     "output_type": "execute_result"
    }
   ],
   "source": [
    "# Readlines\n",
    "my_file.readlines()"
   ]
  },
  {
   "cell_type": "markdown",
   "id": "b1c3738c",
   "metadata": {},
   "source": [
    "### 9. What data structure does a shelf value resemble?\n",
    "\n",
    "**Ans:** Shelf Value resembles Dictionary as it also cotains key value pairs"
   ]
  }
 ],
 "metadata": {
  "kernelspec": {
   "display_name": "Python 3",
   "language": "python",
   "name": "python3"
  },
  "language_info": {
   "codemirror_mode": {
    "name": "ipython",
    "version": 3
   },
   "file_extension": ".py",
   "mimetype": "text/x-python",
   "name": "python",
   "nbconvert_exporter": "python",
   "pygments_lexer": "ipython3",
   "version": "3.8.8"
  }
 },
 "nbformat": 4,
 "nbformat_minor": 5
}
