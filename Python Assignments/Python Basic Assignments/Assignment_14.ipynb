{
 "cells": [
  {
   "cell_type": "markdown",
   "id": "3b2e567f",
   "metadata": {},
   "source": [
    "## Assignment - 14\n",
    "\n",
    "### Q1. What does RGBA stand for?\n",
    "\n",
    "**Ans:** **RGBA** is a four-channel format containing data for **Red**, **Green**, **Blue**, and an **Alpha** value. Where Alpha Represents the Opacity\n",
    "\n",
    "### Q2. From the Pillow module, how do you get the RGBA value of any images?"
   ]
  },
  {
   "cell_type": "code",
   "execution_count": 9,
   "id": "b5271921",
   "metadata": {},
   "outputs": [
    {
     "name": "stdout",
     "output_type": "stream",
     "text": [
      "(42, 55, 8, 255)\n"
     ]
    }
   ],
   "source": [
    "from PIL import Image\n",
    "\n",
    "img = Image.open('pic.png')\n",
    "rgba = img.convert('RGBA')\n",
    "rgba_value = rgba.getdata()\n",
    "for i in rgba_value:\n",
    "    print(i)\n",
    "    break"
   ]
  },
  {
   "cell_type": "markdown",
   "id": "0e08c8f8",
   "metadata": {},
   "source": [
    "    getdata() is used to get the RGBA value of the image.\n",
    "\n",
    "### Q3. What is a box tuple, and how does it work?\n",
    "\n",
    "**Ans:** A **box tuple** is a container for a tuple of **4 integers values** in which the left edge represents the x-coordinate and the top edge indicate the y-coordinate and width and height repectively."
   ]
  },
  {
   "cell_type": "markdown",
   "id": "92335cce",
   "metadata": {},
   "source": [
    "### Q4. Use your image and load in notebook then, How can you find out the width and height of an Image object?"
   ]
  },
  {
   "cell_type": "code",
   "execution_count": 10,
   "id": "b1ab31b5",
   "metadata": {},
   "outputs": [
    {
     "name": "stdout",
     "output_type": "stream",
     "text": [
      "Height & Width of the image is 1457 3000 respectively\n"
     ]
    }
   ],
   "source": [
    "from PIL import Image\n",
    "\n",
    "img = Image.open('pic.png')\n",
    "h = img.height\n",
    "w = img.width\n",
    "\n",
    "print(f\"Height & Width of the image is {h} { w} respectively\")"
   ]
  },
  {
   "cell_type": "markdown",
   "id": "89b2e4c6",
   "metadata": {},
   "source": [
    "### Q5. What method would you call to get Image object for a 100×100 image, excluding the lower-left quarter of it?"
   ]
  },
  {
   "cell_type": "code",
   "execution_count": 11,
   "id": "7f8ad9c7",
   "metadata": {},
   "outputs": [],
   "source": [
    "from PIL import Image\n",
    "img = Image.open('pic.jpg')\n",
    "new_img = img.crop((0,50,50,50))"
   ]
  },
  {
   "cell_type": "markdown",
   "id": "3a3abae2",
   "metadata": {},
   "source": [
    "### Q6. After making changes to an Image object, how could you save it as an image file?"
   ]
  },
  {
   "cell_type": "code",
   "execution_count": 12,
   "id": "d8997da6",
   "metadata": {},
   "outputs": [],
   "source": [
    "# creating a image object (main image) \n",
    "im1 = Image.open('pic.png') \n",
    "  \n",
    "# save a image using extension\n",
    "im1 = im1.save(\"net.png\")"
   ]
  },
  {
   "cell_type": "markdown",
   "id": "532892fb",
   "metadata": {},
   "source": [
    "**.save() method** followed by a file name is used to save an image after a change is made.\n",
    "\n",
    "### Q7. What module contains Pillow’s shape-drawing code?"
   ]
  },
  {
   "cell_type": "code",
   "execution_count": 13,
   "id": "dbfb67c6",
   "metadata": {},
   "outputs": [],
   "source": [
    "from PIL import Image, ImageDraw\n",
    "\n",
    "im = Image.new('RGB', (500, 300), (128, 128, 128))\n",
    "draw = ImageDraw.Draw(im)"
   ]
  },
  {
   "cell_type": "markdown",
   "id": "81903c31",
   "metadata": {},
   "source": [
    "From the PIL; ImageDraw module is used for shape drawing code.\n",
    "\n",
    "### Q8. Image objects do not have drawing methods. What kind of object does? How do you get this kind of object?\n",
    "\n",
    "**Ans:** ImageDraw objects have shape-drawing methods such as **point()**, **line()**, or **rectangle()**.They are returned by passing the Image object to the **ImageDraw.Draw()** function."
   ]
  }
 ],
 "metadata": {
  "kernelspec": {
   "display_name": "Python 3",
   "language": "python",
   "name": "python3"
  },
  "language_info": {
   "codemirror_mode": {
    "name": "ipython",
    "version": 3
   },
   "file_extension": ".py",
   "mimetype": "text/x-python",
   "name": "python",
   "nbconvert_exporter": "python",
   "pygments_lexer": "ipython3",
   "version": "3.8.8"
  }
 },
 "nbformat": 4,
 "nbformat_minor": 5
}
