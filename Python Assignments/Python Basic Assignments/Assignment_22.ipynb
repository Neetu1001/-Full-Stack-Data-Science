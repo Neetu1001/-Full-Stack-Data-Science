{
 "cells": [
  {
   "cell_type": "markdown",
   "id": "af956bc8",
   "metadata": {},
   "source": [
    "## Assignment - 22\n",
    "\n",
    "### Q1. What is the result of the code, and explain?\n",
    "\n",
    "    X = 'iNeuron'\n",
    "    def func():\n",
    "        print(X)"
   ]
  },
  {
   "cell_type": "code",
   "execution_count": 1,
   "id": "17002387",
   "metadata": {},
   "outputs": [],
   "source": [
    "X = 'iNeuron'\n",
    "def func():\n",
    "    print(X)"
   ]
  },
  {
   "cell_type": "code",
   "execution_count": 2,
   "id": "7e67bfba",
   "metadata": {},
   "outputs": [
    {
     "name": "stdout",
     "output_type": "stream",
     "text": [
      "iNeuron\n"
     ]
    }
   ],
   "source": [
    "func()"
   ]
  },
  {
   "cell_type": "markdown",
   "id": "1d777cee",
   "metadata": {},
   "source": [
    "    The X defined outside the function is accessible everywhere\n",
    "    The same X value is passed to the fuction; so when the function is called; it will return the same value"
   ]
  },
  {
   "cell_type": "markdown",
   "id": "ebb4aad1",
   "metadata": {},
   "source": [
    "### Q2. What is the result of the code, and explain?\n",
    "\n",
    "    X = 'iNeuron'\n",
    "\n",
    "    def func():\n",
    "        X = 'NI!'\n",
    "\n",
    "    func()\n",
    "    print(X)"
   ]
  },
  {
   "cell_type": "code",
   "execution_count": 4,
   "id": "0f9e6a8e",
   "metadata": {},
   "outputs": [
    {
     "name": "stdout",
     "output_type": "stream",
     "text": [
      "Value of X inside a function :: None\n",
      "Value of X publicly defined  :: iNeuron\n"
     ]
    }
   ],
   "source": [
    "X = 'iNeuron'\n",
    "\n",
    "def func():\n",
    "    X = 'NI!'\n",
    "\n",
    "print(f'Value of X inside a function :: {func()}')\n",
    "print(f'Value of X publicly defined  :: {X}')"
   ]
  },
  {
   "cell_type": "markdown",
   "id": "c81464b7",
   "metadata": {},
   "source": [
    "    The X defined outside the function is accessible everywhere\n",
    "    BUT\n",
    "    The X defined within the the function can only be accessed when the function is called\n",
    "    \n",
    "### Q3. What does this code print, and why?\n",
    "\n",
    "    X = 'iNeuron'\n",
    "    def func():\n",
    "        X = 'NI!'\n",
    "        print(X)\n",
    "    func()\n",
    "    print(X)"
   ]
  },
  {
   "cell_type": "code",
   "execution_count": 5,
   "id": "efbfb133",
   "metadata": {},
   "outputs": [
    {
     "name": "stdout",
     "output_type": "stream",
     "text": [
      "NI!\n",
      "iNeuron\n"
     ]
    }
   ],
   "source": [
    "X = 'iNeuron'\n",
    "def func():\n",
    "    X = 'NI!'\n",
    "    print(X)\n",
    "func()\n",
    "print(X)"
   ]
  },
  {
   "cell_type": "markdown",
   "id": "108638a8",
   "metadata": {},
   "source": [
    "    The X defined outside the function is accessible everywhere\n",
    "    so print(X) will print the answers as iNeuron\n",
    "    To add on; this value can be accessible anywhere\n",
    "\n",
    "    BUT\n",
    "\n",
    "    The X defined within the the function can only be accessed when the function is called\n",
    "    Since a seperate value is defined for X within the function it will return the value assigned\n",
    "    i.e. 'NI!'\n",
    "    To add on; this value cannot be accessible outside the function\n",
    "    \n",
    "### Q4. What output does this code produce? Why?\n",
    "\n",
    "    X = 'iNeuron'\n",
    "    def func():\n",
    "        global X\n",
    "        X = 'NI!'\n",
    "        print(X)\n",
    "    func()\n",
    "    print(X)"
   ]
  },
  {
   "cell_type": "code",
   "execution_count": 6,
   "id": "635c62e7",
   "metadata": {},
   "outputs": [
    {
     "name": "stdout",
     "output_type": "stream",
     "text": [
      "NI!\n",
      "NI!\n"
     ]
    }
   ],
   "source": [
    "X = 'iNeuron'\n",
    "def func():\n",
    "    global X\n",
    "    X = 'NI!'\n",
    "    print(X)\n",
    "\n",
    "func()\n",
    "print(X)"
   ]
  },
  {
   "cell_type": "markdown",
   "id": "273fd982",
   "metadata": {},
   "source": [
    "    The X defined within the function is a global variable ; therefore the initial value of x = 'iNeuron' will be overridden\n",
    "    \n",
    "### Q5. What about this code—what’s the output, and why?\n",
    "\n",
    "    X = 'iNeuron'\n",
    "    def func():\n",
    "        X = 'NI'\n",
    "    def nested():\n",
    "        print(X)\n",
    "    nested()\n",
    "    func()\n",
    "    X"
   ]
  },
  {
   "cell_type": "code",
   "execution_count": 8,
   "id": "fcfd6374",
   "metadata": {},
   "outputs": [
    {
     "name": "stdout",
     "output_type": "stream",
     "text": [
      "iNeuron\n",
      "Output of nested function :: None\n",
      "Output of nested function :: None\n",
      "iNeuron\n"
     ]
    }
   ],
   "source": [
    "X = 'iNeuron'\n",
    "def func():\n",
    "    X = 'NI'\n",
    "def nested():\n",
    "    print(X)\n",
    "\n",
    "print(f'Output of nested function :: {nested()}')\n",
    "print(f'Output of nested function :: {func()}')    \n",
    "print(X)"
   ]
  },
  {
   "cell_type": "markdown",
   "id": "84918e93",
   "metadata": {},
   "source": [
    "    The nested() function will print 'iNeuron', \n",
    "    Then func() does not display anything, and x ='NI' is not accessible out side the function.\n",
    "    \n",
    "### Q6. How about this code: what is its output in Python 3, and explain?\n",
    "\n",
    "    X = 'kkl'\n",
    "    def func():\n",
    "        X = 'NI'\n",
    "        def nested():\n",
    "            nonlocal X\n",
    "            X = 'spam'\n",
    "        nested()\n",
    "        print(X)\n",
    "    func()"
   ]
  },
  {
   "cell_type": "code",
   "execution_count": 9,
   "id": "2edda8eb",
   "metadata": {},
   "outputs": [
    {
     "name": "stdout",
     "output_type": "stream",
     "text": [
      "spam\n"
     ]
    }
   ],
   "source": [
    "X = 'kkl'\n",
    "def func():\n",
    "    X = 'NI'\n",
    "    def nested():\n",
    "        nonlocal X\n",
    "        X = 'spam'\n",
    "    nested()\n",
    "    print(X)\n",
    "func()"
   ]
  },
  {
   "cell_type": "markdown",
   "id": "eea39188",
   "metadata": {},
   "source": [
    "    Non-local variables are utilised in nested functions with an undefined local scope.\n",
    "    This indicates the variable can't be in both the local and global scopes. It prints the nested function's updated value."
   ]
  }
 ],
 "metadata": {
  "kernelspec": {
   "display_name": "Python 3",
   "language": "python",
   "name": "python3"
  },
  "language_info": {
   "codemirror_mode": {
    "name": "ipython",
    "version": 3
   },
   "file_extension": ".py",
   "mimetype": "text/x-python",
   "name": "python",
   "nbconvert_exporter": "python",
   "pygments_lexer": "ipython3",
   "version": "3.8.8"
  }
 },
 "nbformat": 4,
 "nbformat_minor": 5
}
