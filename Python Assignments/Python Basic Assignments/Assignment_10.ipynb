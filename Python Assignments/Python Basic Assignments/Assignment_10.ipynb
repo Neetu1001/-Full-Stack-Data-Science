{
 "cells": [
  {
   "cell_type": "markdown",
   "id": "db9eab9b",
   "metadata": {},
   "source": [
    "## Assignment 10\n",
    "\n",
    "### 1. How do you distinguish between shutil.copy() and shutil.copytree()?\n",
    "\n",
    "**Ans:**  \n",
    "\n",
    "**shutil.copy()** ::  will copy a single file from the source location.\n",
    "\n",
    "    whereas\n",
    "\n",
    "**shutil.copytree()** :: will copy the entire folder from the source location including all the files and folders \n",
    "    present within it.\n",
    "\n",
    "### 2. What function is used to rename files?\n",
    "\n",
    "**Ans:** **os.rename()** function is used to rename files or directories using a python program, this function takes two arguments src and dest, src represents the name file/directory which we want to rename, whereas dest represents the new name of the file/directory."
   ]
  },
  {
   "cell_type": "code",
   "execution_count": 30,
   "id": "0305d7a5",
   "metadata": {},
   "outputs": [
    {
     "data": {
      "text/plain": [
       "'C:\\\\Users\\\\hp\\\\OneDrive\\\\Desktop\\\\PC'"
      ]
     },
     "execution_count": 30,
     "metadata": {},
     "output_type": "execute_result"
    }
   ],
   "source": [
    "%pwd"
   ]
  },
  {
   "cell_type": "code",
   "execution_count": 31,
   "id": "16bdfff9",
   "metadata": {},
   "outputs": [],
   "source": [
    "import os\n",
    "os.chdir(r'C:\\Users\\hp\\OneDrive\\Desktop\\FA')"
   ]
  },
  {
   "cell_type": "code",
   "execution_count": 32,
   "id": "6233e98c",
   "metadata": {},
   "outputs": [],
   "source": [
    "os.rename(r'C:\\Users\\hp\\OneDrive\\Desktop\\FA\\fi2.txt', r'C:\\Users\\hp\\OneDrive\\Desktop\\FA\\folder.txt')"
   ]
  },
  {
   "cell_type": "markdown",
   "id": "9afa0a18",
   "metadata": {},
   "source": [
    "### 3. What is the difference between the delete functions in the send2trash and shutil modules?\n",
    "\n",
    "**Ans:** The send2trash functions will move a file or folder to the recycle bin, while shutil functions will permanently delete files and folders."
   ]
  },
  {
   "cell_type": "code",
   "execution_count": 33,
   "id": "498dbed8",
   "metadata": {},
   "outputs": [],
   "source": [
    "import send2trash\n",
    "  \n",
    "send2trash.send2trash(r\"C:\\Users\\hp\\OneDrive\\Desktop\\FA\\fol_to_del.txt\")"
   ]
  },
  {
   "cell_type": "markdown",
   "id": "52c1b421",
   "metadata": {},
   "source": [
    "    file which i have deleted using send2trash, is in my recycle bin"
   ]
  },
  {
   "cell_type": "code",
   "execution_count": 47,
   "id": "e9146df0",
   "metadata": {},
   "outputs": [],
   "source": [
    "import shutil\n",
    "\n",
    "shutil.rmtree(r\"C:\\Users\\hp\\OneDrive\\Desktop\\FA\\fol_to_del.txt\")"
   ]
  },
  {
   "cell_type": "markdown",
   "id": "ba24f628",
   "metadata": {},
   "source": [
    "### 4.ZipFile objects have a close() method just like File objects’ close() method. What ZipFile method is equivalent to File objects’ open() method?\n",
    "\n",
    "**Ans:**  **zipfile.ZipFile(filename,mode)** is equivalent to file object's open() function"
   ]
  },
  {
   "cell_type": "code",
   "execution_count": 49,
   "id": "1a4d5eb5",
   "metadata": {},
   "outputs": [
    {
     "name": "stdout",
     "output_type": "stream",
     "text": [
      "File Name                                             Modified             Size\n",
      "folder.txt                                     2023-02-17 09:40:58           39\n",
      "fol_to_del.txt                                 2023-02-17 15:54:02           22\n",
      "Extracting all the files now...\n",
      "Done!\n"
     ]
    }
   ],
   "source": [
    "from zipfile import ZipFile\n",
    "  \n",
    "file_name = r\"C:\\Users\\hp\\OneDrive\\Desktop\\FA\\ZIP.zip\"\n",
    "  \n",
    "# opening the zip file in READ mode\n",
    "with ZipFile(file_name, 'r') as zip:\n",
    "    # printing all the contents of the zip file\n",
    "    zip.printdir()\n",
    "  \n",
    "    # extracting all the files\n",
    "    print('Extracting all the files now...')\n",
    "    zip.extractall()\n",
    "    print('Done!')"
   ]
  },
  {
   "cell_type": "markdown",
   "id": "0e1de3c2",
   "metadata": {},
   "source": [
    "### 5. Create a programme that searches a folder tree for files with a certain file extension (such as .pdf or .jpg). Copy these files from whatever location they are in to a new folder.\n",
    "\n",
    "**Ans:**"
   ]
  },
  {
   "cell_type": "code",
   "execution_count": 55,
   "id": "470894e5",
   "metadata": {},
   "outputs": [
    {
     "name": "stdout",
     "output_type": "stream",
     "text": [
      "Enter File Type Extension (eg .pdf, .txt): .txt\n",
      "Enter the folder location where you want to search: C:\\Users\\hp\\OneDrive\\Desktop\\FA\n",
      "Enter the folder location where you want to create new folder: \n",
      " C:\\Users\\hp\\OneDrive\\Desktop\\FB\n",
      "[WinError 183] Cannot create a file when that file already exists: 'C:\\\\Users\\\\hp\\\\OneDrive\\\\Desktop\\\\FB\\\\New Folder'\n",
      "Total .txt Files copied :: 1\n"
     ]
    }
   ],
   "source": [
    "import os\n",
    "\n",
    "user_extension = input(\"Enter File Type Extension (eg .pdf, .txt): \")\n",
    "user_file = input(\"Enter the folder location where you want to search: \")\n",
    "\n",
    "os.chdir(user_file)\n",
    "\n",
    "count = 0\n",
    "\n",
    "# New Folder Creation\n",
    "directory = \"New Folder\"\n",
    "new_folder = input(\"Enter the folder location where you want to create new folder: \\n \")\n",
    "os.chdir(new_folder)\n",
    "parent_dir = os.getcwd()\n",
    "path = os.path.join(parent_dir, directory)\n",
    "try:\n",
    "    os.mkdir(path)\n",
    "except Exception as e:\n",
    "    print(e)\n",
    "    \n",
    "for i in os.listdir():\n",
    "    if i.endswith(user_extension):\n",
    "        count+=1\n",
    "        file_path = os.path.join(os.getcwd(), i)\n",
    "        shutil.copy(file_path, path)\n",
    "\n",
    "if count > 0:\n",
    "    print(f'Total {user_extension} Files copied :: {count}')\n",
    "else:\n",
    "    print(f'No {user_extension} Files Found')\n"
   ]
  },
  {
   "cell_type": "code",
   "execution_count": null,
   "id": "46ac5a34",
   "metadata": {},
   "outputs": [],
   "source": []
  }
 ],
 "metadata": {
  "kernelspec": {
   "display_name": "Python 3",
   "language": "python",
   "name": "python3"
  },
  "language_info": {
   "codemirror_mode": {
    "name": "ipython",
    "version": 3
   },
   "file_extension": ".py",
   "mimetype": "text/x-python",
   "name": "python",
   "nbconvert_exporter": "python",
   "pygments_lexer": "ipython3",
   "version": "3.8.8"
  }
 },
 "nbformat": 4,
 "nbformat_minor": 5
}
