{
 "cells": [
  {
   "cell_type": "markdown",
   "id": "7f9b8597",
   "metadata": {},
   "source": [
    "## Assignment 25"
   ]
  },
  {
   "cell_type": "markdown",
   "id": "5aee2c7e",
   "metadata": {},
   "source": [
    "### 1) . What is the difference between enclosing a list comprehension in square brackets and parentheses?\n",
    "**Ans:** \n",
    "\n",
    "    List Comprehension with square brackets produces list.\n",
    "    List Comprehension with parentheses creates generators"
   ]
  },
  {
   "cell_type": "code",
   "execution_count": 1,
   "id": "b4745353-bbeb-46d7-bcab-9f81ab1914b5",
   "metadata": {},
   "outputs": [
    {
     "data": {
      "text/plain": [
       "[0, 1, 2, 3, 4, 5, 6, 7, 8, 9]"
      ]
     },
     "execution_count": 1,
     "metadata": {},
     "output_type": "execute_result"
    }
   ],
   "source": [
    "l = [i for i in range(10)]\n",
    "l"
   ]
  },
  {
   "cell_type": "code",
   "execution_count": 3,
   "id": "30150b28",
   "metadata": {},
   "outputs": [
    {
     "data": {
      "text/plain": [
       "<generator object <genexpr> at 0x00000135A3FFB350>"
      ]
     },
     "execution_count": 3,
     "metadata": {},
     "output_type": "execute_result"
    }
   ],
   "source": [
    "l = (i for i in range(10))\n",
    "l"
   ]
  },
  {
   "cell_type": "markdown",
   "id": "43ead631",
   "metadata": {},
   "source": [
    "### 2) What is the relationship between generators and iterators?\n",
    "**Ans:** \n",
    "\n",
    "**Iterators**\n",
    " - An iterator is a collection of values that may be counted.\n",
    " - An iterator is a type of object that can be iterated over, which means you can go over all of the values.\n",
    " - An iterator is a Python object that implements the iterator protocol, which includes the methods iter() and next().\n",
    "\n",
    "**Generators**\n",
    " - A generator-function is defined similarly to a regular function, except that when it needs to generate a value, \n",
    "   it uses the yield keyword instead of the return keyword.\n",
    " - If yield appears in the body of a def, the function is converted to a generator function."
   ]
  },
  {
   "cell_type": "code",
   "execution_count": 4,
   "id": "475ad9eb-18b8-4e3a-a246-86c341de25ad",
   "metadata": {
    "tags": []
   },
   "outputs": [
    {
     "name": "stdout",
     "output_type": "stream",
     "text": [
      "<class 'list_iterator'>\n",
      "iNeuron\n",
      "Full\n",
      "Stack\n",
      "Data Science\n",
      "<list_iterator object at 0x00000135A401A8B0>\n",
      "0\n",
      "1\n",
      "8\n",
      "27\n",
      "64\n"
     ]
    }
   ],
   "source": [
    "# Example of iterartor\n",
    "iter_str = iter(['iNeuron','Full','Stack','Data Science'])\n",
    "print(type(iter_str))\n",
    "print(next(iter_str))\n",
    "print(next(iter_str))\n",
    "print(next(iter_str))\n",
    "print(next(iter_str))\n",
    "print(iter_str) # After the iterable object is completed, to use them again we have reassign them to the same object.\n",
    "\n",
    "# Example of Generator\n",
    "def cube_numbers(in_num):\n",
    "    for ele in range(in_num+1):\n",
    "        yield ele**3\n",
    "\n",
    "out_num = cube_numbers(4)\n",
    "print(next(out_num))\n",
    "print(next(out_num))\n",
    "print(next(out_num))\n",
    "print(next(out_num))\n",
    "print(next(out_num))"
   ]
  },
  {
   "cell_type": "markdown",
   "id": "c4bd6bf0",
   "metadata": {},
   "source": [
    "### 3) What are the signs that a function is a generator function?\n",
    "**Ans:** \n",
    "\n",
    "- A function becomes a generator function if it contains at least one yield statement \n",
    "   (it may also have other yield or return statements).\n",
    "\n",
    "- From a function, both yield and return will return some value.\n",
    "\n",
    "- It's the same as defining a regular function, but instead of a return statement, you'll use a yield statement.\n"
   ]
  },
  {
   "cell_type": "markdown",
   "id": "b35dd5fe",
   "metadata": {},
   "source": [
    "### 4) What is the purpose of a yield statement?\n",
    "**Ans:** \n",
    "\n",
    "- A function becomes a generator function if it contains at least one yield statement \n",
    "   (it may also have other yield or return statements).\n",
    "\n",
    "- From a function, both yield and return will return some value.\n",
    "\n",
    "- It's the same as defining a regular function, but instead of a return statement, you'll use a yield statement."
   ]
  },
  {
   "cell_type": "markdown",
   "id": "d2182986",
   "metadata": {
    "tags": []
   },
   "source": [
    "### 5) What is the relationship between map calls and list comprehensions? Make a comparison and contrast between the two ?\n",
    "**Ans:** The main differences between map calls and list comprehensiosn are:\n",
    "\n",
    " - When compared to maps, list comprehension is more concise and easier to understand.\n",
    "\n",
    " - Filtering is possible with list comprehension. We don't have such a feature on the map. \n",
    "   For example, we may write [n for n in range(100) if n%2 == 0] to display all even numbers in the range of 100. \n",
    "   There is no other option in the map for it.\n",
    "\n",
    " - Because map only produces a map object and not a list, list comprehension is used when a list of results is required.\n",
    "\n",
    " - When evaluating expressions that are too long or hard to articulate, list comprehension is faster than map \n",
    "   comprehension.\n",
    "\n",
    " - When calling an already declared function, Map is faster (as no lambda is required)."
   ]
  }
 ],
 "metadata": {
  "kernelspec": {
   "display_name": "Python 3",
   "language": "python",
   "name": "python3"
  },
  "language_info": {
   "codemirror_mode": {
    "name": "ipython",
    "version": 3
   },
   "file_extension": ".py",
   "mimetype": "text/x-python",
   "name": "python",
   "nbconvert_exporter": "python",
   "pygments_lexer": "ipython3",
   "version": "3.8.8"
  }
 },
 "nbformat": 4,
 "nbformat_minor": 5
}
