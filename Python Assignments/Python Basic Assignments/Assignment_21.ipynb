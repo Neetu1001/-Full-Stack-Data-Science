{
 "cells": [
  {
   "cell_type": "markdown",
   "id": "a961ff1a",
   "metadata": {},
   "source": [
    "## Assignment 21\n",
    "\n",
    "### Q1. Add the current date to the text file today.txt as a string."
   ]
  },
  {
   "cell_type": "code",
   "execution_count": 6,
   "id": "6749fc02",
   "metadata": {},
   "outputs": [],
   "source": [
    "import datetime\n",
    "\n",
    "todays_date = datetime.datetime.now().strftime('%Y %m %d')"
   ]
  },
  {
   "cell_type": "code",
   "execution_count": 7,
   "id": "6d8a52c5",
   "metadata": {},
   "outputs": [],
   "source": [
    "file = open('today.txt', 'w')\n",
    "file.write(str(todays_date))\n",
    "file.close()"
   ]
  },
  {
   "cell_type": "markdown",
   "id": "0e6084fa",
   "metadata": {},
   "source": [
    "### Q2. Read the text file today.txt into the string today_string"
   ]
  },
  {
   "cell_type": "code",
   "execution_count": 9,
   "id": "1bd2a897",
   "metadata": {},
   "outputs": [
    {
     "name": "stdout",
     "output_type": "stream",
     "text": [
      "2023 02 22\n"
     ]
    }
   ],
   "source": [
    "file = open('today.txt', 'r')\n",
    "today_string = file.read()\n",
    "print(today_string)\n",
    "file.close()"
   ]
  },
  {
   "cell_type": "markdown",
   "id": "8d886b52",
   "metadata": {},
   "source": [
    "### Q3.Parse the date from today_string."
   ]
  },
  {
   "cell_type": "code",
   "execution_count": 10,
   "id": "eab08090",
   "metadata": {},
   "outputs": [
    {
     "data": {
      "text/plain": [
       "datetime.datetime(2023, 2, 22, 0, 0)"
      ]
     },
     "execution_count": 10,
     "metadata": {},
     "output_type": "execute_result"
    }
   ],
   "source": [
    "datetime.datetime.strptime(today_string,\"%Y %m %d\")"
   ]
  },
  {
   "cell_type": "markdown",
   "id": "53290af4",
   "metadata": {},
   "source": [
    "### Q4. List the files in your current directory"
   ]
  },
  {
   "cell_type": "code",
   "execution_count": 12,
   "id": "14e0a8bf",
   "metadata": {},
   "outputs": [
    {
     "data": {
      "text/plain": [
       "['.ipynb_checkpoints',\n",
       " 'application_log.txt',\n",
       " 'Assignment_01.ipynb',\n",
       " 'Assignment_02.ipynb',\n",
       " 'Assignment_03.ipynb',\n",
       " 'Assignment_04.ipynb',\n",
       " 'Assignment_05.ipynb',\n",
       " 'Assignment_06.ipynb',\n",
       " 'Assignment_07.ipynb',\n",
       " 'Assignment_08.ipynb',\n",
       " 'Assignment_09.ipynb',\n",
       " 'Assignment_10.ipynb',\n",
       " 'Assignment_11.ipynb',\n",
       " 'Assignment_12.ipynb',\n",
       " 'Assignment_13.ipynb',\n",
       " 'Assignment_14.ipynb',\n",
       " 'Assignment_15.ipynb',\n",
       " 'Assignment_16.ipynb',\n",
       " 'Assignment_17.ipynb',\n",
       " 'Assignment_18.ipynb',\n",
       " 'Assignment_19.ipynb',\n",
       " 'Assignment_20.ipynb',\n",
       " 'book.db',\n",
       " 'books.csv',\n",
       " 'books.db',\n",
       " 'comp.pdf',\n",
       " 'net.png',\n",
       " 'pic.jpg',\n",
       " 'pic.png',\n",
       " 'realestate.csv',\n",
       " 'sample_test.docx',\n",
       " 'sample_test1.docx',\n",
       " 'test.docx',\n",
       " 'test.txt',\n",
       " 'today.txt',\n",
       " 'university_records.csv',\n",
       " 'Untitled.ipynb',\n",
       " 'zoo.py',\n",
       " '__pycache__']"
      ]
     },
     "execution_count": 12,
     "metadata": {},
     "output_type": "execute_result"
    }
   ],
   "source": [
    "import os\n",
    "os.listdir()"
   ]
  },
  {
   "cell_type": "markdown",
   "id": "7241b6ee",
   "metadata": {},
   "source": [
    "### Q5. Create a list of all of the files in your parent directory (minimum five files should be available)."
   ]
  },
  {
   "cell_type": "code",
   "execution_count": 13,
   "id": "0ae40d26",
   "metadata": {},
   "outputs": [
    {
     "name": "stdout",
     "output_type": "stream",
     "text": [
      "['.ipynb_checkpoints', 'application_log.txt', 'Assignment_01.ipynb', 'Assignment_02.ipynb', 'Assignment_03.ipynb', 'Assignment_04.ipynb', 'Assignment_05.ipynb', 'Assignment_06.ipynb', 'Assignment_07.ipynb', 'Assignment_08.ipynb', 'Assignment_09.ipynb', 'Assignment_10.ipynb', 'Assignment_11.ipynb', 'Assignment_12.ipynb', 'Assignment_13.ipynb', 'Assignment_14.ipynb', 'Assignment_15.ipynb', 'Assignment_16.ipynb', 'Assignment_17.ipynb', 'Assignment_18.ipynb', 'Assignment_19.ipynb', 'Assignment_20.ipynb', 'book.db', 'books.csv', 'books.db', 'comp.pdf', 'net.png', 'pic.jpg', 'pic.png', 'realestate.csv', 'sample_test.docx', 'sample_test1.docx', 'test.docx', 'test.txt', 'today.txt', 'university_records.csv', 'Untitled.ipynb', 'zoo.py', '__pycache__']\n"
     ]
    }
   ],
   "source": [
    "file_list = []\n",
    "\n",
    "for f in os.listdir():\n",
    "    file_list.append(f)\n",
    "    \n",
    "print(file_list)"
   ]
  },
  {
   "cell_type": "markdown",
   "id": "a72fd18a",
   "metadata": {},
   "source": [
    "### Q6. Use multiprocessing to create three separate processes. Make each one wait a random number of seconds between one and five, print the current time, and then exit."
   ]
  },
  {
   "cell_type": "code",
   "execution_count": 14,
   "id": "8af3f231",
   "metadata": {},
   "outputs": [
    {
     "name": "stdout",
     "output_type": "stream",
     "text": [
      "Hii This is task - 1\n",
      "2023-02-22 10:24:09.494141\n",
      "\n",
      "Hii This is task - 2\n",
      "2023-02-22 10:24:19.500538\n",
      "\n",
      "Hii This is task - 3\n",
      "2023-02-22 10:24:29.511447\n"
     ]
    }
   ],
   "source": [
    "import time\n",
    "print('Hii This is task - 1')\n",
    "print(datetime.datetime.now())\n",
    "\n",
    "time.sleep(10)\n",
    "\n",
    "print(f'\\nHii This is task - 2')\n",
    "print(datetime.datetime.now())\n",
    "\n",
    "time.sleep(10)\n",
    "\n",
    "print(f'\\nHii This is task - 3')\n",
    "print(datetime.datetime.now())"
   ]
  },
  {
   "cell_type": "markdown",
   "id": "69dbca5a",
   "metadata": {},
   "source": [
    "### Q7. Create a date object of your day of birth."
   ]
  },
  {
   "cell_type": "code",
   "execution_count": 15,
   "id": "ce37df7e",
   "metadata": {},
   "outputs": [],
   "source": [
    "dob = datetime.date(1996,1,10)"
   ]
  },
  {
   "cell_type": "code",
   "execution_count": 16,
   "id": "250ced6f",
   "metadata": {},
   "outputs": [
    {
     "name": "stdout",
     "output_type": "stream",
     "text": [
      "DOB :: 1996-01-10\n"
     ]
    }
   ],
   "source": [
    "print(\"DOB :: {}\".format(dob))"
   ]
  }
 ],
 "metadata": {
  "kernelspec": {
   "display_name": "Python 3",
   "language": "python",
   "name": "python3"
  },
  "language_info": {
   "codemirror_mode": {
    "name": "ipython",
    "version": 3
   },
   "file_extension": ".py",
   "mimetype": "text/x-python",
   "name": "python",
   "nbconvert_exporter": "python",
   "pygments_lexer": "ipython3",
   "version": "3.8.8"
  }
 },
 "nbformat": 4,
 "nbformat_minor": 5
}
