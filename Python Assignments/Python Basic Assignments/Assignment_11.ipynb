{
 "cells": [
  {
   "cell_type": "markdown",
   "id": "d79e343c",
   "metadata": {},
   "source": [
    "## Assignment 11\n",
    "\n",
    "### Q1. Create an assert statement that throws an AssertionError if the variable spam is a negative integer.\n",
    "\n",
    "**Ans:** The **assert command** checks whether the statement is true or false\n",
    "\n",
    "    If the condition is True; it will continue to execute the following statement\n",
    "    If the condition is False; it will give an AssertionError message"
   ]
  },
  {
   "cell_type": "code",
   "execution_count": 8,
   "id": "05eff628",
   "metadata": {},
   "outputs": [
    {
     "name": "stdout",
     "output_type": "stream",
     "text": [
      "Enter the positive number :: 56\n"
     ]
    }
   ],
   "source": [
    "# Method 1 for taking user input\n",
    "spam = int(input('Enter the positive number :: '))\n",
    "assert spam > 0"
   ]
  },
  {
   "cell_type": "code",
   "execution_count": 9,
   "id": "aeb3eb4e",
   "metadata": {},
   "outputs": [
    {
     "name": "stdout",
     "output_type": "stream",
     "text": [
      "Enter the number :: neetu\n",
      "'neetu' is not an integer.\n",
      "Enter the number :: -54\n"
     ]
    },
    {
     "ename": "AssertionError",
     "evalue": "",
     "output_type": "error",
     "traceback": [
      "\u001b[1;31m---------------------------------------------------------------------------\u001b[0m",
      "\u001b[1;31mAssertionError\u001b[0m                            Traceback (most recent call last)",
      "Cell \u001b[1;32mIn[9], line 5\u001b[0m\n\u001b[0;32m      2\u001b[0m \u001b[38;5;28;01mimport\u001b[39;00m \u001b[38;5;21;01mpyinputplus\u001b[39;00m \u001b[38;5;28;01mas\u001b[39;00m \u001b[38;5;21;01mpyip\u001b[39;00m\n\u001b[0;32m      4\u001b[0m spam \u001b[38;5;241m=\u001b[39m pyip\u001b[38;5;241m.\u001b[39minputInt(\u001b[38;5;124m\"\u001b[39m\u001b[38;5;124mEnter the number :: \u001b[39m\u001b[38;5;124m\"\u001b[39m)\n\u001b[1;32m----> 5\u001b[0m \u001b[38;5;28;01massert\u001b[39;00m spam \u001b[38;5;241m>\u001b[39m \u001b[38;5;241m0\u001b[39m\n",
      "\u001b[1;31mAssertionError\u001b[0m: "
     ]
    }
   ],
   "source": [
    "# Method 2 for taking user input\n",
    "import pyinputplus as pyip\n",
    "\n",
    "spam = pyip.inputInt(\"Enter the number :: \")\n",
    "assert spam > 0"
   ]
  },
  {
   "cell_type": "markdown",
   "id": "8e8874f1",
   "metadata": {},
   "source": [
    "### Q2. Write an assert statement that triggers an AssertionError if the variables eggs and bacon contain strings that are the same as each other, even if their cases are different (that is, 'hello' and 'hello' are considered the same, and 'goodbye' and 'GOODbye' are also considered the same)."
   ]
  },
  {
   "cell_type": "code",
   "execution_count": 10,
   "id": "2456161e",
   "metadata": {},
   "outputs": [],
   "source": [
    "def raise_assert(eggs, bacon):\n",
    "    eggs = eggs.upper()\n",
    "    bacon = bacon.upper()\n",
    "    assert not(bacon == eggs), 'Eggs and Bacon should not be same which are same now'"
   ]
  },
  {
   "cell_type": "code",
   "execution_count": 11,
   "id": "6334fd5f",
   "metadata": {},
   "outputs": [
    {
     "ename": "AssertionError",
     "evalue": "Eggs and Bacon should not be same which are same now",
     "output_type": "error",
     "traceback": [
      "\u001b[1;31m---------------------------------------------------------------------------\u001b[0m",
      "\u001b[1;31mAssertionError\u001b[0m                            Traceback (most recent call last)",
      "Cell \u001b[1;32mIn[11], line 1\u001b[0m\n\u001b[1;32m----> 1\u001b[0m \u001b[43mraise_assert\u001b[49m\u001b[43m(\u001b[49m\u001b[38;5;124;43m\"\u001b[39;49m\u001b[38;5;124;43mHello\u001b[39;49m\u001b[38;5;124;43m\"\u001b[39;49m\u001b[43m,\u001b[49m\u001b[43m \u001b[49m\u001b[38;5;124;43m\"\u001b[39;49m\u001b[38;5;124;43mheLlo\u001b[39;49m\u001b[38;5;124;43m\"\u001b[39;49m\u001b[43m)\u001b[49m\n",
      "Cell \u001b[1;32mIn[10], line 4\u001b[0m, in \u001b[0;36mraise_assert\u001b[1;34m(eggs, bacon)\u001b[0m\n\u001b[0;32m      2\u001b[0m eggs \u001b[38;5;241m=\u001b[39m eggs\u001b[38;5;241m.\u001b[39mupper()\n\u001b[0;32m      3\u001b[0m bacon \u001b[38;5;241m=\u001b[39m bacon\u001b[38;5;241m.\u001b[39mupper()\n\u001b[1;32m----> 4\u001b[0m \u001b[38;5;28;01massert\u001b[39;00m \u001b[38;5;129;01mnot\u001b[39;00m(bacon \u001b[38;5;241m==\u001b[39m eggs), \u001b[38;5;124m'\u001b[39m\u001b[38;5;124mEggs and Bacon should not be same which are same now\u001b[39m\u001b[38;5;124m'\u001b[39m\n",
      "\u001b[1;31mAssertionError\u001b[0m: Eggs and Bacon should not be same which are same now"
     ]
    }
   ],
   "source": [
    "raise_assert(\"Hello\", \"heLlo\")"
   ]
  },
  {
   "cell_type": "markdown",
   "id": "8e45111d",
   "metadata": {},
   "source": [
    "### Q3. Create an assert statement that throws an AssertionError every time.\n",
    "\n",
    "    As assert statement checks the condition stmt is True or False\n",
    "    So if I give the condition False; it will always give an error"
   ]
  },
  {
   "cell_type": "code",
   "execution_count": 12,
   "id": "799b76e5",
   "metadata": {},
   "outputs": [
    {
     "ename": "AssertionError",
     "evalue": "False Condition",
     "output_type": "error",
     "traceback": [
      "\u001b[1;31m---------------------------------------------------------------------------\u001b[0m",
      "\u001b[1;31mAssertionError\u001b[0m                            Traceback (most recent call last)",
      "Cell \u001b[1;32mIn[12], line 1\u001b[0m\n\u001b[1;32m----> 1\u001b[0m \u001b[38;5;28;01massert\u001b[39;00m \u001b[38;5;28;01mFalse\u001b[39;00m, \u001b[38;5;124m\"\u001b[39m\u001b[38;5;124mFalse Condition\u001b[39m\u001b[38;5;124m\"\u001b[39m\n",
      "\u001b[1;31mAssertionError\u001b[0m: False Condition"
     ]
    }
   ],
   "source": [
    "assert False, \"False Condition\""
   ]
  },
  {
   "cell_type": "markdown",
   "id": "248285a5",
   "metadata": {},
   "source": [
    "### Q4. What are the two lines that must be present in your software in order to call logging.debug()?\n",
    "    1. Importing the logging module\n",
    "    2. logging.basicConfig() is second statement required before calling the logging.debug() command"
   ]
  },
  {
   "cell_type": "code",
   "execution_count": 14,
   "id": "1bfbad2f",
   "metadata": {},
   "outputs": [
    {
     "data": {
      "text/plain": [
       "'\\nFormat contain:\\n    asctime --> Current time\\n    levelname --> type of logging\\n    message --> the msg you want to display\\n'"
      ]
     },
     "execution_count": 14,
     "metadata": {},
     "output_type": "execute_result"
    }
   ],
   "source": [
    "import logging as log\n",
    "\n",
    "log.basicConfig(level = log.DEBUG, format = '%(asctime)s - %(levelname)s - %(message)s')\n",
    "\n",
    "'''\n",
    "Format contain:\n",
    "    asctime --> Current time\n",
    "    levelname --> type of logging\n",
    "    message --> the msg you want to display\n",
    "'''"
   ]
  },
  {
   "cell_type": "markdown",
   "id": "6ac9ab14",
   "metadata": {},
   "source": [
    "### Q5. What are the two lines that your program must have in order to have logging.debug() send a logging message to a file named programLog.txt?"
   ]
  },
  {
   "cell_type": "code",
   "execution_count": 1,
   "id": "68fa0799",
   "metadata": {},
   "outputs": [],
   "source": [
    "import logging\n",
    "logging.basicConfig(filename = 'application_log.txt',level=logging.DEBUG, format=' %(asctime)s - %(levelname)s - %(message)s')\n",
    "logging.debug(\"Data Inserted Successfully\")\n",
    "logging.debug('Connection Closed Successfully')"
   ]
  },
  {
   "cell_type": "code",
   "execution_count": 2,
   "id": "5859fb90",
   "metadata": {},
   "outputs": [
    {
     "name": "stdout",
     "output_type": "stream",
     "text": [
      " 2023-02-17 19:43:04,727 - DEBUG - Data Inserted Successfully\n",
      "\n",
      " 2023-02-17 19:43:04,729 - DEBUG - Connection Closed Successfully\n",
      "\n"
     ]
    }
   ],
   "source": [
    "file = open(\"./application_log.txt\",\"r\")\n",
    "for record in file.readlines():\n",
    "    print(record)"
   ]
  },
  {
   "cell_type": "markdown",
   "id": "dfa4861f",
   "metadata": {},
   "source": [
    "### Q6. 6. What are the five levels of logging?\n",
    "\n",
    "**Ans:**  Five Levels of Logging\n",
    "1. DEBUG\n",
    "2. INFO\n",
    "3. WARNING\n",
    "4. ERROR\n",
    "5. CRITICAL                            "
   ]
  },
  {
   "cell_type": "markdown",
   "id": "9a4a9f47",
   "metadata": {},
   "source": [
    "### Q7. What line of code would you add to your software to disable all logging messages?\n",
    "\n",
    "**Ans:**  **logging.disable(level)** :: will disable all the logging message severity 'level' and below.\n",
    "        \n",
    "        set level = lg.CRITICAL\n",
    "        level = lg.CRITICAL has the highest priority of logging;\n",
    "                so all the other levels will automatically be disabled"
   ]
  },
  {
   "cell_type": "code",
   "execution_count": 3,
   "id": "3f9f629a",
   "metadata": {},
   "outputs": [],
   "source": [
    "import logging as lg\n",
    "\n",
    "lg.disable(level = lg.CRITICAL)"
   ]
  },
  {
   "cell_type": "markdown",
   "id": "cf17cf70",
   "metadata": {},
   "source": [
    "### Q8. Why is using logging messages better than using print() to display the same message?\n",
    "\n",
    "    1. Logging can define what kind of information we want to include into our logging system.\n",
    "    2. Using Logging; we can also log the severity level of the data.\n",
    "    3. Timestamp can also be logged using logging\n",
    "    4. Post devlopment of your code, you can disable logging messages without removing the logging function, whereas you need to manually remove print() statements, which is tedious activity. \n",
    "\n",
    "All this cannot be done using the print() function\n"
   ]
  },
  {
   "cell_type": "markdown",
   "id": "83643e17",
   "metadata": {},
   "source": [
    "### Q9.What are the differences between the Step Over, Step In, and Step Out buttons in the debugger?\n",
    "\n",
    "**Ans:** \n",
    "\n",
    "1. **Step Into:** A method is about to be invoked, and you want to debug into the code of that method, so the next step is to go into that method and continue debugging step-by-step.\n",
    "\n",
    "\n",
    "2. **Step Over:** A method is about to be invoked, but you're not interested in debugging this particular invocation, so you want the debugger to execute that method completely as one entire step.\n",
    "\n",
    "\n",
    "3. **Step Return:** You're done debugging this method step-by-step, and you just want the debugger to run the entire method until it returns as one entire step."
   ]
  },
  {
   "cell_type": "markdown",
   "id": "90be02cd",
   "metadata": {},
   "source": [
    "### Q10. After you click Continue, when will the debugger stop ?\n",
    "\n",
    "**Ans:**\n",
    "\n",
    "    It will stop at the next breakpoint.\n",
    "    If the breakpoint is not present within the code; it will execute the whole program."
   ]
  },
  {
   "cell_type": "markdown",
   "id": "af1223b3",
   "metadata": {},
   "source": [
    "### Q11. What is the concept of a breakpoint?\n",
    "\n",
    "**Ans:**  **Breakpoint** is used to interrupt the running program immediately before the implementation of specified instruction.\n"
   ]
  }
 ],
 "metadata": {
  "kernelspec": {
   "display_name": "Python 3",
   "language": "python",
   "name": "python3"
  },
  "language_info": {
   "codemirror_mode": {
    "name": "ipython",
    "version": 3
   },
   "file_extension": ".py",
   "mimetype": "text/x-python",
   "name": "python",
   "nbconvert_exporter": "python",
   "pygments_lexer": "ipython3",
   "version": "3.8.8"
  }
 },
 "nbformat": 4,
 "nbformat_minor": 5
}
