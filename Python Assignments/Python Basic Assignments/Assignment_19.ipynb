{
 "cells": [
  {
   "cell_type": "markdown",
   "id": "55ae4308",
   "metadata": {},
   "source": [
    "## Assignment 19\n",
    "\n",
    "### 1. Make a class called Thing with no contents and print it. Then, create an object called example from this class and also print it. Are the printed values the same or different?"
   ]
  },
  {
   "cell_type": "code",
   "execution_count": 1,
   "id": "0f188b1e",
   "metadata": {},
   "outputs": [
    {
     "name": "stdout",
     "output_type": "stream",
     "text": [
      "<class '__main__.Thing'>\n"
     ]
    }
   ],
   "source": [
    "class Thing:\n",
    "    pass\n",
    "\n",
    "print(Thing)"
   ]
  },
  {
   "cell_type": "code",
   "execution_count": 2,
   "id": "57ffddf9",
   "metadata": {},
   "outputs": [
    {
     "name": "stdout",
     "output_type": "stream",
     "text": [
      "<__main__.Thing object at 0x0000025E13318F40>\n"
     ]
    }
   ],
   "source": [
    "example = Thing()\n",
    "print(example)"
   ]
  },
  {
   "cell_type": "markdown",
   "id": "8c19b141",
   "metadata": {},
   "source": [
    "### 2. Create a new class called Thing2 and add the value 'abc' to the letters class attribute. Letters should be printed."
   ]
  },
  {
   "cell_type": "code",
   "execution_count": 3,
   "id": "6c16fb8a",
   "metadata": {},
   "outputs": [],
   "source": [
    "class Thing2:\n",
    "    letters = 'abc'"
   ]
  },
  {
   "cell_type": "code",
   "execution_count": 4,
   "id": "077ee15c",
   "metadata": {},
   "outputs": [
    {
     "name": "stdout",
     "output_type": "stream",
     "text": [
      "abc\n"
     ]
    }
   ],
   "source": [
    "print(Thing2.letters)"
   ]
  },
  {
   "cell_type": "markdown",
   "id": "efd4f6a7",
   "metadata": {},
   "source": [
    "### 3. Make yet another class called, of course, Thing3. This time, assign the value 'xyz' to an instance (object) attribute called letters. Print letters. Do you need to make an object from the class to do this?"
   ]
  },
  {
   "cell_type": "code",
   "execution_count": 9,
   "id": "ca16380e",
   "metadata": {},
   "outputs": [],
   "source": [
    "class Thing3:    \n",
    "    def __init__(self):\n",
    "        self.letters = 'xyz'"
   ]
  },
  {
   "cell_type": "code",
   "execution_count": 8,
   "id": "5b53eb25",
   "metadata": {},
   "outputs": [
    {
     "name": "stdout",
     "output_type": "stream",
     "text": [
      "xyz\n"
     ]
    }
   ],
   "source": [
    "try:        \n",
    "    print(Thing3.letters) # Will raise a syntax Error\n",
    "except:\n",
    "    my_thing = Thing3()\n",
    "    print(my_thing.letters)"
   ]
  },
  {
   "cell_type": "markdown",
   "id": "46d22a0a",
   "metadata": {},
   "source": [
    "### 4. Create an Element class with the instance attributes name, symbol, and number. Create a class object with the values 'Hydrogen,' 'H,' and 1."
   ]
  },
  {
   "cell_type": "code",
   "execution_count": 11,
   "id": "4c77b826",
   "metadata": {},
   "outputs": [],
   "source": [
    "class Element:\n",
    "    def __init__(self, name, symbol, number):\n",
    "        self.name = name\n",
    "        self.symbol = symbol\n",
    "        self.number = number"
   ]
  },
  {
   "cell_type": "code",
   "execution_count": 12,
   "id": "cdfef6b1",
   "metadata": {},
   "outputs": [],
   "source": [
    "chem = Element('Hydrogen', 'H', 1)"
   ]
  },
  {
   "cell_type": "markdown",
   "id": "3b4ed907",
   "metadata": {},
   "source": [
    "### 5. Make a dictionary with these keys and values: 'name': 'Hydrogen', 'symbol': 'H', 'number': 1. Then, create an object called hydrogen from class Element using this dictionary."
   ]
  },
  {
   "cell_type": "code",
   "execution_count": 13,
   "id": "7f1a8632",
   "metadata": {},
   "outputs": [],
   "source": [
    "element = {'name':'Hydrogen', 'symbol':'H', 'number': 1}"
   ]
  },
  {
   "cell_type": "code",
   "execution_count": 15,
   "id": "a732444e",
   "metadata": {},
   "outputs": [
    {
     "name": "stdout",
     "output_type": "stream",
     "text": [
      "Using Method #1 ->\tHydrogen\tH\t1\n"
     ]
    }
   ],
   "source": [
    "# Method 1\n",
    "hydrogen = Element(*element.values())\n",
    "print('Using Method #1 ->',hydrogen.name,hydrogen.symbol,hydrogen.number, sep='\\t')"
   ]
  },
  {
   "cell_type": "code",
   "execution_count": 16,
   "id": "1ca69807",
   "metadata": {},
   "outputs": [
    {
     "name": "stdout",
     "output_type": "stream",
     "text": [
      "Using Method #2 ->\tHydrogen\tH\t1\n"
     ]
    }
   ],
   "source": [
    "# Method 2\n",
    "hydrogen = Element(**element)\n",
    "print('Using Method #2 ->',hydrogen.name,hydrogen.symbol,hydrogen.number, sep='\\t')"
   ]
  },
  {
   "cell_type": "markdown",
   "id": "bbbeb1a4",
   "metadata": {},
   "source": [
    "### Q6. For the Element class, define a method called dump() that prints the values of the object’s attributes (name, symbol, and number). Create the hydrogen object from this new definition and use dump() to print its attributes."
   ]
  },
  {
   "cell_type": "code",
   "execution_count": 17,
   "id": "eec3e39b",
   "metadata": {},
   "outputs": [],
   "source": [
    "class element:\n",
    "    def __init__(self, name, symbol, number):\n",
    "        self.name = name\n",
    "        self.symbol = symbol\n",
    "        self.number = number\n",
    "    \n",
    "    def dump(self):\n",
    "        print(f'Name: {self.name}  \\tSymbol: {self.symbol}  \\tNumber: {self.number}')"
   ]
  },
  {
   "cell_type": "code",
   "execution_count": 18,
   "id": "76b792fa",
   "metadata": {},
   "outputs": [],
   "source": [
    "chem = element(\"Hydrogen\", \"H\", 1)"
   ]
  },
  {
   "cell_type": "code",
   "execution_count": 19,
   "id": "e31bea24",
   "metadata": {},
   "outputs": [
    {
     "name": "stdout",
     "output_type": "stream",
     "text": [
      "Name: Hydrogen  \tSymbol: H  \tNumber: 1\n"
     ]
    }
   ],
   "source": [
    "chem.dump()"
   ]
  },
  {
   "cell_type": "markdown",
   "id": "82ef0ff7",
   "metadata": {},
   "source": [
    "### Q7. Call print(hydrogen). In the definition of Element, change the name of method dump to __str__, create a new hydrogen object, and call print(hydrogen) again."
   ]
  },
  {
   "cell_type": "code",
   "execution_count": 20,
   "id": "fed71cbc",
   "metadata": {},
   "outputs": [],
   "source": [
    "class Element():\n",
    "    def __init__(self, name, symbol, number):\n",
    "        self.name = name\n",
    "        self.symbol = symbol\n",
    "        self.number = number\n",
    "    \n",
    "    def __str__(self):\n",
    "        return f'Name : {self.name} \\tSymbol : {self.symbol} \\tNumber:{self.number}'"
   ]
  },
  {
   "cell_type": "code",
   "execution_count": 29,
   "id": "60c2111d",
   "metadata": {},
   "outputs": [
    {
     "name": "stdout",
     "output_type": "stream",
     "text": [
      "Name : Hydrogen \tSymbol : H \tNumber:1\n"
     ]
    }
   ],
   "source": [
    "hydrogen = Element('Hydrogen', 'H', 1)\n",
    "print(hydrogen)"
   ]
  },
  {
   "cell_type": "markdown",
   "id": "5a1d5213",
   "metadata": {},
   "source": [
    "### Q8. Modify Element to make the attributes name, symbol, and number private. Define a getter property for each to return its value."
   ]
  },
  {
   "cell_type": "code",
   "execution_count": 31,
   "id": "7c41b036",
   "metadata": {},
   "outputs": [
    {
     "data": {
      "text/plain": [
       "{'_Element__name': 'Oxygen', '_Element__symbol': 'O2', '_Element__number': 2}"
      ]
     },
     "execution_count": 31,
     "metadata": {},
     "output_type": "execute_result"
    }
   ],
   "source": [
    "class Element():\n",
    "    def __init__(self, name, symbol, number):\n",
    "        self.__name = name\n",
    "        self.__symbol = symbol\n",
    "        self.__number = number\n",
    "        \n",
    "    def name(self):\n",
    "        return self.__name\n",
    "    \n",
    "    def symbol(self):\n",
    "        return self.__symbol\n",
    "    \n",
    "    def number(self):\n",
    "        return self.__number\n",
    "\n",
    "obj = Element('Oxygen', 'O2', 2)\n",
    "obj.__dict__"
   ]
  },
  {
   "cell_type": "code",
   "execution_count": 32,
   "id": "c707979f",
   "metadata": {},
   "outputs": [
    {
     "data": {
      "text/plain": [
       "'Oxygen'"
      ]
     },
     "metadata": {},
     "output_type": "display_data"
    },
    {
     "data": {
      "text/plain": [
       "'O2'"
      ]
     },
     "metadata": {},
     "output_type": "display_data"
    },
    {
     "data": {
      "text/plain": [
       "2"
      ]
     },
     "metadata": {},
     "output_type": "display_data"
    }
   ],
   "source": [
    "# Accessing through Class Functions\n",
    "display(obj3.name())\n",
    "display(obj3.symbol())\n",
    "display(obj3.number())"
   ]
  },
  {
   "cell_type": "code",
   "execution_count": 33,
   "id": "c62e50bf",
   "metadata": {},
   "outputs": [
    {
     "data": {
      "text/plain": [
       "'Oxygen'"
      ]
     },
     "metadata": {},
     "output_type": "display_data"
    },
    {
     "data": {
      "text/plain": [
       "'O2'"
      ]
     },
     "metadata": {},
     "output_type": "display_data"
    },
    {
     "data": {
      "text/plain": [
       "2"
      ]
     },
     "metadata": {},
     "output_type": "display_data"
    }
   ],
   "source": [
    "# Accessing through Class Attribute\n",
    "display(obj3._Element__name)\n",
    "\n",
    "display(obj3._Element__symbol)\n",
    "\n",
    "display(obj3._Element__number)"
   ]
  },
  {
   "cell_type": "markdown",
   "id": "9f28ca56",
   "metadata": {},
   "source": [
    "### Q9. Define three classes: Bear, Rabbit, and Octothorpe. For each, define only one method: eats(). This should return 'berries' (Bear), 'clover' (Rabbit), or 'campers' (Octothorpe). Create one object from each and print what it eats."
   ]
  },
  {
   "cell_type": "code",
   "execution_count": 34,
   "id": "5073678c",
   "metadata": {},
   "outputs": [],
   "source": [
    "class Bear:\n",
    "    def eats(self):\n",
    "        return 'berries'\n",
    "\n",
    "class Rabbit:\n",
    "    def eats(self):\n",
    "        return 'clover'\n",
    "\n",
    "class Octothorpe:\n",
    "    def eats(self):\n",
    "        return 'campers'"
   ]
  },
  {
   "cell_type": "code",
   "execution_count": 35,
   "id": "4f58487d",
   "metadata": {},
   "outputs": [
    {
     "data": {
      "text/plain": [
       "'berries'"
      ]
     },
     "metadata": {},
     "output_type": "display_data"
    },
    {
     "data": {
      "text/plain": [
       "'clover'"
      ]
     },
     "metadata": {},
     "output_type": "display_data"
    },
    {
     "data": {
      "text/plain": [
       "'campers'"
      ]
     },
     "metadata": {},
     "output_type": "display_data"
    }
   ],
   "source": [
    "b = Bear()\n",
    "display(b.eats())\n",
    "\n",
    "r = Rabbit()\n",
    "display(r.eats())\n",
    "\n",
    "o = Octothorpe()\n",
    "display(o.eats())"
   ]
  },
  {
   "cell_type": "markdown",
   "id": "37a1ac9d",
   "metadata": {},
   "source": [
    "### Q10. Define these classes: Laser, Claw, and SmartPhone. Each has only one method: does(). This returns 'disintegrate' (Laser), 'crush' (Claw), or 'ring' (SmartPhone). Then, define the class Robot that has one instance (object) of each of these. Define a does() method for the Robot that prints what its component objects do."
   ]
  },
  {
   "cell_type": "code",
   "execution_count": 42,
   "id": "2b75cc9d",
   "metadata": {},
   "outputs": [],
   "source": [
    "class Laser:\n",
    "    def does(self):\n",
    "        return 'disintegrate'\n",
    "\n",
    "class Claw:\n",
    "    def does(self):\n",
    "        return 'crush'\n",
    "\n",
    "class SmartPhone:\n",
    "    def does(self):\n",
    "        return 'ring'"
   ]
  },
  {
   "cell_type": "code",
   "execution_count": 44,
   "id": "e8d8130c",
   "metadata": {},
   "outputs": [
    {
     "name": "stdout",
     "output_type": "stream",
     "text": [
      "disintegrate crush ring\n"
     ]
    }
   ],
   "source": [
    "class robot:\n",
    "    def __init__(self, laser, claw, SmartPhone):\n",
    "        self.laser = laser\n",
    "        self.claw = claw\n",
    "        self.SmartPhone = SmartPhone\n",
    "    \n",
    "    def does(self):\n",
    "        print(self.laser.does(),self.claw.does(), self.SmartPhone.does())\n",
    "        \n",
    "l = Laser()\n",
    "c = Claw()\n",
    "s = SmartPhone()\n",
    "robot = robot(l,c,s)\n",
    "robot.does()"
   ]
  }
 ],
 "metadata": {
  "kernelspec": {
   "display_name": "Python 3",
   "language": "python",
   "name": "python3"
  },
  "language_info": {
   "codemirror_mode": {
    "name": "ipython",
    "version": 3
   },
   "file_extension": ".py",
   "mimetype": "text/x-python",
   "name": "python",
   "nbconvert_exporter": "python",
   "pygments_lexer": "ipython3",
   "version": "3.8.8"
  }
 },
 "nbformat": 4,
 "nbformat_minor": 5
}
