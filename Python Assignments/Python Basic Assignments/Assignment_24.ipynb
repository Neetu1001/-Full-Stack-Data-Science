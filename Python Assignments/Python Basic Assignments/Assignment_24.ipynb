{
 "cells": [
  {
   "cell_type": "markdown",
   "id": "925a970b",
   "metadata": {},
   "source": [
    "## Assignment 24 "
   ]
  },
  {
   "cell_type": "markdown",
   "id": "3267a0e0",
   "metadata": {},
   "source": [
    "### 1. What is the relationship between def statements and lambda expressions ?\n",
    "**Ans:** \n",
    "\n",
    "**LAMBDA**\n",
    " - a lambda expression can have only one result, which is returned from the function produced\n",
    " - a lambda expression is an expression that evaluates to a function object, but a def statement has no value and \n",
    "   constructs a function object and binds it to a name.\n",
    " - the working of a lambda is similar to any other functions created by Python.\n",
    "\n",
    "**DEF STMT**\n",
    "  - the def keyword defines the creation of the python function\n",
    "  - this kind of function have return type\n",
    "  - this contains a no. of lines within the function body"
   ]
  },
  {
   "cell_type": "markdown",
   "id": "e23f6be0",
   "metadata": {},
   "source": [
    "### 2. What is the benefit of lambda?\n",
    "**Ans:** \n",
    "\n",
    "**BENEFITS OF LAMBDA :**\n",
    "1. Contains a single of code for the function\n",
    "2. Lambda functions are inline functions and thus execute comparatively faster\n",
    "3. Many times lambda functions make code much more readable by avoiding the logical jumps caused by function calls"
   ]
  },
  {
   "cell_type": "markdown",
   "id": "c0abb1a0",
   "metadata": {},
   "source": [
    "### 3. Compare and contrast map, filter, and reduce.\n",
    "**Ans:** The differences between map, filter and reduce are: \n",
    "\n",
    "**MAP:** \n",
    " - Map Function takes 2 arguments as an input i.e. the function and the iterable object.\n",
    " - Iterables objects can be list, tuples or strings\n",
    " - The function is applied on the iterables and the transformed iterables is achieved\n",
    " - Syntax : map(function, iterables)\n",
    "\n",
    "**FILTER:**\n",
    " - Filter is a funtion which applies some operation on the sequence and only those values of the sequence  which \n",
    "   evaluates to True are operated\n",
    " - In simple words: filter is applied on only those sequence that matches the condition.\n",
    " - Syntax : map(function, iterables) \n",
    "\n",
    "**REDUCE:**\n",
    " - Reduce is a function which perfoms a recursive calculation on the pairs of values in a sequence and returns a result.\n",
    " - Syntax : reduce(function, sequence[, initial])"
   ]
  },
  {
   "cell_type": "code",
   "execution_count": 1,
   "id": "a96df72c",
   "metadata": {},
   "outputs": [
    {
     "name": "stdout",
     "output_type": "stream",
     "text": [
      "Map -> [2, 4, 6, 8]\n",
      "Filter -> [1, 3]\n",
      "Reduce -> 21\n"
     ]
    }
   ],
   "source": [
    "from functools import reduce\n",
    "# map function\n",
    "print('Map ->',list(map(lambda x:x+x, [1,2,3,4])))\n",
    "# fitler function\n",
    "print('Filter ->',list(filter(lambda x:x%2 !=0, [1,2,3,4])))\n",
    "# reduce function\n",
    "print('Reduce ->',reduce(lambda x,y:x+y, [1,2,3,4,5,6]))"
   ]
  },
  {
   "cell_type": "markdown",
   "id": "ed66668e",
   "metadata": {},
   "source": [
    "### 4. What are function annotations, and how are they used?\n",
    "**Ans:** \n",
    "\n",
    "- Function annotations are simply a way to associate arbitrary expressions to function arguments and return values.\n",
    "- For functions, you can annotate arguments and the return value. This is done as follows:\n",
    "- e.g. def func(arg: arg_type, optarg: arg_type = default) -> return_type:"
   ]
  },
  {
   "cell_type": "markdown",
   "id": "e91c02f9",
   "metadata": {},
   "source": [
    "### 5. What are recursive functions, and how are they used?\n",
    "**Ans:** A recursive function is a function that calls itself during its execution. This signifies that the function will keep calling itself and repeating its actions until a condition is met that causes it to return a result."
   ]
  },
  {
   "cell_type": "code",
   "execution_count": 1,
   "id": "4b16aa7e",
   "metadata": {},
   "outputs": [],
   "source": [
    "def fact(n):\n",
    "    if n == 1:\n",
    "        return 1 \n",
    "    else:\n",
    "        return n * fact(n-1)"
   ]
  },
  {
   "cell_type": "code",
   "execution_count": 2,
   "id": "cebe6a9a",
   "metadata": {},
   "outputs": [
    {
     "data": {
      "text/plain": [
       "120"
      ]
     },
     "execution_count": 2,
     "metadata": {},
     "output_type": "execute_result"
    }
   ],
   "source": [
    "fact(5)"
   ]
  },
  {
   "cell_type": "markdown",
   "id": "0616de68",
   "metadata": {},
   "source": [
    "### 6. What are some general design guidelines for coding functions?\n",
    "**Ans:** Some of the general design guidelines for coding functions are:\n",
    "1. Always use a docstring to explain the functionality of the function\n",
    "2. avoid using or limited use of global variables\n",
    "3. Proper Identation to increase the code readability\n",
    "4. try to follow a naming convention for function names (pascalCase or camelCase) and stick with the same convention throughout the application.\n",
    "5. Avoid using digits while choosing a variable name\n",
    "6. try to use a name for the function which conveys the purpose of the function\n",
    "7. Local variables should be named using camelCase format `(ex: localVariable)` whereas Global variables names should be using PascalCase `(ex:GlobalVariable)`. \n",
    "8. Constant should be represented in allcaps `(ex:CONSTANT)`."
   ]
  },
  {
   "cell_type": "markdown",
   "id": "50555ec6",
   "metadata": {},
   "source": [
    "### 7. Name three or more ways that functions can communicate results to a caller.\n",
    "**Ans:** Some of the ways in which a function can communicate with the calling function is:\n",
    "1. print\n",
    "2. return\n",
    "3. yield"
   ]
  },
  {
   "cell_type": "code",
   "execution_count": null,
   "id": "de8fdb5f",
   "metadata": {},
   "outputs": [],
   "source": []
  }
 ],
 "metadata": {
  "kernelspec": {
   "display_name": "Python 3",
   "language": "python",
   "name": "python3"
  },
  "language_info": {
   "codemirror_mode": {
    "name": "ipython",
    "version": 3
   },
   "file_extension": ".py",
   "mimetype": "text/x-python",
   "name": "python",
   "nbconvert_exporter": "python",
   "pygments_lexer": "ipython3",
   "version": "3.8.8"
  }
 },
 "nbformat": 4,
 "nbformat_minor": 5
}
