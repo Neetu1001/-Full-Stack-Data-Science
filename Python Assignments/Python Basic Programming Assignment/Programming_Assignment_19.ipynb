{
 "cells": [
  {
   "cell_type": "markdown",
   "id": "a2d26b66",
   "metadata": {},
   "source": [
    "## Programming Assignment 19\n",
    "\n",
    "### Q1.Create a function that takes a string and returns a string in which each character is repeated once.\n",
    "\n",
    "**Examples:**\n",
    "\n",
    "    double_char(\"String\") ➞ \"SSttrriinngg\"\n",
    "    double_char(\"Hello World!\") ➞ \"HHeelllloo WWoorrlldd!!\"\n",
    "    doublechar(\"1234!_\") ➞ \"11223344!!__\""
   ]
  },
  {
   "cell_type": "code",
   "execution_count": 7,
   "id": "b91192e7",
   "metadata": {},
   "outputs": [],
   "source": [
    "def double_char(s):\n",
    "    o = ''\n",
    "    for i in s:\n",
    "        o = o + i*2\n",
    "    print(f\"➞ '{o}'\")"
   ]
  },
  {
   "cell_type": "code",
   "execution_count": 9,
   "id": "a7b652b9",
   "metadata": {},
   "outputs": [
    {
     "name": "stdout",
     "output_type": "stream",
     "text": [
      "➞ 'SSttrriinngg'\n",
      "➞ 'HHeelllloo  WWoorrlldd!!'\n",
      "➞ '11223344!!__'\n"
     ]
    }
   ],
   "source": [
    "double_char(\"String\")\n",
    "double_char(\"Hello World!\")\n",
    "double_char(\"1234!_\")"
   ]
  },
  {
   "cell_type": "markdown",
   "id": "e91eb9fa",
   "metadata": {},
   "source": [
    "### Q2.Create a function that reverses a boolean value and returns the string \"boolean expected\" if another variable type is given.\n",
    "\n",
    "**Examples:**\n",
    "\n",
    "    reverse(True) ➞ False\n",
    "    reverse(False) ➞ True\n",
    "    reverse(0) ➞ \"boolean expected\"\n",
    "    reverse(None) ➞ \"boolean expected\""
   ]
  },
  {
   "cell_type": "code",
   "execution_count": 10,
   "id": "a5e3b952",
   "metadata": {},
   "outputs": [],
   "source": [
    "def reverse(in_bool):\n",
    "    if type(in_bool) == bool:\n",
    "        return not in_bool\n",
    "    else:\n",
    "        return \"Boolean Expected\""
   ]
  },
  {
   "cell_type": "code",
   "execution_count": 11,
   "id": "5e130d4e",
   "metadata": {},
   "outputs": [
    {
     "name": "stdout",
     "output_type": "stream",
     "text": [
      "reverse(True) ➞ False\n",
      "reverse(False) ➞ True\n",
      "reverse(0) ➞ Boolean Expected\n",
      "reverse(None) ➞ Boolean Expected\n"
     ]
    }
   ],
   "source": [
    "print(f'reverse(True) ➞ {reverse(True)}')\n",
    "print(f'reverse(False) ➞ {reverse(False)}')\n",
    "print(f'reverse(0) ➞ {reverse(0)}')\n",
    "print(f'reverse(None) ➞ {reverse(None)}')"
   ]
  },
  {
   "cell_type": "markdown",
   "id": "31f2eab7",
   "metadata": {},
   "source": [
    "### Q3. Create a function that returns the thickness (in meters) of a piece of paper after folding it n number of times. The paper starts off with a thickness of 0.5mm.\n",
    "\n",
    "**Examples:**\n",
    "\n",
    "num_layers(1) ➞ ``\"0.001m\"`` # Paper folded once is 1mm (equal to 0.001m) \n",
    "\n",
    "num_layers(4) ➞ ``\"0.008m\"`` # Paper folded 4 times is 8mm (equal to 0.008m) \n",
    "\n",
    "num_layers(21) ➞ ``\"1048.576m\"`` # Paper folded 21 times is 1048576mm (equal to 1048.576m)"
   ]
  },
  {
   "cell_type": "code",
   "execution_count": 12,
   "id": "a63f06cc",
   "metadata": {},
   "outputs": [],
   "source": [
    "def num_layers(in_num):\n",
    "    out_num = 0.5\n",
    "    for ele in range(in_num):\n",
    "        out_num *= 2\n",
    "    print(f'Output ➞ {out_num/1000}m')"
   ]
  },
  {
   "cell_type": "markdown",
   "id": "35f1aa3a",
   "metadata": {},
   "source": [
    "num_layers(1)\n",
    "num_layers(4)\n",
    "num_layers(21)"
   ]
  },
  {
   "cell_type": "markdown",
   "id": "7cb98d8e",
   "metadata": {},
   "source": [
    "### Q4.Create a function that takes a single string as argument and returns an ordered list containing the indices of all capital letters in the string.\n",
    "\n",
    "**Examples:**\n",
    "\n",
    "    index_of_caps(\"eDaBiT\") ➞ [1, 3, 5]\n",
    "    index_of_caps(\"eQuINoX\") ➞ [1, 3, 4, 6]\n",
    "    index_of_caps(\"determine\") ➞ []\n",
    "    index_of_caps(\"STRIKE\") ➞ [0, 1, 2, 3, 4, 5]\n",
    "    index_of_caps(\"sUn\") ➞ [1]"
   ]
  },
  {
   "cell_type": "code",
   "execution_count": 26,
   "id": "62929121",
   "metadata": {},
   "outputs": [],
   "source": [
    "def index_of_caps(s):\n",
    "    ind = []\n",
    "    for i in s:\n",
    "        if i.isupper() == True:\n",
    "            ind.append(s.index(i))\n",
    "        else:\n",
    "            pass\n",
    "    print(f'➞ {ind}')"
   ]
  },
  {
   "cell_type": "code",
   "execution_count": 27,
   "id": "d372cfc8",
   "metadata": {},
   "outputs": [
    {
     "name": "stdout",
     "output_type": "stream",
     "text": [
      "➞ [1, 3, 5]\n",
      "➞ [1, 3, 4, 6]\n",
      "➞ []\n",
      "➞ [0, 1, 2, 3, 4, 5]\n",
      "➞ [1]\n"
     ]
    }
   ],
   "source": [
    "index_of_caps(\"eDaBiT\")\n",
    "index_of_caps(\"eQuINoX\")\n",
    "index_of_caps(\"determine\")\n",
    "index_of_caps(\"STRIKE\")\n",
    "index_of_caps(\"sUn\")"
   ]
  },
  {
   "cell_type": "markdown",
   "id": "355202dc",
   "metadata": {},
   "source": [
    "### Q5.Using list comprehensions, create a function that finds all even numbers from 1 to the given number.\n",
    "\n",
    "**Examples:**\n",
    "\n",
    "    find_even_nums(8) ➞ [2, 4, 6, 8]\n",
    "    find_even_nums(4) ➞ [2, 4]\n",
    "    find_even_nums(2) ➞ [2]"
   ]
  },
  {
   "cell_type": "code",
   "execution_count": 28,
   "id": "91dcaa4d",
   "metadata": {},
   "outputs": [],
   "source": [
    "def find_even_nums(in_num):\n",
    "    out_list = [i for i in range(1,in_num+1) if i%2 == 0]\n",
    "    print(f'Output ➞ {out_list}')"
   ]
  },
  {
   "cell_type": "code",
   "execution_count": 29,
   "id": "0298fb0d",
   "metadata": {},
   "outputs": [
    {
     "name": "stdout",
     "output_type": "stream",
     "text": [
      "Output ➞ [2, 4, 6, 8]\n",
      "Output ➞ [2, 4]\n",
      "Output ➞ [2]\n"
     ]
    }
   ],
   "source": [
    "find_even_nums(8)\n",
    "find_even_nums(4)\n",
    "find_even_nums(2)"
   ]
  }
 ],
 "metadata": {
  "kernelspec": {
   "display_name": "Python 3",
   "language": "python",
   "name": "python3"
  },
  "language_info": {
   "codemirror_mode": {
    "name": "ipython",
    "version": 3
   },
   "file_extension": ".py",
   "mimetype": "text/x-python",
   "name": "python",
   "nbconvert_exporter": "python",
   "pygments_lexer": "ipython3",
   "version": "3.8.8"
  }
 },
 "nbformat": 4,
 "nbformat_minor": 5
}
