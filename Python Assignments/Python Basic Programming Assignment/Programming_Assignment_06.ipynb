{
 "cells": [
  {
   "cell_type": "markdown",
   "id": "efeed4df",
   "metadata": {},
   "source": [
    "## Programming Assignment 6\n",
    "\n",
    "### 1.\tWrite a Python Program to Display Fibonacci Sequence Using Recursion?"
   ]
  },
  {
   "cell_type": "code",
   "execution_count": 5,
   "id": "c10119ad",
   "metadata": {},
   "outputs": [
    {
     "name": "stdout",
     "output_type": "stream",
     "text": [
      "Enter desired length: 10\n"
     ]
    },
    {
     "data": {
      "text/plain": [
       "[0, 1, 1, 2, 3, 5, 8, 13, 21, 34]"
      ]
     },
     "execution_count": 5,
     "metadata": {},
     "output_type": "execute_result"
    }
   ],
   "source": [
    "def fibo(num_1, num_2, n):\n",
    "    if n == 0:\n",
    "        return f\"Recursion Ends\"\n",
    "    \n",
    "    sum = num_1 + num_2\n",
    "    fibo_list.append(sum)\n",
    "    fibo(num_2, sum, n-1)\n",
    "\n",
    "fibo_list = [0,1]\n",
    "n = int(input(\"Enter desired length: \"))\n",
    "\n",
    "fibo(fibo_list[0],fibo_list[1], n-2)\n",
    "fibo_list"
   ]
  },
  {
   "cell_type": "markdown",
   "id": "1d846d74",
   "metadata": {},
   "source": [
    "### 2. Write a Python Program to Find Factorial of Number Using Recursion?"
   ]
  },
  {
   "cell_type": "code",
   "execution_count": 6,
   "id": "1e81a327",
   "metadata": {},
   "outputs": [
    {
     "name": "stdout",
     "output_type": "stream",
     "text": [
      "Enter the number : 9\n",
      "Factorial of 9 : 362880\n"
     ]
    }
   ],
   "source": [
    "def factorial(n):\n",
    "    if n == 1:\n",
    "        return n\n",
    "    else:\n",
    "        return n*factorial(n-1)\n",
    "\n",
    "num = int(input('Enter the number : '))\n",
    "\n",
    "# check if the number is negative\n",
    "if num < 0:\n",
    "    print(\"Factorial does not exist for negative numbers\")\n",
    "elif num == 0:\n",
    "    print(\"The factorial of 0 is 1\")\n",
    "else:\n",
    "    print(f\"Factorial of {num} : {factorial(num)}\")"
   ]
  },
  {
   "cell_type": "markdown",
   "id": "ee2adb6d",
   "metadata": {},
   "source": [
    "### 3. Write a Python Program to calculate your Body Mass Index?"
   ]
  },
  {
   "cell_type": "code",
   "execution_count": 3,
   "id": "e59c5f9d",
   "metadata": {},
   "outputs": [
    {
     "name": "stdout",
     "output_type": "stream",
     "text": [
      "Enter weight in kg: 72\n",
      "Enter height in m: 1.75\n",
      "Your BMI is:  23.510204081632654\n",
      "Healthy Range\n"
     ]
    }
   ],
   "source": [
    "def bmi(weight,height):\n",
    "    result = (weight/height**2)\n",
    "\n",
    "    print(\"Your BMI is: \",result)\n",
    "    \n",
    "    if result>= 18.5 and result<=24.9:\n",
    "        print(\"Healthy Range\")\n",
    "    elif result<18.5:\n",
    "        print(\"Underweight\")\n",
    "    else:\n",
    "        print(\"overweight\")\n",
    "    \n",
    "weight = float(input(\"Enter weight in kg: \"))\n",
    "height = float(input(\"Enter height in m: \"))\n",
    "bmi(weight,height)"
   ]
  },
  {
   "cell_type": "markdown",
   "id": "8deb7e13",
   "metadata": {},
   "source": [
    "### 4.\tWrite a Python Program to calculate the natural logarithm of any number?"
   ]
  },
  {
   "cell_type": "code",
   "execution_count": 5,
   "id": "28368394",
   "metadata": {},
   "outputs": [
    {
     "name": "stdout",
     "output_type": "stream",
     "text": [
      "Enter any Number: 2.4\n",
      "Naturual Logorithm: 0.8754687373538999\n"
     ]
    }
   ],
   "source": [
    "import math\n",
    "n = float(input(\"Enter any Number: \"))\n",
    "print(f'Naturual Logorithm: {math.log(n)}')"
   ]
  },
  {
   "cell_type": "markdown",
   "id": "3086bc20",
   "metadata": {},
   "source": [
    "### 5.\tWrite a Python Program for cube sum of first n natural numbers?"
   ]
  },
  {
   "cell_type": "code",
   "execution_count": 7,
   "id": "50c567e4",
   "metadata": {},
   "outputs": [],
   "source": [
    "def cube_sum():\n",
    "    n = int(input(\"Enter any Number: \"))\n",
    "    r = 0\n",
    "    for i in range(1, n+1):\n",
    "        r = r + (i*i*i)\n",
    "    print(f'Cube Sum of 1st {n} number is: {r}')"
   ]
  },
  {
   "cell_type": "code",
   "execution_count": 8,
   "id": "2675a8bb",
   "metadata": {},
   "outputs": [
    {
     "name": "stdout",
     "output_type": "stream",
     "text": [
      "Enter any Number: 10\n",
      "Cube Sum of 1st 10 number is: 3025\n"
     ]
    }
   ],
   "source": [
    "cube_sum()"
   ]
  }
 ],
 "metadata": {
  "kernelspec": {
   "display_name": "Python 3",
   "language": "python",
   "name": "python3"
  },
  "language_info": {
   "codemirror_mode": {
    "name": "ipython",
    "version": 3
   },
   "file_extension": ".py",
   "mimetype": "text/x-python",
   "name": "python",
   "nbconvert_exporter": "python",
   "pygments_lexer": "ipython3",
   "version": "3.8.8"
  }
 },
 "nbformat": 4,
 "nbformat_minor": 5
}
