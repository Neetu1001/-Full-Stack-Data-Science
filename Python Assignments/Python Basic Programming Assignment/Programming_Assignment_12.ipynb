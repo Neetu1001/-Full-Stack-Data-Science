{
 "cells": [
  {
   "cell_type": "markdown",
   "id": "9098ff63",
   "metadata": {},
   "source": [
    "## Programming Assignment 12\n",
    "\n",
    "### Q1.Write a Python program to Extract Unique values dictionary values?"
   ]
  },
  {
   "cell_type": "code",
   "execution_count": 3,
   "id": "2601f7b7",
   "metadata": {},
   "outputs": [],
   "source": [
    "dictionary = {\n",
    "    'name':'neetu',\n",
    "    'address' : 'neetu',\n",
    "    'age': 26,\n",
    "    'cat' : 'gen',\n",
    "}"
   ]
  },
  {
   "cell_type": "code",
   "execution_count": 7,
   "id": "1d78936d",
   "metadata": {},
   "outputs": [
    {
     "name": "stdout",
     "output_type": "stream",
     "text": [
      "Unique values in dictionary are: ['neetu', 26, 'gen']\n"
     ]
    }
   ],
   "source": [
    "print(f\"Unique values in dictionary are: {list(set(dictionary.values()))}\")"
   ]
  },
  {
   "cell_type": "markdown",
   "id": "7311a9aa",
   "metadata": {},
   "source": [
    "### Q2.Write a Python program to find the sum of all items in a dictionary?"
   ]
  },
  {
   "cell_type": "code",
   "execution_count": 8,
   "id": "bfc1c36a",
   "metadata": {},
   "outputs": [
    {
     "name": "stdout",
     "output_type": "stream",
     "text": [
      "Sum of all the values in the dictionary: 91\n"
     ]
    }
   ],
   "source": [
    "# method 1\n",
    "d = {'Apple':10, 'Banana':20, 'Guava': 25, 'Orange': 36}\n",
    "s=0\n",
    "for i in d.values():\n",
    "    s = s + i \n",
    "print(f'Sum of all the values in the dictionary: {s}')"
   ]
  },
  {
   "cell_type": "code",
   "execution_count": 9,
   "id": "46b163bd",
   "metadata": {},
   "outputs": [
    {
     "name": "stdout",
     "output_type": "stream",
     "text": [
      "Sum of all the values in the dictionary: 91\n"
     ]
    }
   ],
   "source": [
    "# method 2\n",
    "print(f'Sum of all the values in the dictionary: {sum(d.values())}')"
   ]
  },
  {
   "cell_type": "markdown",
   "id": "af642d59",
   "metadata": {},
   "source": [
    "### Q3.Write a Python program to Merging two Dictionaries?"
   ]
  },
  {
   "cell_type": "code",
   "execution_count": 10,
   "id": "25b756df",
   "metadata": {},
   "outputs": [
    {
     "name": "stdout",
     "output_type": "stream",
     "text": [
      "{'course': 'Data Science', 'time': '1 year', 'teacher': ['Krishna', 'Sudhanshu']}\n"
     ]
    }
   ],
   "source": [
    "course = {'course':'Data Science', 'time': '1 year'}\n",
    "instruct = {'teacher': ['Krishna', 'Sudhanshu']}\n",
    "\n",
    "course.update(instruct)\n",
    "print(course)"
   ]
  },
  {
   "cell_type": "markdown",
   "id": "f8a354e9",
   "metadata": {},
   "source": [
    "### Q4.Write a Python program to convert key-values list to flat dictionary?"
   ]
  },
  {
   "cell_type": "code",
   "execution_count": 13,
   "id": "2a567a6b",
   "metadata": {},
   "outputs": [
    {
     "name": "stdout",
     "output_type": "stream",
     "text": [
      "{'A': 10, 'B': 20, 'C': 30, 'D': 40, 'E': 50}\n"
     ]
    }
   ],
   "source": [
    "li = [('A',10), ('B',20),('C',30),('D',40),('E',50)]\n",
    "d = {}\n",
    "for i in li:\n",
    "    d[i[0]]=i[1]\n",
    "print(d)"
   ]
  },
  {
   "cell_type": "markdown",
   "id": "b52049fb",
   "metadata": {},
   "source": [
    "### Q5.Write a Python program to insertion at the beginning in OrderedDict?"
   ]
  },
  {
   "cell_type": "code",
   "execution_count": 32,
   "id": "e49d1025",
   "metadata": {},
   "outputs": [
    {
     "name": "stdout",
     "output_type": "stream",
     "text": [
      "dict_one OrderedDict([('Apple', 'Iphone'), ('Microsoft', 'Windows'), ('Google', 'chrome')])\n",
      "dict_one OrderedDict([('Apple', 'Iphone'), ('Microsoft', 'Windows'), ('Google', 'chrome'), ('Tesla', 'SpaceX')])\n",
      "dict_one OrderedDict([('Tesla', 'SpaceX'), ('Apple', 'Iphone'), ('Microsoft', 'Windows'), ('Google', 'chrome')])\n"
     ]
    }
   ],
   "source": [
    "from collections import OrderedDict\n",
    "dict_one = OrderedDict({'Apple':'Iphone','Microsoft':'Windows','Google':'chrome'})\n",
    "print('dict_one',dict_one)\n",
    "dict_two = {'Tesla':'SpaceX'}\n",
    "dict_one.update(dict_two)\n",
    "print('dict_one',dict_one)\n",
    "dict_one.move_to_end('Tesla',last=False)\n",
    "print('dict_one',dict_one)"
   ]
  },
  {
   "cell_type": "markdown",
   "id": "1c2bd407",
   "metadata": {},
   "source": [
    "### Q6.Write a Python program to check order of character in string using OrderedDict()?"
   ]
  },
  {
   "cell_type": "code",
   "execution_count": 33,
   "id": "2e77682b",
   "metadata": {},
   "outputs": [
    {
     "name": "stdout",
     "output_type": "stream",
     "text": [
      "{'a': 1000, 'f': 200, 'd': 300, 'c': 400, 'b': 500, 'e': 600}\n",
      "OrderedDict([('a', 1000), ('b', 500), ('c', 400), ('d', 300), ('e', 600), ('f', 200)])\n"
     ]
    }
   ],
   "source": [
    "from collections import OrderedDict\n",
    "\n",
    "initial_list = {'a': 1000, 'f': 200, 'd': 300, 'c': 400, 'b': 500, 'e': 600}\n",
    "print(initial_list)\n",
    "\n",
    "final_list = OrderedDict(dict(sorted(initial_list.items())))\n",
    "print(final_list)"
   ]
  },
  {
   "cell_type": "markdown",
   "id": "7f86c7b3",
   "metadata": {},
   "source": [
    "### Q7.Write a Python program to sort Python Dictionaries by Key or Value?"
   ]
  },
  {
   "cell_type": "code",
   "execution_count": 34,
   "id": "8bd81d81",
   "metadata": {},
   "outputs": [
    {
     "name": "stdout",
     "output_type": "stream",
     "text": [
      "{'Banana': 60, 'Grape': 13, 'Mango': 100, 'PineApple': 22}\n"
     ]
    }
   ],
   "source": [
    "d_items = {'Mango':100,'PineApple':22,'Banana':60,'Grape':13}\n",
    "\n",
    "def sort_dict(in_dict,sort_type):\n",
    "    if sort_type == 'key':\n",
    "        print(dict(sorted(in_dict.items(), key=lambda x:x[0], reverse=False)))\n",
    "    else:\n",
    "        print(dict(sorted(in_dict.items(), key=lambda x:x[1], reverse=False)))\n",
    "        \n",
    "sort_dict(d_items,'key') "
   ]
  },
  {
   "cell_type": "code",
   "execution_count": 35,
   "id": "d9718396",
   "metadata": {},
   "outputs": [
    {
     "name": "stdout",
     "output_type": "stream",
     "text": [
      "{'Grape': 13, 'PineApple': 22, 'Banana': 60, 'Mango': 100}\n"
     ]
    }
   ],
   "source": [
    "sort_dict(d_items,'value') "
   ]
  }
 ],
 "metadata": {
  "kernelspec": {
   "display_name": "Python 3",
   "language": "python",
   "name": "python3"
  },
  "language_info": {
   "codemirror_mode": {
    "name": "ipython",
    "version": 3
   },
   "file_extension": ".py",
   "mimetype": "text/x-python",
   "name": "python",
   "nbconvert_exporter": "python",
   "pygments_lexer": "ipython3",
   "version": "3.8.8"
  }
 },
 "nbformat": 4,
 "nbformat_minor": 5
}
