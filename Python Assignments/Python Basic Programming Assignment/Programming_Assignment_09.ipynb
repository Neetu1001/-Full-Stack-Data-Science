{
 "cells": [
  {
   "cell_type": "markdown",
   "id": "14bc1227",
   "metadata": {},
   "source": [
    "## Programming Assignment 9\n",
    "\n",
    "### Q1.Write a Python Program to check if the given number is a Disarium Number ?\n",
    "\n",
    "**Ans:** A number is said to be the Disarium number when the sum of its digit raised to the power of their respective positions becomes equal to the number itself.    "
   ]
  },
  {
   "cell_type": "code",
   "execution_count": 3,
   "id": "5f0efaed",
   "metadata": {},
   "outputs": [
    {
     "name": "stdout",
     "output_type": "stream",
     "text": [
      "Enter a Number: 135\n",
      "135 is a Disarium Number\n"
     ]
    }
   ],
   "source": [
    "def checkDisariumNumber():\n",
    "    in_num = input('Enter a Number: ')\n",
    "    sum = 0\n",
    "    for item in range(len(in_num)):\n",
    "        sum = sum + int(in_num[item])**(item+1)\n",
    "    if sum == int(in_num):\n",
    "        print(f'{in_num} is a Disarium Number')\n",
    "    else:\n",
    "        print(f'{in_num} is a Not Disarium Number') \n",
    "\n",
    "checkDisariumNumber()"
   ]
  },
  {
   "cell_type": "code",
   "execution_count": 2,
   "id": "0315169a",
   "metadata": {},
   "outputs": [
    {
     "name": "stdout",
     "output_type": "stream",
     "text": [
      "Enter a Number: 100\n",
      "100 is a Not Disarium Number\n"
     ]
    }
   ],
   "source": [
    "checkDisariumNumber()"
   ]
  },
  {
   "cell_type": "markdown",
   "id": "96c41984",
   "metadata": {},
   "source": [
    "### Q2.Write a Python Program to print all Disarium numbers between 1 to 100 ?"
   ]
  },
  {
   "cell_type": "code",
   "execution_count": 6,
   "id": "9f10ab8d",
   "metadata": {},
   "outputs": [],
   "source": [
    "def print_disariumnum(s,e):\n",
    "    output = []\n",
    "    for i in range(s,e+1):\n",
    "        s = 0\n",
    "        for j in range(len(str(i))):\n",
    "            s = s + int(str(i)[j])**(j+1)\n",
    "        if s == i:\n",
    "            output.append(i)\n",
    "    return output"
   ]
  },
  {
   "cell_type": "code",
   "execution_count": 7,
   "id": "b79a4c6d",
   "metadata": {},
   "outputs": [
    {
     "data": {
      "text/plain": [
       "[0, 1, 2, 3, 4, 5, 6, 7, 8, 9, 89]"
      ]
     },
     "execution_count": 7,
     "metadata": {},
     "output_type": "execute_result"
    }
   ],
   "source": [
    "print_disariumnum(0,100)"
   ]
  },
  {
   "cell_type": "markdown",
   "id": "a1af0a3a",
   "metadata": {},
   "source": [
    "### Q3.Write a Python Program to check if the given number is Happy Number ?\n",
    "\n",
    "**Ans:** A number is said to be happy if it yields 1 when replaced by the sum of squares of its digits repeatedly. If this process results in an endless cycle of numbers containing 4, then the number will be an unhappy number. \n",
    "     "
   ]
  },
  {
   "cell_type": "code",
   "execution_count": 8,
   "id": "f427af40",
   "metadata": {},
   "outputs": [
    {
     "name": "stdout",
     "output_type": "stream",
     "text": [
      "Enter a Number: 7\n",
      "7 is a Happy Number\n"
     ]
    }
   ],
   "source": [
    "def checkHappyNumber():\n",
    "    in_num = input('Enter a Number: ')\n",
    "    in_num_duplicate = in_num\n",
    "    trackNumber = set()   \n",
    "    while True:\n",
    "        if in_num != '1' and str(in_num) not in trackNumber:\n",
    "            trackNumber.add(in_num)\n",
    "            sum = 0\n",
    "            for ele in range(len((in_num))):\n",
    "                sum = sum + int(in_num[ele])**2\n",
    "            in_num = str(sum)\n",
    "        elif str(in_num) in trackNumber:\n",
    "            print(f'{in_num_duplicate} is not a Happy Number')\n",
    "            break\n",
    "        else:\n",
    "            print(f'{in_num_duplicate} is a Happy Number')\n",
    "            break\n",
    "\n",
    "checkHappyNumber()"
   ]
  },
  {
   "cell_type": "code",
   "execution_count": 10,
   "id": "2af08940",
   "metadata": {},
   "outputs": [
    {
     "name": "stdout",
     "output_type": "stream",
     "text": [
      "Enter a Number: 11\n",
      "11 is not a Happy Number\n"
     ]
    }
   ],
   "source": [
    "checkHappyNumber()"
   ]
  },
  {
   "cell_type": "markdown",
   "id": "3d802564",
   "metadata": {},
   "source": [
    "### Q4.Write a Python Program to print all Happy numbers between 1 and 100 ?"
   ]
  },
  {
   "cell_type": "code",
   "execution_count": 16,
   "id": "6e884866",
   "metadata": {},
   "outputs": [],
   "source": [
    "def checkHappyNumber_list(a=0, b=100):\n",
    "    happy_num = []\n",
    "    for n in range(a,b+1):\n",
    "        n = str(n)\n",
    "        n_duplicate = n\n",
    "        trackNumber = set()   \n",
    "        while True:\n",
    "            if n != '1' and str(n) not in trackNumber:\n",
    "                trackNumber.add(n)\n",
    "                sum = 0\n",
    "                for ele in range(len(n)):\n",
    "                    sum = sum + int(n[ele])**2\n",
    "                n = str(sum)\n",
    "            elif str(n) in trackNumber:\n",
    "                break\n",
    "            else:\n",
    "                happy_num.append(str(n_duplicate))\n",
    "                break\n",
    "    print(f'The Happy number of {a} and {b} are {happy_num}')"
   ]
  },
  {
   "cell_type": "code",
   "execution_count": 17,
   "id": "dcab63cb",
   "metadata": {},
   "outputs": [
    {
     "name": "stdout",
     "output_type": "stream",
     "text": [
      "The Happy number of 0 and 20 are ['1', '7', '10', '13', '19']\n"
     ]
    }
   ],
   "source": [
    "checkHappyNumber_list(0,20)"
   ]
  },
  {
   "cell_type": "markdown",
   "id": "efdf9e81",
   "metadata": {},
   "source": [
    "### Q5.Write a Python Program to determine whether the given number is a Harshad Number ?\n",
    "\n",
    "**Ans:** In mathematics, a harshad number (or Niven number) in a given number base is an integer that is divisible by the sum of its digits when written in that base."
   ]
  },
  {
   "cell_type": "code",
   "execution_count": 27,
   "id": "cf9d99ae",
   "metadata": {},
   "outputs": [],
   "source": [
    "def harshad_number():\n",
    "    n = int(input(\"Enter a Number: \"))\n",
    "    n = str(n)\n",
    "    s = 0\n",
    "    for i in range(len(n)):\n",
    "        s = s + int(n[i])\n",
    "    if int(n)%s == 0:\n",
    "        print(f\"{n} is a Harshad Number\")\n",
    "    else:\n",
    "        print(f\"{n} is not a Harshad Number\")"
   ]
  },
  {
   "cell_type": "code",
   "execution_count": 28,
   "id": "61d52731",
   "metadata": {},
   "outputs": [
    {
     "name": "stdout",
     "output_type": "stream",
     "text": [
      "Enter a Number: 21\n",
      "21 is a Harshad Number\n"
     ]
    }
   ],
   "source": [
    "harshad_number()"
   ]
  },
  {
   "cell_type": "code",
   "execution_count": 30,
   "id": "02330385",
   "metadata": {},
   "outputs": [
    {
     "name": "stdout",
     "output_type": "stream",
     "text": [
      "Enter a Number: 22\n",
      "22 is not a Harshad Number\n"
     ]
    }
   ],
   "source": [
    "harshad_number()"
   ]
  },
  {
   "cell_type": "markdown",
   "id": "6c390b45",
   "metadata": {},
   "source": [
    "### Q6.Write a Python Program to print all pronic numbers between 1 and 100 ?\n",
    "\n",
    "**Ans:** A pronic number is a number that is the product of two consecutive integers, that is, a number of the form. "
   ]
  },
  {
   "cell_type": "code",
   "execution_count": 34,
   "id": "e7a444fb",
   "metadata": {},
   "outputs": [],
   "source": [
    "def pronic_num(a=0,b=100):\n",
    "    output = []\n",
    "    for i in range(a,b+1):\n",
    "        output.append((i)*(i+1))\n",
    "    print(f'Pronic Numbers between {a} and {b} are: {output}')"
   ]
  },
  {
   "cell_type": "code",
   "execution_count": 35,
   "id": "e1beb4aa",
   "metadata": {},
   "outputs": [
    {
     "name": "stdout",
     "output_type": "stream",
     "text": [
      "Pronic Numbers between 0 and 100 are: [0, 2, 6, 12, 20, 30, 42, 56, 72, 90, 110, 132, 156, 182, 210, 240, 272, 306, 342, 380, 420, 462, 506, 552, 600, 650, 702, 756, 812, 870, 930, 992, 1056, 1122, 1190, 1260, 1332, 1406, 1482, 1560, 1640, 1722, 1806, 1892, 1980, 2070, 2162, 2256, 2352, 2450, 2550, 2652, 2756, 2862, 2970, 3080, 3192, 3306, 3422, 3540, 3660, 3782, 3906, 4032, 4160, 4290, 4422, 4556, 4692, 4830, 4970, 5112, 5256, 5402, 5550, 5700, 5852, 6006, 6162, 6320, 6480, 6642, 6806, 6972, 7140, 7310, 7482, 7656, 7832, 8010, 8190, 8372, 8556, 8742, 8930, 9120, 9312, 9506, 9702, 9900, 10100]\n"
     ]
    }
   ],
   "source": [
    "pronic_num()"
   ]
  }
 ],
 "metadata": {
  "kernelspec": {
   "display_name": "Python 3",
   "language": "python",
   "name": "python3"
  },
  "language_info": {
   "codemirror_mode": {
    "name": "ipython",
    "version": 3
   },
   "file_extension": ".py",
   "mimetype": "text/x-python",
   "name": "python",
   "nbconvert_exporter": "python",
   "pygments_lexer": "ipython3",
   "version": "3.8.8"
  }
 },
 "nbformat": 4,
 "nbformat_minor": 5
}
