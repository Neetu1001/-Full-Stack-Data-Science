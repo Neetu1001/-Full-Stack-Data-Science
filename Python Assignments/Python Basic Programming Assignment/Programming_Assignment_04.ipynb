{
 "cells": [
  {
   "cell_type": "markdown",
   "id": "dc32d9a5",
   "metadata": {},
   "source": [
    "## Programming Assignment 04\n",
    "\n",
    "### 1.\tWrite a Python Program to Find the Factorial of a Number?\n",
    "\n",
    "**Ans:**"
   ]
  },
  {
   "cell_type": "code",
   "execution_count": 1,
   "id": "f1c1382a",
   "metadata": {},
   "outputs": [],
   "source": [
    "def factorial():\n",
    "    n = int(input(\"Enter an Integer: \"))\n",
    "    fac = 1\n",
    "    \n",
    "    if n < 0:\n",
    "        return \"Factorial does not exist\"\n",
    "    \n",
    "    elif n == 0:\n",
    "        return \"Factorial of 0 is 1\"\n",
    "            \n",
    "    else:\n",
    "        for i in range(1, n+1):\n",
    "            fac = fac*i\n",
    "        return f\"Factorial of {n} is {fac}\""
   ]
  },
  {
   "cell_type": "code",
   "execution_count": 2,
   "id": "8c516a32",
   "metadata": {},
   "outputs": [
    {
     "name": "stdout",
     "output_type": "stream",
     "text": [
      "Enter an Integer: 7\n"
     ]
    },
    {
     "data": {
      "text/plain": [
       "'Factorial of 7 is 5040'"
      ]
     },
     "execution_count": 2,
     "metadata": {},
     "output_type": "execute_result"
    }
   ],
   "source": [
    "factorial()"
   ]
  },
  {
   "cell_type": "code",
   "execution_count": 3,
   "id": "52f2f700",
   "metadata": {},
   "outputs": [
    {
     "data": {
      "text/plain": [
       "5040"
      ]
     },
     "execution_count": 3,
     "metadata": {},
     "output_type": "execute_result"
    }
   ],
   "source": [
    "import math\n",
    "math.factorial(1000)\n",
    "\n",
    "def factorial(n):\n",
    "    fact = 1\n",
    "    for num in range(2, n + 1):\n",
    "        fact *= num\n",
    "    return fact\n",
    "\n",
    "def factorial(n):\n",
    "    if n == 0:\n",
    "        return 1\n",
    "    else:\n",
    "        return n * factorial(n-1)\n",
    "\n",
    "factorial(7)"
   ]
  },
  {
   "cell_type": "code",
   "execution_count": 4,
   "id": "6f175e35",
   "metadata": {},
   "outputs": [
    {
     "data": {
      "text/plain": [
       "5040"
      ]
     },
     "execution_count": 4,
     "metadata": {},
     "output_type": "execute_result"
    }
   ],
   "source": [
    "#OR\n",
    "def fact(n):\n",
    "    if n == 0 :\n",
    "        return(1) \n",
    "    else:\n",
    "        return n*fact(n-1)\n",
    "fact(7)"
   ]
  },
  {
   "cell_type": "markdown",
   "id": "a7a6bb75",
   "metadata": {},
   "source": [
    "### 2.\tWrite a Python Program to Display the multiplication Table?"
   ]
  },
  {
   "cell_type": "code",
   "execution_count": 5,
   "id": "b67d510a",
   "metadata": {},
   "outputs": [],
   "source": [
    "def multi(n):\n",
    "    #n = int(input(\"Multiplication Table of: \"))\n",
    "    for i in range(1, 11):\n",
    "        print(f'{n} x {i} = {n*i}')"
   ]
  },
  {
   "cell_type": "code",
   "execution_count": 6,
   "id": "ede7be98",
   "metadata": {
    "scrolled": true
   },
   "outputs": [
    {
     "name": "stdout",
     "output_type": "stream",
     "text": [
      "7 x 1 = 7\n",
      "7 x 2 = 14\n",
      "7 x 3 = 21\n",
      "7 x 4 = 28\n",
      "7 x 5 = 35\n",
      "7 x 6 = 42\n",
      "7 x 7 = 49\n",
      "7 x 8 = 56\n",
      "7 x 9 = 63\n",
      "7 x 10 = 70\n"
     ]
    }
   ],
   "source": [
    "multi(7)"
   ]
  },
  {
   "cell_type": "markdown",
   "id": "7fcedd51",
   "metadata": {},
   "source": [
    "### 3.\tWrite a Python Program to Print the Fibonacci sequence?"
   ]
  },
  {
   "cell_type": "code",
   "execution_count": 7,
   "id": "8ab3da69",
   "metadata": {},
   "outputs": [
    {
     "name": "stdout",
     "output_type": "stream",
     "text": [
      "Fibonacci of 5 is 7\n"
     ]
    }
   ],
   "source": [
    "n = 5\n",
    "a = 0\n",
    "b = 1\n",
    "if n > 1:\n",
    "    f = (n-1) + (n-2)\n",
    "    print(f'Fibonacci of {n} is {f}')\n",
    "else:\n",
    "    print('Fibonacci does not exist')"
   ]
  },
  {
   "cell_type": "code",
   "execution_count": 8,
   "id": "9d2efb77",
   "metadata": {},
   "outputs": [
    {
     "data": {
      "text/plain": [
       "7"
      ]
     },
     "execution_count": 8,
     "metadata": {},
     "output_type": "execute_result"
    }
   ],
   "source": [
    "(5-1)+(5-2)"
   ]
  },
  {
   "cell_type": "code",
   "execution_count": 9,
   "id": "ba40f7a9",
   "metadata": {},
   "outputs": [
    {
     "name": "stdout",
     "output_type": "stream",
     "text": [
      "Fibonacci Series - \n",
      "0 1 1 2 3 5 8 13 21 34 55 89 144 233 377 610 987 "
     ]
    }
   ],
   "source": [
    "def PrintFibonacci(length): \n",
    "    first = 0\n",
    "    second = 1\n",
    "\n",
    "    print(first, second, end=\" \")\n",
    "    length -= 2\n",
    "    \n",
    "    while length > 0:\n",
    "        print(first + second, end=\" \")\n",
    "        temp = second\n",
    "        second = first + second\n",
    "        first = temp\n",
    "        length -= 1\n",
    "\n",
    "if __name__ == \"__main__\":\n",
    "    print(\"Fibonacci Series - \")\n",
    "    PrintFibonacci(17)\n",
    "    pass"
   ]
  },
  {
   "cell_type": "code",
   "execution_count": 10,
   "id": "bee06513",
   "metadata": {},
   "outputs": [
    {
     "name": "stdout",
     "output_type": "stream",
     "text": [
      "0 1 1 2 3 5 8 13 21 34 55 89 144 233 377 610 987 "
     ]
    }
   ],
   "source": [
    "#OR\n",
    "def fibonacci(n):\n",
    "    first = 0\n",
    "    second = 1 \n",
    "    \n",
    "    for i in range(n):\n",
    "        print(first , end = \" \")\n",
    "        temp = first\n",
    "        first = second\n",
    "        second = temp + first\n",
    "fibonacci(17)"
   ]
  },
  {
   "cell_type": "markdown",
   "id": "b1bf5a87",
   "metadata": {},
   "source": [
    "### 4.\tWrite a Python Program to Check Armstrong Number?"
   ]
  },
  {
   "cell_type": "code",
   "execution_count": 11,
   "id": "80770685",
   "metadata": {},
   "outputs": [
    {
     "data": {
      "text/plain": [
       "True"
      ]
     },
     "execution_count": 11,
     "metadata": {},
     "output_type": "execute_result"
    }
   ],
   "source": [
    "def armstrong_number(n):\n",
    "    sum = 0\n",
    "    num = n\n",
    "    while num != 0:\n",
    "        digit = num %10\n",
    "        sum += digit**3 \n",
    "        num = num // 10\n",
    "    if n == sum:\n",
    "        return True\n",
    "    else :\n",
    "        return False \n",
    "armstrong_number(407)"
   ]
  },
  {
   "cell_type": "code",
   "execution_count": 12,
   "id": "4e481926",
   "metadata": {},
   "outputs": [
    {
     "name": "stdout",
     "output_type": "stream",
     "text": [
      "Enter a Number: 407\n",
      "407 is not an Armstrong number\n"
     ]
    }
   ],
   "source": [
    "num = int(input(\"Enter a Number: \"))\n",
    "\n",
    "Sum = 0\n",
    "temp = num\n",
    "while temp>0:\n",
    "    digit = temp%10\n",
    "    Sum += digit **3\n",
    "    temp//=10\n",
    "if num == sum:\n",
    "    print(num,\"is an Armstrong number\")\n",
    "else:\n",
    "    print(num,\"is not an Armstrong number\")"
   ]
  },
  {
   "cell_type": "markdown",
   "id": "4d79eb05",
   "metadata": {},
   "source": [
    "### 5. Write a Python Program to Find Armstrong Number in an Interval?"
   ]
  },
  {
   "cell_type": "code",
   "execution_count": 13,
   "id": "caf0f647",
   "metadata": {},
   "outputs": [
    {
     "name": "stdout",
     "output_type": "stream",
     "text": [
      "Enter lower range: 1\n",
      "Enter upper range: 300\n",
      "1\n",
      "153\n"
     ]
    }
   ],
   "source": [
    "lower = int(input(\"Enter lower range: \"))\n",
    "upper = int(input(\"Enter upper range: \"))\n",
    " \n",
    "for num in range(lower,upper + 1):\n",
    "   # initialize sum\n",
    "    sum = 0\n",
    " \n",
    "   # find the sum of the cube of each digit\n",
    "    temp = num\n",
    "    while temp > 0:\n",
    "        digit = temp % 10\n",
    "        sum += digit ** 3\n",
    "        temp //= 10\n",
    "    if num == sum:\n",
    "        print(num)"
   ]
  },
  {
   "cell_type": "code",
   "execution_count": 14,
   "id": "55b37822",
   "metadata": {},
   "outputs": [
    {
     "data": {
      "text/plain": [
       "[1, 153]"
      ]
     },
     "execution_count": 14,
     "metadata": {},
     "output_type": "execute_result"
    }
   ],
   "source": [
    "#OR\n",
    "list(filter(armstrong_number,[i for i in range(1,300)]))"
   ]
  },
  {
   "cell_type": "markdown",
   "id": "c1a1f13f",
   "metadata": {},
   "source": [
    "### 6. Write a Python Program to Find the Sum of Natural Numbers?"
   ]
  },
  {
   "cell_type": "code",
   "execution_count": 15,
   "id": "99cd6b75",
   "metadata": {},
   "outputs": [
    {
     "name": "stdout",
     "output_type": "stream",
     "text": [
      "Enter a Natural Number: 6\n",
      "Sum of Natural Numbers: 21\n"
     ]
    }
   ],
   "source": [
    "n = int(input(\"Enter a Natural Number: \"))\n",
    "\n",
    "if n <= 0:\n",
    "    print(f\"{n} is not a Natural Number\")\n",
    "else:\n",
    "    s = 0\n",
    "    for i in range(0, n+1):\n",
    "        s+=i\n",
    "    print(f'Sum of Natural Numbers: {s}')"
   ]
  },
  {
   "cell_type": "code",
   "execution_count": 16,
   "id": "a131ea09",
   "metadata": {},
   "outputs": [
    {
     "name": "stdout",
     "output_type": "stream",
     "text": [
      "Enter the num: 6\n",
      "The sum is 21\n"
     ]
    }
   ],
   "source": [
    "num = int(input(\"Enter the num: \"))\n",
    "\n",
    "if num < 0:\n",
    "    print(\"Enter a positive number\")\n",
    "else:\n",
    "    sum = 0\n",
    "   # use while loop to iterate until zero\n",
    "    while(num > 0):\n",
    "        sum += num\n",
    "        num -= 1\n",
    "    print(\"The sum is\", sum)"
   ]
  }
 ],
 "metadata": {
  "kernelspec": {
   "display_name": "Python 3",
   "language": "python",
   "name": "python3"
  },
  "language_info": {
   "codemirror_mode": {
    "name": "ipython",
    "version": 3
   },
   "file_extension": ".py",
   "mimetype": "text/x-python",
   "name": "python",
   "nbconvert_exporter": "python",
   "pygments_lexer": "ipython3",
   "version": "3.8.8"
  }
 },
 "nbformat": 4,
 "nbformat_minor": 5
}
