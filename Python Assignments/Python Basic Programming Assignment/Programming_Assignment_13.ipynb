{
 "cells": [
  {
   "cell_type": "markdown",
   "id": "d3ed49a8",
   "metadata": {},
   "source": [
    "## Programming Assignment 13\n",
    "\n",
    "### Q1.Write a program that calculates and prints the value according to the given formula:\n",
    "\n",
    "Q = Square root of ``[(2 * C * D)/H]``\n",
    "\n",
    "Following are the fixed values of C and H:\n",
    "C is 50. H is 30.\n",
    "\n",
    "D is the variable whose values should be input to your program in a comma-separated sequence.\n",
    "\n",
    "**Example:** Let us assume the following comma separated input sequence is given to the program:``100,150,180``\n",
    "The output of the program should be: ``18,22,24``"
   ]
  },
  {
   "cell_type": "code",
   "execution_count": 2,
   "id": "2389ef84",
   "metadata": {},
   "outputs": [],
   "source": [
    "def calprog():\n",
    "    from math import sqrt\n",
    "    n = eval(input(\"Enter your Input: \"))\n",
    "    output = []\n",
    "    c = 50\n",
    "    h = 30\n",
    "    for i in n:\n",
    "        q = str(int(sqrt((2*c*i)/h)))\n",
    "        output.append(q)\n",
    "    print(f\"Output: {','.join(output)}\")"
   ]
  },
  {
   "cell_type": "code",
   "execution_count": 3,
   "id": "d91144fb",
   "metadata": {},
   "outputs": [
    {
     "name": "stdout",
     "output_type": "stream",
     "text": [
      "Enter your Input: 100,150,180\n",
      "Output: 18,22,24\n"
     ]
    }
   ],
   "source": [
    "calprog()"
   ]
  },
  {
   "cell_type": "markdown",
   "id": "d2fa0158",
   "metadata": {},
   "source": [
    "### Q2.Write a program which takes 2 digits, X,Y as input and generates a 2-dimensional array. The element value in the i-th row and j-th column of the array should be i*j.\n",
    "\n",
    "    Note: i=0,1.., X-1; j=0,1,¡Y-1.\n",
    "**Example:** Suppose the following inputs are given to the program: 3,5\n",
    "\n",
    "Then, the output of the program should be:``[[0, 0, 0, 0, 0], [0, 1, 2, 3, 4], [0, 2, 4, 6, 8]]``"
   ]
  },
  {
   "cell_type": "code",
   "execution_count": 4,
   "id": "2a849450",
   "metadata": {},
   "outputs": [],
   "source": [
    "import array as arr\n",
    "def generateArray():\n",
    "    in_x = int(input('Enter the No of Rows:'))\n",
    "    in_y = int(input('Enter the No of Columns:')) \n",
    "    out_array = []\n",
    "    for ele in range(in_x):\n",
    "        out_array.insert(in_x,[])\n",
    "        for sub_ele in range(in_y):\n",
    "            out_array[ele].append(ele*sub_ele)\n",
    "    print(out_array)"
   ]
  },
  {
   "cell_type": "code",
   "execution_count": 5,
   "id": "79c03a51",
   "metadata": {},
   "outputs": [
    {
     "name": "stdout",
     "output_type": "stream",
     "text": [
      "Enter the No of Rows:3\n",
      "Enter the No of Columns:5\n",
      "[[0, 0, 0, 0, 0], [0, 1, 2, 3, 4], [0, 2, 4, 6, 8]]\n"
     ]
    }
   ],
   "source": [
    "generateArray()"
   ]
  },
  {
   "cell_type": "markdown",
   "id": "833cda2d",
   "metadata": {},
   "source": [
    "### Q3.Write a program that accepts a comma separated sequence of words as input and prints the words in a comma-separated sequence after sorting them alphabetically ?\n",
    "\n",
    "Suppose the following input is supplied to the program: without,hello,bag,world\n",
    "\n",
    "Then, the output should be: bag,hello,without,world"
   ]
  },
  {
   "cell_type": "code",
   "execution_count": 6,
   "id": "08d7caa3",
   "metadata": {},
   "outputs": [],
   "source": [
    "def sortString():\n",
    "    in_string = input(\"Enter the Input String: \")\n",
    "    out_string = ','.join(sorted(in_string.split(',')))\n",
    "    print(f'Output: {out_string}')"
   ]
  },
  {
   "cell_type": "code",
   "execution_count": 7,
   "id": "a2d0ad37",
   "metadata": {},
   "outputs": [
    {
     "name": "stdout",
     "output_type": "stream",
     "text": [
      "Enter the Input String: without,hello,bag,world\n",
      "Output: bag,hello,without,world\n"
     ]
    }
   ],
   "source": [
    "sortString()"
   ]
  },
  {
   "cell_type": "markdown",
   "id": "49e8c83a",
   "metadata": {},
   "source": [
    "### Q4.Write a program that accepts a sequence of whitespace separated words as input and prints the words after removing all duplicate words and sorting them alphanumerically.\n",
    "\n",
    "Suppose the following input is supplied to the program: hello world and practice makes perfect and hello world again\n",
    "\n",
    "Then, the output should be: again and hello makes perfect practice world"
   ]
  },
  {
   "cell_type": "code",
   "execution_count": 8,
   "id": "858da41b",
   "metadata": {},
   "outputs": [],
   "source": [
    "def sortAlphaNumerically():\n",
    "    in_string = input(\"Enter the Input String: \")\n",
    "    out_string = ' '.join(sorted(sorted(list(set(in_string.split(\" \"))))))\n",
    "    print(f'Output: {out_string}')"
   ]
  },
  {
   "cell_type": "code",
   "execution_count": 9,
   "id": "6d2a1eb5",
   "metadata": {},
   "outputs": [
    {
     "name": "stdout",
     "output_type": "stream",
     "text": [
      "Enter the Input String: hello world and practice makes perfect and hello world again\n",
      "Output: again and hello makes perfect practice world\n"
     ]
    }
   ],
   "source": [
    "sortAlphaNumerically()"
   ]
  },
  {
   "cell_type": "markdown",
   "id": "24969eef",
   "metadata": {},
   "source": [
    "### Q5.Write a program that accepts a sentence and calculate the number of letters and digits.\n",
    "\n",
    "Suppose the following input is supplied to the program: hello world! 123\n",
    "Then, the output should be:\n",
    "LETTERS 10\n",
    "DIGITS 3"
   ]
  },
  {
   "cell_type": "code",
   "execution_count": 18,
   "id": "e42ad71d",
   "metadata": {},
   "outputs": [],
   "source": [
    "def LetterDigitCount():\n",
    "    n = input(\"Enter your string: \")\n",
    "    d = 0\n",
    "    a = 0\n",
    "    import re\n",
    "    for i in n:\n",
    "        if i.isdigit()==True:\n",
    "            d = d + 1\n",
    "        if i.isalpha()==True:\n",
    "            a = a + 1\n",
    "        else:\n",
    "            pass\n",
    "    print(f'LETTERS: {a}\\nDIGITS: {d}')"
   ]
  },
  {
   "cell_type": "code",
   "execution_count": 19,
   "id": "7efb193d",
   "metadata": {},
   "outputs": [
    {
     "name": "stdout",
     "output_type": "stream",
     "text": [
      "Enter your string: hello world! 123\n",
      "LETTERS: 10\n",
      "DIGITS: 3\n"
     ]
    }
   ],
   "source": [
    "LetterDigitCount()"
   ]
  },
  {
   "cell_type": "markdown",
   "id": "d89ec1a9",
   "metadata": {},
   "source": [
    "### Q6.A website requires the users to input username and password to register. Write a program to check the validity of password input by users.\n",
    "\n",
    "Following are the criteria for checking the password:\n",
    "\n",
    "    1. At least 1 letter between [a-z]\n",
    "    2. At least 1 number between [0-9]\n",
    "    3. At least 1 letter between [A-Z]\n",
    "    4. At least 1 character from [$#@]\n",
    "    5. Minimum length of transaction password: 6\n",
    "    6. Maximum length of transaction password: 12\n",
    "\n",
    "Your program should accept a sequence of comma separated passwords and will check them according to the above criteria. Passwords that match the criteria are to be printed, each separated by a comma.\n",
    "\n",
    "Example:\n",
    "If the following passwords are given as input to the program: ABd1234@1,a F1#,2w3E*,2We3345\n",
    "Then, the output of the program should be:ABd1234@1"
   ]
  },
  {
   "cell_type": "code",
   "execution_count": 22,
   "id": "271e2938",
   "metadata": {},
   "outputs": [],
   "source": [
    "def checkPassword():\n",
    "    in_string = input(\"Enter the Input String: \")\n",
    "    small_list = \"abcdefghijklmnopqrstuvwxyz\"\n",
    "    cap_list = \"ABCDEFGHIJKLMNOPQRSTUVWXYZ\"\n",
    "    num_list = \"0123456789\"\n",
    "    special_list = \"$#@\"\n",
    "    for ele in in_string.split(\",\"):\n",
    "        if len(ele) <= 12 and len(ele) >=6 :\n",
    "            if any(i.isupper() for i in ele):\n",
    "                if any(i.islower() for i in ele):\n",
    "                    if any(i for i in ele if i in special_list):\n",
    "                        print(f'\\nCorrect Password: {ele}')"
   ]
  },
  {
   "cell_type": "code",
   "execution_count": 23,
   "id": "21818d4e",
   "metadata": {},
   "outputs": [
    {
     "name": "stdout",
     "output_type": "stream",
     "text": [
      "Enter the Input String: ABd1234@1,a F1#,2w3E*,2We3345\n",
      "\n",
      "Correct Password: ABd1234@1\n"
     ]
    }
   ],
   "source": [
    "checkPassword()"
   ]
  },
  {
   "cell_type": "code",
   "execution_count": null,
   "id": "33a1c467",
   "metadata": {},
   "outputs": [],
   "source": []
  }
 ],
 "metadata": {
  "kernelspec": {
   "display_name": "Python 3",
   "language": "python",
   "name": "python3"
  },
  "language_info": {
   "codemirror_mode": {
    "name": "ipython",
    "version": 3
   },
   "file_extension": ".py",
   "mimetype": "text/x-python",
   "name": "python",
   "nbconvert_exporter": "python",
   "pygments_lexer": "ipython3",
   "version": "3.8.8"
  }
 },
 "nbformat": 4,
 "nbformat_minor": 5
}
