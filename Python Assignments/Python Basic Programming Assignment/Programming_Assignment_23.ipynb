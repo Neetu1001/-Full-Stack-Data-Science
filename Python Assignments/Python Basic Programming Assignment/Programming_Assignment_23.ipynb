{
 "cells": [
  {
   "cell_type": "markdown",
   "id": "2b06db96",
   "metadata": {},
   "source": [
    "## Programming Assignment 23\n",
    "\n",
    "### Q1.Create a function that takes a number as an argument and returns True or False depending on whether the number is symmetrical or not. A number is symmetrical when it is the same as its reverse.\n",
    "\n",
    "**Examples:**\n",
    "\n",
    "    is_symmetrical(7227) ➞ True\n",
    "    is_symmetrical(12567) ➞ False\n",
    "    is_symmetrical(44444444) ➞ True\n",
    "    is_symmetrical(9939) ➞ False\n",
    "    is_symmetrical(1112111) ➞ True"
   ]
  },
  {
   "cell_type": "code",
   "execution_count": 1,
   "id": "012a5c3a",
   "metadata": {},
   "outputs": [],
   "source": [
    "def is_symmetrical(n):\n",
    "    if str(n) == str(n)[::-1]:\n",
    "        print(f\"{n} ➞ {True}\")\n",
    "    else:\n",
    "        print(f\"{n} ➞ {False}\")"
   ]
  },
  {
   "cell_type": "code",
   "execution_count": 2,
   "id": "bfbca7b6",
   "metadata": {},
   "outputs": [
    {
     "name": "stdout",
     "output_type": "stream",
     "text": [
      "7227 ➞ True\n",
      "12567 ➞ False\n",
      "44444444 ➞ True\n",
      "9939 ➞ False\n",
      "1112111 ➞ True\n"
     ]
    }
   ],
   "source": [
    "is_symmetrical(7227)\n",
    "is_symmetrical(12567)\n",
    "is_symmetrical(44444444)\n",
    "is_symmetrical(9939)\n",
    "is_symmetrical(1112111)"
   ]
  },
  {
   "cell_type": "markdown",
   "id": "4cdb31b2",
   "metadata": {},
   "source": [
    "### Q2.Given a string of numbers separated by a comma and space, return the product of the numbers.\n",
    "\n",
    "**Examples:**\n",
    "\n",
    "    multiply_nums(\"2, 3\") ➞ 6\n",
    "    multiply_nums(\"1, 2, 3, 4\") ➞ 24\n",
    "    multiply_nums(\"54, 75, 453, 0\") ➞ 0\n",
    "    multiply_nums(\"10, -2\") ➞ -20"
   ]
  },
  {
   "cell_type": "code",
   "execution_count": 3,
   "id": "52232446",
   "metadata": {},
   "outputs": [],
   "source": [
    "def multiply_nums(s):\n",
    "    o_s = s.replace(' ','').split(',')\n",
    "    out_num = 1\n",
    "    for i in o_s:\n",
    "        out_num = out_num * int(i)\n",
    "    print(f'{s} ➞ {out_num}')"
   ]
  },
  {
   "cell_type": "code",
   "execution_count": 4,
   "id": "dfe3fbf1",
   "metadata": {},
   "outputs": [
    {
     "name": "stdout",
     "output_type": "stream",
     "text": [
      "2, 3 ➞ 6\n",
      "1, 2, 3, 4 ➞ 24\n",
      "54, 75, 453, 0 ➞ 0\n",
      "10, -2 ➞ -20\n"
     ]
    }
   ],
   "source": [
    "multiply_nums(\"2, 3\")\n",
    "multiply_nums(\"1, 2, 3, 4\")\n",
    "multiply_nums(\"54, 75, 453, 0\")\n",
    "multiply_nums(\"10, -2\")"
   ]
  },
  {
   "cell_type": "markdown",
   "id": "c6835801",
   "metadata": {},
   "source": [
    "### Q3.Create a function that squares every digit of a number.\n",
    "\n",
    "**Examples:**\n",
    "\n",
    "    square_digits(9119) ➞ 811181\n",
    "    square_digits(2483) ➞ 416649\n",
    "    square_digits(3212) ➞ 9414\n",
    "\n",
    "Notes: The function receives an integer and must return an integer."
   ]
  },
  {
   "cell_type": "code",
   "execution_count": 23,
   "id": "19f45894",
   "metadata": {},
   "outputs": [],
   "source": [
    "def square_digits(n):\n",
    "    s = 0\n",
    "    l = [str(int(i)**2) for i in str(n)]\n",
    "    output = ''.join(l)\n",
    "    print(f'➞ {output}')"
   ]
  },
  {
   "cell_type": "code",
   "execution_count": 25,
   "id": "ce1d6e7d",
   "metadata": {},
   "outputs": [
    {
     "name": "stdout",
     "output_type": "stream",
     "text": [
      "➞ 811181\n",
      "➞ 416649\n",
      "➞ 9414\n"
     ]
    }
   ],
   "source": [
    "square_digits(9119)\n",
    "square_digits(2483)\n",
    "square_digits(3212)"
   ]
  },
  {
   "cell_type": "markdown",
   "id": "cfb0fc98",
   "metadata": {},
   "source": [
    "### Q4.Create a function that sorts a list and removes all duplicate items from it.\n",
    "\n",
    "**Examples:**\n",
    "\n",
    "    setify([1, 3, 3, 5, 5]) ➞ [1, 3, 5]\n",
    "    setify([4, 4, 4, 4]) ➞ [4]\n",
    "    setify([5, 7, 8, 9, 10, 15]) ➞ [5, 7, 8, 9, 10, 15]\n",
    "    setify([3, 3, 3, 2, 1]) ➞ [1, 2, 3]"
   ]
  },
  {
   "cell_type": "code",
   "execution_count": 29,
   "id": "1766ee02",
   "metadata": {},
   "outputs": [],
   "source": [
    "def setify(l):\n",
    "    li = sorted(l)\n",
    "    s = set(li)\n",
    "    lst = list(s)\n",
    "    print(f'➞ {lst}')"
   ]
  },
  {
   "cell_type": "code",
   "execution_count": 30,
   "id": "31ed54e7",
   "metadata": {},
   "outputs": [
    {
     "name": "stdout",
     "output_type": "stream",
     "text": [
      "➞ [1, 3, 5]\n",
      "➞ [4]\n",
      "➞ [5, 7, 8, 9, 10, 15]\n",
      "➞ [1, 2, 3]\n"
     ]
    }
   ],
   "source": [
    "setify([1, 3, 3, 5, 5])\n",
    "setify([4, 4, 4, 4])\n",
    "setify([5, 7, 8, 9, 10, 15])\n",
    "setify([3, 3, 3, 2, 1])"
   ]
  },
  {
   "cell_type": "markdown",
   "id": "d31c4c63",
   "metadata": {},
   "source": [
    "### Q5.Create a function that returns the mean of all digits.\n",
    "\n",
    "**Examples:**\n",
    "\n",
    "    mean(42) ➞ 3\n",
    "    mean(12345) ➞ 3\n",
    "    mean(666) ➞ 6\n",
    "\n",
    "Notes:\n",
    "\n",
    "1. The mean of all digits is the sum of digits / how many digits there are (e.g. mean of digits in 512 is (5+1+2)/3(number of digits) = 8/3=2).\n",
    "2. The mean will always be an integer."
   ]
  },
  {
   "cell_type": "code",
   "execution_count": 36,
   "id": "e11ec429",
   "metadata": {},
   "outputs": [],
   "source": [
    "def mean(m):\n",
    "    s = 0\n",
    "    for i in str(m):\n",
    "        s = s + (int(i))\n",
    "    mean = s/(len(str(m)))\n",
    "    print(f\"Output ➞ {mean:.0f}\")"
   ]
  },
  {
   "cell_type": "code",
   "execution_count": 37,
   "id": "ea9fb9cc",
   "metadata": {},
   "outputs": [
    {
     "name": "stdout",
     "output_type": "stream",
     "text": [
      "Output ➞ 3\n",
      "Output ➞ 3\n",
      "Output ➞ 6\n"
     ]
    }
   ],
   "source": [
    "mean(42)\n",
    "mean(12345)\n",
    "mean(666)"
   ]
  }
 ],
 "metadata": {
  "kernelspec": {
   "display_name": "Python 3",
   "language": "python",
   "name": "python3"
  },
  "language_info": {
   "codemirror_mode": {
    "name": "ipython",
    "version": 3
   },
   "file_extension": ".py",
   "mimetype": "text/x-python",
   "name": "python",
   "nbconvert_exporter": "python",
   "pygments_lexer": "ipython3",
   "version": "3.8.8"
  }
 },
 "nbformat": 4,
 "nbformat_minor": 5
}
