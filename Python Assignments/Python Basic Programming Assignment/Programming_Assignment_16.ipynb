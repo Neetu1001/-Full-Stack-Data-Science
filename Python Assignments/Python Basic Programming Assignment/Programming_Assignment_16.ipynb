{
 "cells": [
  {
   "cell_type": "markdown",
   "id": "5ffab424",
   "metadata": {},
   "source": [
    "## Programming Assignment 16\n",
    "\n",
    "### Q1.Write a function that stutters a word as if someone is struggling to read it. The first two letters are repeated twice with an ellipsis ... and space after each, and then the word is pronounced with a question mark ?\n",
    "\n",
    "**Examples:** \n",
    "\n",
    "    stutter(\"incredible\") ➞ \"in... in... incredible?\"\n",
    "    stutter(\"enthusiastic\") ➞ \"en... en... enthusiastic?\"\n",
    "    stutter(\"outstanding\") ➞ \"ou... ou... outstanding?\"\n",
    "\n",
    "Hint :- Assume all input is in lower case and at least two characters long."
   ]
  },
  {
   "cell_type": "code",
   "execution_count": 12,
   "id": "404e61b1",
   "metadata": {},
   "outputs": [],
   "source": [
    "def stutter():\n",
    "    s = input(\"Enter your string: \")\n",
    "    st = s.lower()\n",
    "    if len(st) > 2:\n",
    "        print(f\"stutter of '{st}'➞ {st[0]+st[1]}... {st[0]+st[1]}... {st} \")"
   ]
  },
  {
   "cell_type": "code",
   "execution_count": 13,
   "id": "f898f26f",
   "metadata": {},
   "outputs": [
    {
     "name": "stdout",
     "output_type": "stream",
     "text": [
      "Enter your string: incredible?\n",
      "stutter of 'incredible?'➞ in... in... incredible? \n"
     ]
    }
   ],
   "source": [
    "stutter()"
   ]
  },
  {
   "cell_type": "code",
   "execution_count": 14,
   "id": "61defe76",
   "metadata": {},
   "outputs": [
    {
     "name": "stdout",
     "output_type": "stream",
     "text": [
      "Enter your string: enthusiastic?\n",
      "stutter of 'enthusiastic?'➞ en... en... enthusiastic? \n"
     ]
    }
   ],
   "source": [
    "stutter()"
   ]
  },
  {
   "cell_type": "code",
   "execution_count": 15,
   "id": "aa709476",
   "metadata": {},
   "outputs": [
    {
     "name": "stdout",
     "output_type": "stream",
     "text": [
      "Enter your string: outstanding?\n",
      "stutter of 'outstanding?'➞ ou... ou... outstanding? \n"
     ]
    }
   ],
   "source": [
    "stutter()"
   ]
  },
  {
   "cell_type": "markdown",
   "id": "b6595eea",
   "metadata": {},
   "source": [
    "### Q2..Create a function that takes an angle in radians and returns the corresponding angle in degrees rounded to one decimal place ?\n",
    "\n",
    "**Examples:** \n",
    "\n",
    "radians_to_degrees(1) ➞ **57.3**\n",
    "\n",
    "radians_to_degrees(20) ➞ **1145.9**\n",
    "\n",
    "radians_to_degrees(50) ➞ **2864.8**"
   ]
  },
  {
   "cell_type": "code",
   "execution_count": 28,
   "id": "c82ff5e1",
   "metadata": {},
   "outputs": [],
   "source": [
    "def radian_to_degree():\n",
    "    r = int(input(\"Enter the value of Radian: \"))\n",
    "    import math\n",
    "    d = r*180/math.pi\n",
    "    print(f'Radian of {r} to Dedrees: {round(d,1)}')"
   ]
  },
  {
   "cell_type": "code",
   "execution_count": 31,
   "id": "37cc54a4",
   "metadata": {},
   "outputs": [
    {
     "name": "stdout",
     "output_type": "stream",
     "text": [
      "Enter the value of Radian: 1\n",
      "Radian of 1 to Dedrees: 57.3\n"
     ]
    }
   ],
   "source": [
    "radian_to_degree()"
   ]
  },
  {
   "cell_type": "code",
   "execution_count": 29,
   "id": "19b47829",
   "metadata": {},
   "outputs": [
    {
     "name": "stdout",
     "output_type": "stream",
     "text": [
      "Enter the value of Radian: 20\n",
      "Radian of 20 to Dedrees: 1145.9\n"
     ]
    }
   ],
   "source": [
    "radian_to_degree()"
   ]
  },
  {
   "cell_type": "code",
   "execution_count": 30,
   "id": "d0df8f3d",
   "metadata": {},
   "outputs": [
    {
     "name": "stdout",
     "output_type": "stream",
     "text": [
      "Enter the value of Radian: 50\n",
      "Radian of 50 to Dedrees: 2864.8\n"
     ]
    }
   ],
   "source": [
    "radian_to_degree()"
   ]
  },
  {
   "cell_type": "markdown",
   "id": "595f4547",
   "metadata": {},
   "source": [
    "### Q3.In this challenge, establish if a given integer num is a Curzon number. If 1 plus 2 elevated to num is exactly divisible by 1 plus 2 multiplied by num, then num is a Curzon number. Given a non-negative integer num, implement a function that returns True if num is a Curzon number, or False otherwise.\n",
    "\n",
    "**Examples:**\n",
    "\n",
    "is_curzon(5) ➞ ``True`` # 2 ** 5 + 1 = 33 # 2 * 5 + 1 = 11 # ``33 is a multiple of 11`` \n",
    "\n",
    "is_curzon(10) ➞ ``False`` # 2 ** 10 + 1 = 1025 # 2 * 10 + 1 = 21 # ``1025 is not a multiple of 21`` \n",
    "\n",
    "is_curzon(14) ➞ ``True`` # 2 ** 14 + 1 = 16385 # 2 * 14 + 1 = 29 # ``16385 is a multiple of 29``"
   ]
  },
  {
   "cell_type": "code",
   "execution_count": 4,
   "id": "057cf93d",
   "metadata": {},
   "outputs": [],
   "source": [
    "def curzon_num():\n",
    "    n = int(input(\"Enter Your Number: \"))\n",
    "    num = (2 ** n) + 1\n",
    "    den = (2 * n) + 1\n",
    "    if num%den == 0:\n",
    "        print(f\"{n} is a Curzon number\")\n",
    "    else:\n",
    "        print(f\"{n} is not a Curzon number\")"
   ]
  },
  {
   "cell_type": "code",
   "execution_count": 2,
   "id": "40fe6695",
   "metadata": {},
   "outputs": [
    {
     "name": "stdout",
     "output_type": "stream",
     "text": [
      "Enter Your Number: 5\n",
      "5 is a Curzon number\n"
     ]
    }
   ],
   "source": [
    "curzon_num()"
   ]
  },
  {
   "cell_type": "code",
   "execution_count": 5,
   "id": "da879499",
   "metadata": {},
   "outputs": [
    {
     "name": "stdout",
     "output_type": "stream",
     "text": [
      "Enter Your Number: 10\n",
      "10 is not a Curzon number\n"
     ]
    }
   ],
   "source": [
    "curzon_num()"
   ]
  },
  {
   "cell_type": "code",
   "execution_count": 6,
   "id": "371378a9",
   "metadata": {},
   "outputs": [
    {
     "name": "stdout",
     "output_type": "stream",
     "text": [
      "Enter Your Number: 14\n",
      "14 is a Curzon number\n"
     ]
    }
   ],
   "source": [
    "curzon_num()"
   ]
  },
  {
   "cell_type": "markdown",
   "id": "cc3db7d3",
   "metadata": {},
   "source": [
    "### Q4.Given the side length x find the area of a hexagon ?\n",
    "\n",
    "**Examples:** \n",
    "\n",
    "    area_of_hexagon(1) ➞ 2.6\n",
    "    area_of_hexagon(2) ➞ 10.4\n",
    "    area_of_hexagon(3) ➞ 23.4"
   ]
  },
  {
   "cell_type": "code",
   "execution_count": 19,
   "id": "1a28b03d",
   "metadata": {},
   "outputs": [],
   "source": [
    "def area_of_hexagon():\n",
    "    s = int(input(\"Enter Side Length: \"))\n",
    "    import math\n",
    "    a = ((3* math.sqrt(3))/2)* (s**2)\n",
    "    print(f\"Area of Hexagon with side {s}: {round(a,1)}\")"
   ]
  },
  {
   "cell_type": "code",
   "execution_count": 20,
   "id": "ad83069c",
   "metadata": {},
   "outputs": [
    {
     "name": "stdout",
     "output_type": "stream",
     "text": [
      "Enter Side Length: 1\n",
      "Area of Hexagon with side 1: 2.6\n"
     ]
    }
   ],
   "source": [
    "area_of_hexagon()"
   ]
  },
  {
   "cell_type": "code",
   "execution_count": 21,
   "id": "86ae6f91",
   "metadata": {},
   "outputs": [
    {
     "name": "stdout",
     "output_type": "stream",
     "text": [
      "Enter Side Length: 2\n",
      "Area of Hexagon with side 2: 10.4\n"
     ]
    }
   ],
   "source": [
    "area_of_hexagon()"
   ]
  },
  {
   "cell_type": "code",
   "execution_count": 22,
   "id": "fccad199",
   "metadata": {},
   "outputs": [
    {
     "name": "stdout",
     "output_type": "stream",
     "text": [
      "Enter Side Length: 3\n",
      "Area of Hexagon with side 3: 23.4\n"
     ]
    }
   ],
   "source": [
    "area_of_hexagon()"
   ]
  },
  {
   "cell_type": "markdown",
   "id": "969a9a50",
   "metadata": {},
   "source": [
    "### Q5.Create a function that returns a base-2 (binary) representation of a base-10 (decimal) string number. To convert is simple:\n",
    "\n",
    "    ((2) means base-2 and (10) means base-10)\n",
    "    010101001(2) = 1 + 8 + 32 + 128.\n",
    "\n",
    "Going from right to left, the value of the most right bit is 1, now from that every bit to the left will be x2 the value, value of an 8 bit binary numbers are (256, 128, 64, 32, 16, 8, 4, 2, 1).\n",
    "\n",
    "**Examples:**\n",
    "\n",
    "    binary(1) ➞ \"1\" # 1* 1 = 1 \n",
    "    binary(5) ➞ \"101\" # 1 1 + 1 4 = 5 \n",
    "    binary(10) ➞ \"1010\" # 1 2 + 1 8 = 10"
   ]
  },
  {
   "cell_type": "code",
   "execution_count": 23,
   "id": "37ab2e80",
   "metadata": {},
   "outputs": [
    {
     "name": "stdout",
     "output_type": "stream",
     "text": [
      "Enter a Number: 1\n",
      "Binary of 1 ➞ 1\n",
      "Enter a Number: 5\n",
      "Binary of 5 ➞ 101\n",
      "Enter a Number: 10\n",
      "Binary of 10 ➞ 1010\n"
     ]
    }
   ],
   "source": [
    "def getBinary():\n",
    "    in_num = int(input(\"Enter a Number: \"))\n",
    "    out_num = bin(in_num).replace('0b','') \n",
    "    print(f'Binary of {in_num} ➞ {out_num}')\n",
    "\n",
    "for x in range(3):\n",
    "    getBinary()"
   ]
  }
 ],
 "metadata": {
  "kernelspec": {
   "display_name": "Python 3",
   "language": "python",
   "name": "python3"
  },
  "language_info": {
   "codemirror_mode": {
    "name": "ipython",
    "version": 3
   },
   "file_extension": ".py",
   "mimetype": "text/x-python",
   "name": "python",
   "nbconvert_exporter": "python",
   "pygments_lexer": "ipython3",
   "version": "3.8.8"
  }
 },
 "nbformat": 4,
 "nbformat_minor": 5
}
