{
 "cells": [
  {
   "cell_type": "markdown",
   "id": "c0047530",
   "metadata": {},
   "source": [
    "## Programming Assignment 5\n",
    "\n",
    "### 1.\tWrite a Python Program to Find LCM?"
   ]
  },
  {
   "cell_type": "code",
   "execution_count": 24,
   "id": "29a3c7c6",
   "metadata": {},
   "outputs": [],
   "source": [
    "def lcm(num_1,num_2):\n",
    "\n",
    "    if num_1>num_2:\n",
    "        max = num_1\n",
    "    \n",
    "    else:\n",
    "        max = num_2\n",
    "    \n",
    "    while True:\n",
    "        if max % num_1 == 0 and max % num_2 == 0:\n",
    "            print(f\"LCM of {num_1} and {num_2} is {max}\")\n",
    "            break\n",
    "            \n",
    "        max = max+1"
   ]
  },
  {
   "cell_type": "code",
   "execution_count": 27,
   "id": "72671c79",
   "metadata": {},
   "outputs": [
    {
     "name": "stdout",
     "output_type": "stream",
     "text": [
      "LCM of 10 and 8 is 40\n"
     ]
    }
   ],
   "source": [
    "lcm(10,8)"
   ]
  },
  {
   "cell_type": "markdown",
   "id": "9e61a599",
   "metadata": {},
   "source": [
    "### 2. Write a Python Program to Find HCF?"
   ]
  },
  {
   "cell_type": "code",
   "execution_count": 28,
   "id": "8c89d864",
   "metadata": {},
   "outputs": [],
   "source": [
    "def hcf(num_1, num_2):\n",
    "    \n",
    "    if num_1 < num_2:\n",
    "        min = num_1\n",
    "        \n",
    "    else:\n",
    "        min = num_2\n",
    "        \n",
    "    for i in range(1, min+1):\n",
    "        if num_1 % i == 0 and num_2 %i ==0:\n",
    "            hcf = i\n",
    "            break\n",
    "    print(\"HCF is :\", hcf)"
   ]
  },
  {
   "cell_type": "code",
   "execution_count": 29,
   "id": "c7a60420",
   "metadata": {},
   "outputs": [
    {
     "name": "stdout",
     "output_type": "stream",
     "text": [
      "HCF is : 1\n"
     ]
    }
   ],
   "source": [
    "hcf(14,472)"
   ]
  },
  {
   "cell_type": "markdown",
   "id": "216f1fdd",
   "metadata": {},
   "source": [
    "### 3. Write a Python Program to Convert Decimal to Binary, Octal and Hexadecimal?"
   ]
  },
  {
   "cell_type": "code",
   "execution_count": 30,
   "id": "755b0d25",
   "metadata": {},
   "outputs": [
    {
     "name": "stdout",
     "output_type": "stream",
     "text": [
      "Enter a Number: 9\n",
      "Decimal to Binary:  0b1001\n",
      "Decimal to Octal:  0o11\n",
      "Decimal to Hexadecimal:  0x9\n"
     ]
    }
   ],
   "source": [
    "num = int(input(\"Enter a Number: \"))\n",
    "print(\"Decimal to Binary: \", bin(num))\n",
    "print(\"Decimal to Octal: \", oct(num))\n",
    "print(\"Decimal to Hexadecimal: \", hex(num))"
   ]
  },
  {
   "cell_type": "markdown",
   "id": "231e7359",
   "metadata": {},
   "source": [
    "### 4. Write a Python Program To Find ASCII value of a character?"
   ]
  },
  {
   "cell_type": "code",
   "execution_count": 31,
   "id": "189f8cea",
   "metadata": {},
   "outputs": [],
   "source": [
    "def ascii_value(c):\n",
    "    return ord(c)"
   ]
  },
  {
   "cell_type": "code",
   "execution_count": 32,
   "id": "cde5919f",
   "metadata": {},
   "outputs": [
    {
     "data": {
      "text/plain": [
       "97"
      ]
     },
     "execution_count": 32,
     "metadata": {},
     "output_type": "execute_result"
    }
   ],
   "source": [
    "ascii_value('a')"
   ]
  },
  {
   "cell_type": "markdown",
   "id": "1a744e65",
   "metadata": {},
   "source": [
    "### 5. Write a Python Program to Make a Simple Calculator with 4 basic mathematical operations?"
   ]
  },
  {
   "cell_type": "code",
   "execution_count": 41,
   "id": "2570e033",
   "metadata": {},
   "outputs": [],
   "source": [
    "def calculator(a,b):\n",
    "    m = input(\"Enter mathematical operations eg +,-,*,/: \")\n",
    "    r = 0\n",
    "    if m == \"+\":\n",
    "        r = a + b\n",
    "        return f'Sum of {a} and {b} is {r}'\n",
    "        \n",
    "    elif m == \"-\":\n",
    "        r = a-b\n",
    "        return f'Subtraction of {b} from {a} is {r}'\n",
    "    \n",
    "    elif m == \"*\":\n",
    "        r = a*b\n",
    "        return f'Multiplication of {a} and {b} is {r}'\n",
    "    \n",
    "    else:\n",
    "        r = a/b\n",
    "        return f'Division of {a} and {b} is {r}'"
   ]
  },
  {
   "cell_type": "code",
   "execution_count": 37,
   "id": "2266aeac",
   "metadata": {},
   "outputs": [
    {
     "name": "stdout",
     "output_type": "stream",
     "text": [
      "Enter mathematical operations eg +,-,*,/: +\n"
     ]
    },
    {
     "data": {
      "text/plain": [
       "'Sum of 20 and 30 is 50'"
      ]
     },
     "execution_count": 37,
     "metadata": {},
     "output_type": "execute_result"
    }
   ],
   "source": [
    "calculator(20,30)"
   ]
  },
  {
   "cell_type": "code",
   "execution_count": 38,
   "id": "3ca2693d",
   "metadata": {},
   "outputs": [
    {
     "name": "stdout",
     "output_type": "stream",
     "text": [
      "Enter mathematical operations eg +,-,*,/: -\n"
     ]
    },
    {
     "data": {
      "text/plain": [
       "'Subtraction of 30 from 20 is -10'"
      ]
     },
     "execution_count": 38,
     "metadata": {},
     "output_type": "execute_result"
    }
   ],
   "source": [
    "calculator(20,30)"
   ]
  },
  {
   "cell_type": "code",
   "execution_count": 39,
   "id": "eaedbe4f",
   "metadata": {},
   "outputs": [
    {
     "name": "stdout",
     "output_type": "stream",
     "text": [
      "Enter mathematical operations eg +,-,*,/: *\n"
     ]
    },
    {
     "data": {
      "text/plain": [
       "'Multiplication of 20 and 30 is 600'"
      ]
     },
     "execution_count": 39,
     "metadata": {},
     "output_type": "execute_result"
    }
   ],
   "source": [
    "calculator(20,30)"
   ]
  },
  {
   "cell_type": "code",
   "execution_count": 42,
   "id": "767c8c2c",
   "metadata": {},
   "outputs": [
    {
     "name": "stdout",
     "output_type": "stream",
     "text": [
      "Enter mathematical operations eg +,-,*,/: /\n"
     ]
    },
    {
     "data": {
      "text/plain": [
       "'Division of 20 and 30 is 0.6666666666666666'"
      ]
     },
     "execution_count": 42,
     "metadata": {},
     "output_type": "execute_result"
    }
   ],
   "source": [
    "calculator(20,30)"
   ]
  }
 ],
 "metadata": {
  "kernelspec": {
   "display_name": "Python 3",
   "language": "python",
   "name": "python3"
  },
  "language_info": {
   "codemirror_mode": {
    "name": "ipython",
    "version": 3
   },
   "file_extension": ".py",
   "mimetype": "text/x-python",
   "name": "python",
   "nbconvert_exporter": "python",
   "pygments_lexer": "ipython3",
   "version": "3.8.8"
  }
 },
 "nbformat": 4,
 "nbformat_minor": 5
}
