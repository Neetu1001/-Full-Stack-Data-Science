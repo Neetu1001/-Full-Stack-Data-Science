{
 "cells": [
  {
   "cell_type": "markdown",
   "id": "30161c03",
   "metadata": {},
   "source": [
    "## Programming Assignment 17\n",
    "\n",
    "### Q1.Create a function that takes three arguments a, b, c and returns the sum of the numbers that are evenly divided by c from the range a, b inclusive ?\n",
    "\n",
    "**Examples:**\n",
    "\n",
    "evenly_divisible(1, 10, 20) ➞ ``0`` # No number between 1 and 10 can be evenly divided by 20. \n",
    "\n",
    "evenly_divisible(1, 10, 2) ➞ ``30`` # 2 + 4 + 6 + 8 + 10 = 30 \n",
    "\n",
    "evenly_divisible(1, 10, 3) ➞ ``18`` # 3 + 6 + 9 = 18"
   ]
  },
  {
   "cell_type": "code",
   "execution_count": 1,
   "id": "c8b39d00",
   "metadata": {},
   "outputs": [],
   "source": [
    "def evenDivisible(a,b,c):\n",
    "    divList = []\n",
    "    for num in range(a,b+1):\n",
    "        if num%c == 0:\n",
    "            divList.append(num)\n",
    "    print(f'{a,b,c} ➞ {sum(divList)}')"
   ]
  },
  {
   "cell_type": "code",
   "execution_count": 2,
   "id": "2a842a48",
   "metadata": {},
   "outputs": [
    {
     "name": "stdout",
     "output_type": "stream",
     "text": [
      "(1, 10, 20) ➞ 0\n"
     ]
    }
   ],
   "source": [
    "evenDivisible(1,10,20)"
   ]
  },
  {
   "cell_type": "code",
   "execution_count": 3,
   "id": "f5e81bed",
   "metadata": {},
   "outputs": [
    {
     "name": "stdout",
     "output_type": "stream",
     "text": [
      "(1, 10, 2) ➞ 30\n"
     ]
    }
   ],
   "source": [
    "evenDivisible(1,10,2)"
   ]
  },
  {
   "cell_type": "code",
   "execution_count": 4,
   "id": "73424024",
   "metadata": {},
   "outputs": [
    {
     "name": "stdout",
     "output_type": "stream",
     "text": [
      "(1, 10, 3) ➞ 18\n"
     ]
    }
   ],
   "source": [
    "evenDivisible(1,10,3)"
   ]
  },
  {
   "cell_type": "markdown",
   "id": "e09eb827",
   "metadata": {},
   "source": [
    "### Q2.Create a function that returns True if a given inequality expression is correct and False otherwise ?\n",
    "\n",
    "**Examples:**\n",
    "\n",
    "correct_signs(\"3 < 7 < 11\") ➞ ``True``\n",
    "\n",
    "correct_signs(\"13 > 44 > 33 > 1\") ➞ ``False``\n",
    "\n",
    "correct_signs(\"1 < 2 < 6 < 9 > 3\") ➞ ``True``"
   ]
  },
  {
   "cell_type": "code",
   "execution_count": 6,
   "id": "d2d13828",
   "metadata": {},
   "outputs": [],
   "source": [
    "def checkEquality():\n",
    "    in_string = input('Enter the inequality: ')\n",
    "    out_bool = eval(in_string)\n",
    "    print(f'{in_string} ➞ {out_bool}')"
   ]
  },
  {
   "cell_type": "code",
   "execution_count": 7,
   "id": "1b3df8b4",
   "metadata": {},
   "outputs": [
    {
     "name": "stdout",
     "output_type": "stream",
     "text": [
      "Enter the inequality: 3<7<11\n",
      "3<7<11 ➞ True\n"
     ]
    }
   ],
   "source": [
    "checkEquality()"
   ]
  },
  {
   "cell_type": "code",
   "execution_count": 8,
   "id": "1f8601c2",
   "metadata": {},
   "outputs": [
    {
     "name": "stdout",
     "output_type": "stream",
     "text": [
      "Enter the inequality: 13>44>33>1\n",
      "13>44>33>1 ➞ False\n"
     ]
    }
   ],
   "source": [
    "checkEquality()"
   ]
  },
  {
   "cell_type": "code",
   "execution_count": 9,
   "id": "3fe416ba",
   "metadata": {},
   "outputs": [
    {
     "name": "stdout",
     "output_type": "stream",
     "text": [
      "Enter the inequality: 1<2<6<9>3\n",
      "1<2<6<9>3 ➞ True\n"
     ]
    }
   ],
   "source": [
    "checkEquality()"
   ]
  },
  {
   "cell_type": "markdown",
   "id": "224a13e3",
   "metadata": {},
   "source": [
    "### Q3.Create a function that replaces all the vowels in a string with a specified character ?\n",
    "\n",
    "**Examples:**\n",
    "\n",
    "replace_vowels(\"the aardvark\", \"#\") ➞ ``\"th# ##rdv#rk\"``\n",
    "\n",
    "replace_vowels(\"minnie mouse\", \"?\") ➞ ``\"m?nn?? m??s?\"``\n",
    "\n",
    "replace_vowels(\"shakespeare\", \"*\") ➞ ``\"shksp**r\"``"
   ]
  },
  {
   "cell_type": "code",
   "execution_count": 12,
   "id": "cd6ed5d8",
   "metadata": {},
   "outputs": [],
   "source": [
    "def replacevowels():\n",
    "    v = 'aeiouv'\n",
    "    s = input(\"Enter your string: \")\n",
    "    r = input(\"Replacement Character: \")\n",
    "    n = ''\n",
    "    for i in s:\n",
    "        if i in v:\n",
    "            n = n+r\n",
    "        else:\n",
    "            n = n+i\n",
    "    print(f\"Replace Vowels in {s} with {r}: ➞ '{n}' \")"
   ]
  },
  {
   "cell_type": "code",
   "execution_count": 13,
   "id": "f6220f33",
   "metadata": {},
   "outputs": [
    {
     "name": "stdout",
     "output_type": "stream",
     "text": [
      "Enter your string: the aardvark\n",
      "Replacement Character: #\n",
      "Replace Vowels in the aardvark with #: ➞ 'th# ##rd##rk' \n"
     ]
    }
   ],
   "source": [
    "replacevowels()"
   ]
  },
  {
   "cell_type": "code",
   "execution_count": 14,
   "id": "ce135b6e",
   "metadata": {},
   "outputs": [
    {
     "name": "stdout",
     "output_type": "stream",
     "text": [
      "Enter your string: minnie mouse\n",
      "Replacement Character: ?\n",
      "Replace Vowels in minnie mouse with ?: ➞ 'm?nn?? m??s?' \n"
     ]
    }
   ],
   "source": [
    "replacevowels()"
   ]
  },
  {
   "cell_type": "code",
   "execution_count": 15,
   "id": "8d76d141",
   "metadata": {},
   "outputs": [
    {
     "name": "stdout",
     "output_type": "stream",
     "text": [
      "Enter your string: shakespeare\n",
      "Replacement Character: *\n",
      "Replace Vowels in shakespeare with *: ➞ 'sh*k*sp**r*' \n"
     ]
    }
   ],
   "source": [
    "replacevowels()"
   ]
  },
  {
   "cell_type": "markdown",
   "id": "86461f97",
   "metadata": {},
   "source": [
    "### Q4.Write a function that calculates the factorial of a number recursively ?\n",
    "\n",
    "**Examples:**\n",
    "\n",
    "    factorial(5) ➞ 120\n",
    "    factorial(3) ➞ 6\n",
    "    factorial(1) ➞ 1\n",
    "    factorial(0) ➞ 1"
   ]
  },
  {
   "cell_type": "code",
   "execution_count": 24,
   "id": "1791f452",
   "metadata": {},
   "outputs": [],
   "source": [
    "def factorial():\n",
    "    n = int(input(\"Enter your Number: \"))\n",
    "    import math\n",
    "    f = math.factorial(n)\n",
    "    print(f\"Factorial of {n}: ➞ {f}\")"
   ]
  },
  {
   "cell_type": "code",
   "execution_count": 25,
   "id": "ca4f1762",
   "metadata": {},
   "outputs": [
    {
     "name": "stdout",
     "output_type": "stream",
     "text": [
      "Enter your Number: 5\n",
      "Factorial of 5: ➞ 120\n"
     ]
    }
   ],
   "source": [
    "factorial()"
   ]
  },
  {
   "cell_type": "code",
   "execution_count": 26,
   "id": "08776aa9",
   "metadata": {},
   "outputs": [
    {
     "name": "stdout",
     "output_type": "stream",
     "text": [
      "Enter your Number: 3\n",
      "Factorial of 3: ➞ 6\n"
     ]
    }
   ],
   "source": [
    "factorial()"
   ]
  },
  {
   "cell_type": "code",
   "execution_count": 27,
   "id": "e0d4afe2",
   "metadata": {},
   "outputs": [
    {
     "name": "stdout",
     "output_type": "stream",
     "text": [
      "Enter your Number: 1\n",
      "Factorial of 1: ➞ 1\n"
     ]
    }
   ],
   "source": [
    "factorial()"
   ]
  },
  {
   "cell_type": "code",
   "execution_count": 28,
   "id": "67d85e23",
   "metadata": {},
   "outputs": [
    {
     "name": "stdout",
     "output_type": "stream",
     "text": [
      "Enter your Number: 0\n",
      "Factorial of 0: ➞ 1\n"
     ]
    }
   ],
   "source": [
    "factorial()"
   ]
  },
  {
   "cell_type": "markdown",
   "id": "f5fa4adb",
   "metadata": {},
   "source": [
    "### Q5. 5.Hamming distance is the number of characters that differ between two strings ?\n",
    "\n",
    "To illustrate:\n",
    "\n",
    "    String1: \"abcbba\"\n",
    "    String2: \"abcbda\"\n",
    "\n",
    "Hamming Distance: 1 - \"b\" vs. \"d\" is the only difference.\n",
    "\n",
    "Create a function that computes the hamming distance between two strings.\n",
    "\n",
    "**Examples:**\n",
    "\n",
    "    hamming_distance(\"abcde\", \"bcdef\") ➞ 5\n",
    "    hamming_distance(\"abcde\", \"abcde\") ➞ 0\n",
    "    hamming_distance(\"strong\", \"strung\") ➞ 1"
   ]
  },
  {
   "cell_type": "code",
   "execution_count": 32,
   "id": "c39f6b04",
   "metadata": {},
   "outputs": [],
   "source": [
    "def hamming_distance():\n",
    "    s1 = input(\"Enter your first string: \")\n",
    "    s2 = input(\"Enter your second string: \")\n",
    "    c = 0\n",
    "    if len(s1) == len(s2):\n",
    "        for i, j in zip(s1,s2):\n",
    "            if i != j:\n",
    "                c = c+1\n",
    "            else:\n",
    "                pass\n",
    "    print(f\"Hamming Distance of {s1} and {s2} is: {c}\")"
   ]
  },
  {
   "cell_type": "code",
   "execution_count": 33,
   "id": "aff6bed9",
   "metadata": {},
   "outputs": [
    {
     "name": "stdout",
     "output_type": "stream",
     "text": [
      "Enter your first string: abcde\n",
      "Enter your second string: bcdef\n",
      "Hamming Distance of abcde and bcdef is: 5\n"
     ]
    }
   ],
   "source": [
    "hamming_distance()"
   ]
  },
  {
   "cell_type": "code",
   "execution_count": 34,
   "id": "9bf4b408",
   "metadata": {},
   "outputs": [
    {
     "name": "stdout",
     "output_type": "stream",
     "text": [
      "Enter your first string: abcde\n",
      "Enter your second string: abcde\n",
      "Hamming Distance of abcde and abcde is: 0\n"
     ]
    }
   ],
   "source": [
    "hamming_distance()"
   ]
  },
  {
   "cell_type": "code",
   "execution_count": 35,
   "id": "83249ce1",
   "metadata": {},
   "outputs": [
    {
     "name": "stdout",
     "output_type": "stream",
     "text": [
      "Enter your first string: strong\n",
      "Enter your second string: strung\n",
      "Hamming Distance of strong and strung is: 1\n"
     ]
    }
   ],
   "source": [
    "hamming_distance()"
   ]
  }
 ],
 "metadata": {
  "kernelspec": {
   "display_name": "Python 3",
   "language": "python",
   "name": "python3"
  },
  "language_info": {
   "codemirror_mode": {
    "name": "ipython",
    "version": 3
   },
   "file_extension": ".py",
   "mimetype": "text/x-python",
   "name": "python",
   "nbconvert_exporter": "python",
   "pygments_lexer": "ipython3",
   "version": "3.8.8"
  }
 },
 "nbformat": 4,
 "nbformat_minor": 5
}
