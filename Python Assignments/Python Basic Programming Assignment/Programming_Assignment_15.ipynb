{
 "cells": [
  {
   "cell_type": "markdown",
   "id": "e65f6e35",
   "metadata": {},
   "source": [
    "## Programming Assignment 15\n",
    "\n",
    "### Q1. Please write a program using generator to print the numbers which can be divisible by 5 and 7 between 0 and n in comma separated form while n is input by console ?\n",
    "\n",
    "**Example:**\n",
    "If the following n is given as input to the program: ``100``\n",
    "\n",
    "Then, the output of the program should be: ``0,35,70``"
   ]
  },
  {
   "cell_type": "code",
   "execution_count": 2,
   "id": "5c223aed",
   "metadata": {},
   "outputs": [
    {
     "name": "stdout",
     "output_type": "stream",
     "text": [
      "0,35,70,"
     ]
    }
   ],
   "source": [
    "def showDivisible(in_num):\n",
    "    for ele in range(0,in_num):\n",
    "        if (ele%5 == 0) and (ele%7 == 0):\n",
    "            yield ele\n",
    "            \n",
    "for ele in showDivisible(100):\n",
    "    print(ele,end=',')"
   ]
  },
  {
   "cell_type": "markdown",
   "id": "50fc3c04",
   "metadata": {},
   "source": [
    "### Q2.Please write a program using generator to print the even numbers between 0 and n in comma separated form while n is input by console ?\n",
    "\n",
    "**Example:**\n",
    "\n",
    "If the following n is given as input to the program: ``10``\n",
    "\n",
    "Then, the output of the program should be: ``0,2,4,6,8,10``"
   ]
  },
  {
   "cell_type": "code",
   "execution_count": 3,
   "id": "2b6e313a",
   "metadata": {},
   "outputs": [],
   "source": [
    "def even(a=0,b=10):\n",
    "    for i in range(a,b+1):\n",
    "        if i%2==0:\n",
    "            yield i\n",
    "        else:\n",
    "            pass"
   ]
  },
  {
   "cell_type": "code",
   "execution_count": 6,
   "id": "2ffbf779",
   "metadata": {},
   "outputs": [
    {
     "name": "stdout",
     "output_type": "stream",
     "text": [
      "0,2,4,6,8,10,"
     ]
    }
   ],
   "source": [
    "for i in even():\n",
    "    print(i,end=',')"
   ]
  },
  {
   "cell_type": "markdown",
   "id": "cb3104b8",
   "metadata": {},
   "source": [
    "### Q3.The Fibonacci Sequence is computed based on the following formula below, Please write a program using list comprehension to print the Fibonacci Sequence in comma separated form with a given n input by console ?\n",
    "\n",
    "    f(n)=0 if n=0 f(n)=1 if n=1 f(n)=f(n-1)+f(n-2) if n>1"
   ]
  },
  {
   "cell_type": "code",
   "execution_count": 7,
   "id": "78a69b3b",
   "metadata": {},
   "outputs": [],
   "source": [
    "def genFibonaci(in_num):\n",
    "    if in_num == 0:\n",
    "        return 0\n",
    "    elif in_num == 1:\n",
    "        return 1\n",
    "    else:\n",
    "        return genFibonaci(in_num-1)+genFibonaci(in_num-2)"
   ]
  },
  {
   "cell_type": "code",
   "execution_count": 8,
   "id": "4be2b246",
   "metadata": {},
   "outputs": [
    {
     "name": "stdout",
     "output_type": "stream",
     "text": [
      "[0, 1, 1, 2, 3, 5, 8, 13, 21, 34, 55, 89, 144, 233, 377, 610, 987, 1597, 2584, 4181]\n"
     ]
    }
   ],
   "source": [
    "print([genFibonaci(x) for x in range(20)])"
   ]
  },
  {
   "cell_type": "markdown",
   "id": "c76e7cce",
   "metadata": {},
   "source": [
    "### Q4.Assuming that we have some email addresses in the \"username@companyname.com\" format, please write program to print the user name of a given email address. Both user names and company names are composed of letters only ?\n",
    "\n",
    "**Example:**\n",
    "\n",
    "If the following email address is given as input to the program: ``john@google.com``\n",
    "\n",
    "Then, the output of the program should be: ``john``"
   ]
  },
  {
   "cell_type": "code",
   "execution_count": 11,
   "id": "5c1aacba",
   "metadata": {},
   "outputs": [],
   "source": [
    "def getusername():\n",
    "    n = input(\"Enter Your Email id: \")\n",
    "    sp = '@#'\n",
    "    name= ''\n",
    "    for i in n:\n",
    "        if i not in sp:\n",
    "            name=name+i\n",
    "        else:\n",
    "            break\n",
    "    print(f'Name: {name}')"
   ]
  },
  {
   "cell_type": "code",
   "execution_count": 13,
   "id": "e25c386d",
   "metadata": {},
   "outputs": [
    {
     "name": "stdout",
     "output_type": "stream",
     "text": [
      "Enter Your Email id: john@google.com\n",
      "Name: john\n"
     ]
    }
   ],
   "source": [
    "getusername()"
   ]
  },
  {
   "cell_type": "code",
   "execution_count": 16,
   "id": "1ad4ec76",
   "metadata": {},
   "outputs": [],
   "source": [
    "def getUsernames():\n",
    "    in_string = input('Enter Email Address(es): ')\n",
    "    out_string = in_string.split('@')\n",
    "    print(f'Username of {in_string} is :{out_string[0]}')"
   ]
  },
  {
   "cell_type": "code",
   "execution_count": 17,
   "id": "9664ab40",
   "metadata": {},
   "outputs": [
    {
     "name": "stdout",
     "output_type": "stream",
     "text": [
      "Enter Email Address(es): neetu@google.com\n",
      "Username of neetu@google.com is :neetu\n"
     ]
    }
   ],
   "source": [
    "getUsernames()"
   ]
  },
  {
   "cell_type": "markdown",
   "id": "29edcf6c",
   "metadata": {},
   "source": [
    "### Q5.Define a class named Shape and its subclass Square. The Square class has an init function which takes a length as argument. Both classes have a area function which can print the area of the shape where Shape's area is 0 by default."
   ]
  },
  {
   "cell_type": "code",
   "execution_count": 18,
   "id": "726240f4",
   "metadata": {},
   "outputs": [],
   "source": [
    "class Shape:\n",
    "    def area(self):\n",
    "        return 0\n",
    "class Square(Shape):\n",
    "    def __init__(self, length):\n",
    "        self.length = length\n",
    "    def area(self):\n",
    "        return self.length*self.length"
   ]
  },
  {
   "cell_type": "code",
   "execution_count": 19,
   "id": "0e0141df",
   "metadata": {},
   "outputs": [],
   "source": [
    "square = Square(50)"
   ]
  },
  {
   "cell_type": "code",
   "execution_count": 21,
   "id": "677941db",
   "metadata": {},
   "outputs": [
    {
     "name": "stdout",
     "output_type": "stream",
     "text": [
      "2500\n"
     ]
    }
   ],
   "source": [
    "print(square.area())"
   ]
  }
 ],
 "metadata": {
  "kernelspec": {
   "display_name": "Python 3",
   "language": "python",
   "name": "python3"
  },
  "language_info": {
   "codemirror_mode": {
    "name": "ipython",
    "version": 3
   },
   "file_extension": ".py",
   "mimetype": "text/x-python",
   "name": "python",
   "nbconvert_exporter": "python",
   "pygments_lexer": "ipython3",
   "version": "3.8.8"
  }
 },
 "nbformat": 4,
 "nbformat_minor": 5
}
