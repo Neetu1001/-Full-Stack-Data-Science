{
 "cells": [
  {
   "cell_type": "markdown",
   "id": "5b5e534d",
   "metadata": {},
   "source": [
    "## Programming Assigment 22\n",
    "\n",
    "### Q1.Create a function that takes three parameters where:\n",
    "\n",
    "    x is the start of the range (inclusive).\n",
    "    y is the end of the range (inclusive).\n",
    "    n is the divisor to be checked against.\n",
    "\n",
    "Return an ordered list with numbers in the range that are divisible by the third parameter n. Return an empty list if there are no numbers that are divisible by n. Examples:\n",
    "\n",
    "    list_operation(1, 10, 3) ➞ [3, 6, 9]\n",
    "    list_operation(7, 9, 2) ➞ [8]\n",
    "    list_operation(15, 20, 7) ➞ []"
   ]
  },
  {
   "cell_type": "code",
   "execution_count": 3,
   "id": "91c0d02a",
   "metadata": {},
   "outputs": [],
   "source": [
    "def list_operation(start,end,divisor):\n",
    "    out_list = []\n",
    "    for ele in range(start,end+1):\n",
    "        if ele%divisor == 0:\n",
    "            out_list.append(ele)\n",
    "    print(f'Output: ➞ {out_list}')"
   ]
  },
  {
   "cell_type": "code",
   "execution_count": 4,
   "id": "852bb77e",
   "metadata": {},
   "outputs": [
    {
     "name": "stdout",
     "output_type": "stream",
     "text": [
      "Output: ➞ [3, 6, 9]\n",
      "Output: ➞ [8]\n",
      "Output: ➞ []\n"
     ]
    }
   ],
   "source": [
    "list_operation(1, 10, 3)\n",
    "list_operation(7, 9, 2)\n",
    "list_operation(15, 20, 7)"
   ]
  },
  {
   "cell_type": "markdown",
   "id": "76cc219e",
   "metadata": {},
   "source": [
    "### Q2.Create a function that takes in two lists and returns True if the second list follows the first list by one element, and False otherwise. In other words, determine if the second list is the first list shifted to the right by 1.\n",
    "\n",
    "**Examples:**\n",
    "\n",
    "    simon_says([1, 2], [5, 1]) ➞ True\n",
    "    simon_says([1, 2], [5, 5]) ➞ False\n",
    "    simon_says([1, 2, 3, 4, 5], [0, 1, 2, 3, 4]) ➞ True\n",
    "    simon_says([1, 2, 3, 4, 5], [5, 5, 1, 2, 3]) ➞ False\n",
    "\n",
    "**Notes:**\n",
    "\n",
    "1. Both input lists will be of the same length, and will have a minimum length of 2.\n",
    "2. The values of the 0-indexed element in the second list and the n-1th indexed element in the first list do not matter."
   ]
  },
  {
   "cell_type": "code",
   "execution_count": 5,
   "id": "f62ca04f",
   "metadata": {},
   "outputs": [],
   "source": [
    "def simon_says(in_list_1,in_list_2):\n",
    "    if len(in_list_1) == len(in_list_1) and len(in_list_1) >=2 and len(in_list_1) >=2:\n",
    "        if(in_list_1[:-1] == in_list_2[1:]):\n",
    "            print(f'{in_list_1,in_list_2} ➞ {True}')\n",
    "        else:\n",
    "            print(f'{in_list_1,in_list_2} ➞ {False}')"
   ]
  },
  {
   "cell_type": "code",
   "execution_count": 6,
   "id": "f9287051",
   "metadata": {},
   "outputs": [
    {
     "name": "stdout",
     "output_type": "stream",
     "text": [
      "([1, 2], [5, 1]) ➞ True\n",
      "([1, 2], [5, 5]) ➞ False\n",
      "([1, 2, 3, 4, 5], [0, 1, 2, 3, 4]) ➞ True\n",
      "([1, 2, 3, 4, 5], [5, 5, 1, 2, 3]) ➞ False\n"
     ]
    }
   ],
   "source": [
    "simon_says([1, 2], [5, 1])\n",
    "simon_says([1, 2], [5, 5])\n",
    "simon_says([1, 2, 3, 4, 5], [0, 1, 2, 3, 4])\n",
    "simon_says([1, 2, 3, 4, 5], [5, 5, 1, 2, 3])"
   ]
  },
  {
   "cell_type": "markdown",
   "id": "9542f12b",
   "metadata": {},
   "source": [
    "### Q3.A group of friends have decided to start a secret society. The name will be the first letter of each of their names, sorted in a alphabetical order ? Create a function that takes in a list of names and returns the name of the secret society ?\n",
    "\n",
    "**Examples:**\n",
    "\n",
    "    society_name([\"Adam\", \"Sarah\", \"Malcolm\"]) ➞ \"AMS\"\n",
    "    society_name([\"Harry\", \"Newt\", \"Luna\", \"Cho\"]) ➞ \"CHLN\"\n",
    "    society_name([\"Phoebe\", \"Chandler\", \"Rachel\", \"Ross\", \"Monica\", \"Joey\"])"
   ]
  },
  {
   "cell_type": "code",
   "execution_count": 11,
   "id": "540fb12e",
   "metadata": {},
   "outputs": [],
   "source": [
    "def society_name(l):\n",
    "    s = sorted(l)\n",
    "    p = ''\n",
    "    for i in s:\n",
    "        p = p+i[0]\n",
    "    print(f\"➞ {p}\")"
   ]
  },
  {
   "cell_type": "code",
   "execution_count": 12,
   "id": "2cad41ca",
   "metadata": {},
   "outputs": [
    {
     "name": "stdout",
     "output_type": "stream",
     "text": [
      "➞ AMS\n",
      "➞ CHLN\n",
      "➞ CJMPRR\n"
     ]
    }
   ],
   "source": [
    "society_name([\"Adam\", \"Sarah\", \"Malcolm\"])\n",
    "society_name([\"Harry\", \"Newt\", \"Luna\", \"Cho\"])\n",
    "society_name([\"Phoebe\", \"Chandler\", \"Rachel\", \"Ross\", \"Monica\", \"Joey\"])"
   ]
  },
  {
   "cell_type": "markdown",
   "id": "13f1c456",
   "metadata": {},
   "source": [
    "### Q4.An isogram is a word that has no duplicate letters. Create a function that takes a string and returns either True or False depending on whether or not it's an \"isogram\".\n",
    "\n",
    "**Examples:**\n",
    "\n",
    "    is_isogram(\"Algorism\") ➞ True\n",
    "    is_isogram(\"PasSword\") ➞ False\n",
    "\n",
    "{Not case sensitive.}\n",
    "\n",
    "    is_isogram(\"Consecutive\") ➞ False\n",
    "\n",
    "Notes:\n",
    "\n",
    "    Ignore letter case (should not be case sensitive).\n",
    "    All test cases contain valid one word strings."
   ]
  },
  {
   "cell_type": "code",
   "execution_count": 13,
   "id": "adf7b32d",
   "metadata": {},
   "outputs": [],
   "source": [
    "def is_isogram(in_string):\n",
    "    lower_in_string = in_string.lower()\n",
    "    if len(lower_in_string) == len(set(lower_in_string)):\n",
    "        print(f'{in_string} ➞ {True}')\n",
    "    else:\n",
    "        print(f'{in_string} ➞ {False}')"
   ]
  },
  {
   "cell_type": "code",
   "execution_count": 14,
   "id": "746c7345",
   "metadata": {},
   "outputs": [
    {
     "name": "stdout",
     "output_type": "stream",
     "text": [
      "Algorism ➞ True\n",
      "PasSword ➞ False\n",
      "Consecutive ➞ False\n"
     ]
    }
   ],
   "source": [
    "is_isogram(\"Algorism\")\n",
    "is_isogram(\"PasSword\")\n",
    "is_isogram(\"Consecutive\")"
   ]
  },
  {
   "cell_type": "markdown",
   "id": "d29983f9",
   "metadata": {},
   "source": [
    "### Q5.Create a function that takes a string and returns True or False, depending on whether the characters are in order or not ?\n",
    "\n",
    "**Examples:**\n",
    "\n",
    "    is_in_order(\"abc\") ➞ True\n",
    "    is_in_order(\"edabit\") ➞ False\n",
    "    is_in_order(\"123\") ➞ True\n",
    "    is_in_order(\"xyzz\") ➞ True\n",
    "\n",
    "Notes:\n",
    "\n",
    "    You don't have to handle empty strings."
   ]
  },
  {
   "cell_type": "code",
   "execution_count": 16,
   "id": "3d453fa5",
   "metadata": {},
   "outputs": [],
   "source": [
    "def is_in_order(in_string):\n",
    "    in_string_sorted = ''.join(sorted(in_string))\n",
    "    if in_string == in_string_sorted:\n",
    "        print(f'{in_string} ➞ {True}')\n",
    "    else:\n",
    "        print(f'{in_string} ➞ {False}')"
   ]
  },
  {
   "cell_type": "code",
   "execution_count": 17,
   "id": "dfe8808e",
   "metadata": {},
   "outputs": [
    {
     "name": "stdout",
     "output_type": "stream",
     "text": [
      "abc ➞ True\n",
      "edabit ➞ False\n",
      "123 ➞ True\n",
      "xyzz ➞ True\n"
     ]
    }
   ],
   "source": [
    "is_in_order(\"abc\")\n",
    "is_in_order(\"edabit\")\n",
    "is_in_order(\"123\")\n",
    "is_in_order(\"xyzz\")"
   ]
  }
 ],
 "metadata": {
  "kernelspec": {
   "display_name": "Python 3",
   "language": "python",
   "name": "python3"
  },
  "language_info": {
   "codemirror_mode": {
    "name": "ipython",
    "version": 3
   },
   "file_extension": ".py",
   "mimetype": "text/x-python",
   "name": "python",
   "nbconvert_exporter": "python",
   "pygments_lexer": "ipython3",
   "version": "3.8.8"
  }
 },
 "nbformat": 4,
 "nbformat_minor": 5
}
