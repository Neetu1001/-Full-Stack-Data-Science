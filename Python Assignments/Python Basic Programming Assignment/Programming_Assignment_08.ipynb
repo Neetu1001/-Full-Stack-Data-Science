{
 "cells": [
  {
   "cell_type": "markdown",
   "id": "73bdf762",
   "metadata": {},
   "source": [
    "## Programming Assignment 8\n",
    "\n",
    "### 1.\tWrite a Python Program to Add Two Matrices?"
   ]
  },
  {
   "cell_type": "code",
   "execution_count": 22,
   "id": "02089aad",
   "metadata": {},
   "outputs": [
    {
     "name": "stdout",
     "output_type": "stream",
     "text": [
      "Inout: \n",
      " [[1, 2, 3], [4, 5, 6], [7, 8, 9]]; [[9, 8, 7], [6, 5, 4], [3, 2, 1]]\n"
     ]
    }
   ],
   "source": [
    "a1 = [[1,2,3],\n",
    "      [4,5,6],\n",
    "      [7,8,9]]\n",
    "\n",
    "a2 = [[9, 8, 7],\n",
    "      [6, 5, 4],\n",
    "      [3, 2, 1]]\n",
    "print(f'Inout: \\n {a1}; {a2}')"
   ]
  },
  {
   "cell_type": "code",
   "execution_count": 7,
   "id": "01fb8ae3",
   "metadata": {},
   "outputs": [
    {
     "name": "stdout",
     "output_type": "stream",
     "text": [
      "Output: [[10, 10, 10], [10, 10, 10], [10, 10, 10]]\n"
     ]
    }
   ],
   "source": [
    "# method 1\n",
    "if len(a1) == len(a2):\n",
    "    out_matrix = []\n",
    "    for ele in range(len(a1)):\n",
    "        if len(a1[ele]) == len(a2[ele]):\n",
    "            out_matrix.append([])\n",
    "            for s_ele in range(len(a1[ele])):\n",
    "                out_matrix[ele].append(a1[ele][s_ele]+ a2[ele][s_ele])\n",
    "        else:\n",
    "            print('Both Matrices must contains same no of rows and columns') \n",
    "else:\n",
    "    print('Both Matrices must contains same no of rows and columns')\n",
    "print(f'Output: {out_matrix}')"
   ]
  },
  {
   "cell_type": "code",
   "execution_count": 9,
   "id": "e90279e6",
   "metadata": {},
   "outputs": [
    {
     "name": "stdout",
     "output_type": "stream",
     "text": [
      "Output: \n",
      " [[10 10 10]\n",
      " [10 10 10]\n",
      " [10 10 10]]\n"
     ]
    }
   ],
   "source": [
    "# Method 2\n",
    "import numpy as np\n",
    "\n",
    "msum = np.add(a1, a2)\n",
    "print(f\"Output: \\n {msum}\")"
   ]
  },
  {
   "cell_type": "markdown",
   "id": "620c5861",
   "metadata": {},
   "source": [
    "### Q2. Write a Python Program to Multiply Two Matrices?"
   ]
  },
  {
   "cell_type": "code",
   "execution_count": 12,
   "id": "2ec819cf",
   "metadata": {},
   "outputs": [
    {
     "name": "stdout",
     "output_type": "stream",
     "text": [
      "[[30, 24, 18], [84, 69, 54], [138, 114, 90]]\n"
     ]
    }
   ],
   "source": [
    "# method 1\n",
    "def multiply_matrice(a,b):\n",
    "    output = []\n",
    "    if len(a[0]) == len(b):\n",
    "        for ele in range(len(a[0])):\n",
    "            output.append([0 for ele in range(len(b[0]))])\n",
    "        for i in range(len(a)):\n",
    "            for j in range(len(b[0])):\n",
    "                for k in range(len(b)):\n",
    "                    output[i][j] += a[i][k]*b[k][j]\n",
    "        print(output)     \n",
    "    else:\n",
    "        print('Matrix Multiplication is Not Possible')\n",
    "        \n",
    "multiply_matrice(a1,a2)"
   ]
  },
  {
   "cell_type": "code",
   "execution_count": 13,
   "id": "2d0db0c3",
   "metadata": {},
   "outputs": [
    {
     "name": "stdout",
     "output_type": "stream",
     "text": [
      "The product of two matrix \n",
      "\n",
      "[[1, 2, 3], [4, 5, 6], [7, 8, 9]]  and \n",
      "\n",
      "[[9, 8, 7], [6, 5, 4], [3, 2, 1]]  is \n",
      "\n",
      "[[ 30  24  18]\n",
      " [ 84  69  54]\n",
      " [138 114  90]] \n"
     ]
    }
   ],
   "source": [
    "mulMat = np.dot(a1,a2)\n",
    "print(\"The product of two matrix \\n\\n{}  and \\n\\n{}  is \\n\\n{} \".format(a1,a2,mulMat))"
   ]
  },
  {
   "cell_type": "markdown",
   "id": "c83612f5",
   "metadata": {},
   "source": [
    "### Q3. Write a Python Program to Transpose a Matrix?"
   ]
  },
  {
   "cell_type": "code",
   "execution_count": 33,
   "id": "accc5de4",
   "metadata": {},
   "outputs": [
    {
     "name": "stdout",
     "output_type": "stream",
     "text": [
      "Input:\n",
      "[1, 2, 3]\n",
      "[4, 5, 6]\n",
      "[7, 8, 9]\n",
      "\n",
      " Output:\n",
      "[1, 4, 7]\n",
      "[2, 5, 8]\n",
      "[3, 6, 9]\n"
     ]
    }
   ],
   "source": [
    "out_mat = []\n",
    "for ele in range(len(a1[0])):\n",
    "    out_mat.append([0 for i in range(len(a1))])\n",
    "for i in range(len(a1)):\n",
    "    for j in range(len(a1[i])):\n",
    "        out_mat[j][i] = a1[i][j]\n",
    "print('Input:')\n",
    "for i in a1:\n",
    "    print(i)\n",
    "print('\\n Output:')\n",
    "for i in out_mat:\n",
    "    print(i)"
   ]
  },
  {
   "cell_type": "markdown",
   "id": "d0032fb2",
   "metadata": {},
   "source": [
    "### Q4. Write a Python Program to Sort Words in Alphabetic Order?"
   ]
  },
  {
   "cell_type": "code",
   "execution_count": 39,
   "id": "23f30903",
   "metadata": {},
   "outputs": [
    {
     "name": "stdout",
     "output_type": "stream",
     "text": [
      "Enter a string: my name is neetu rani paul\n",
      "is\n",
      "my\n",
      "name\n",
      "neetu\n",
      "paul\n",
      "rani\n"
     ]
    }
   ],
   "source": [
    "#Method 1\n",
    "\n",
    "s = input(\"Enter a string: \")\n",
    "\n",
    "w = s.split()\n",
    "w.sort()\n",
    "for i in w:\n",
    "    print(i)"
   ]
  },
  {
   "cell_type": "code",
   "execution_count": 41,
   "id": "8b948197",
   "metadata": {},
   "outputs": [
    {
     "name": "stdout",
     "output_type": "stream",
     "text": [
      "Enter a String: My name is neetu rani paul\n",
      "Is My Name Neetu Paul Rani\n"
     ]
    }
   ],
   "source": [
    "# Method 2\n",
    "\n",
    "def sortString():\n",
    "    in_string = input(\"Enter a String: \").title()\n",
    "    sorted_list = sorted(in_string.split(' '))\n",
    "    print(' '.join(sorted_list))\n",
    "\n",
    "sortString()"
   ]
  },
  {
   "cell_type": "markdown",
   "id": "84eefb55",
   "metadata": {},
   "source": [
    "### Q5. Write a Python Program to remove Punctuations From a String ?"
   ]
  },
  {
   "cell_type": "code",
   "execution_count": 42,
   "id": "b13378b8",
   "metadata": {},
   "outputs": [],
   "source": [
    "def remove_punctuation():\n",
    "    punctuations = '''!()-[]{};:'\"\\,<>./?@#$%^&*_~'''\n",
    "    s = input(\"Enter a string: \")\n",
    "    inp = ''\n",
    "    for i in s:\n",
    "        if i not in punctuations:\n",
    "            inp += i\n",
    "            \n",
    "    print(f'Output: {inp}')"
   ]
  },
  {
   "cell_type": "code",
   "execution_count": 43,
   "id": "0f6d86fc",
   "metadata": {},
   "outputs": [
    {
     "name": "stdout",
     "output_type": "stream",
     "text": [
      "Enter a string: My name is, neetu. but ??? what !! is this\n",
      "Output: My name is neetu but  what  is this\n"
     ]
    }
   ],
   "source": [
    "remove_punctuation()"
   ]
  }
 ],
 "metadata": {
  "kernelspec": {
   "display_name": "Python 3",
   "language": "python",
   "name": "python3"
  },
  "language_info": {
   "codemirror_mode": {
    "name": "ipython",
    "version": 3
   },
   "file_extension": ".py",
   "mimetype": "text/x-python",
   "name": "python",
   "nbconvert_exporter": "python",
   "pygments_lexer": "ipython3",
   "version": "3.8.8"
  }
 },
 "nbformat": 4,
 "nbformat_minor": 5
}
