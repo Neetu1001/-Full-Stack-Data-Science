{
 "cells": [
  {
   "cell_type": "markdown",
   "id": "ae60a911",
   "metadata": {},
   "source": [
    "## Programming Assignment 28\n",
    "\n",
    "### Q1.Create a function that takes three integer arguments (a, b, c) and returns the amount of integers which are of equal value.\n",
    "\n",
    "**Examples:**\n",
    "\n",
    "    equal(3, 4, 3) ➞ 2\n",
    "    equal(1, 1, 1) ➞ 3\n",
    "    equal(3, 4, 1) ➞ 0\n",
    "\n",
    "Notes:\n",
    "Your function must return 0, 2 or 3."
   ]
  },
  {
   "cell_type": "code",
   "execution_count": 1,
   "id": "64e20aca",
   "metadata": {},
   "outputs": [],
   "source": [
    "def equal(a,b,c):\n",
    "    if a==b==c:\n",
    "        print(f'{a,b,c} ➞ {3}')\n",
    "    elif a==b or b==c:\n",
    "        print(f'{a,b,c} ➞ {2}')\n",
    "    else:\n",
    "        print(f'{a,b,c} ➞ {0}')"
   ]
  },
  {
   "cell_type": "code",
   "execution_count": 2,
   "id": "b245c81b",
   "metadata": {},
   "outputs": [
    {
     "name": "stdout",
     "output_type": "stream",
     "text": [
      "(3, 4, 3) ➞ 0\n",
      "(1, 1, 1) ➞ 3\n",
      "(3, 4, 1) ➞ 0\n"
     ]
    }
   ],
   "source": [
    "equal(3, 4, 3)\n",
    "equal(1, 1, 1)\n",
    "equal(3, 4, 1)"
   ]
  },
  {
   "cell_type": "markdown",
   "id": "a1d0a362",
   "metadata": {},
   "source": [
    "### Q2.Write a function that converts a dictionary into a list of keys-values tuples.\n",
    "\n",
    "**Examples:**\n",
    "\n",
    "    dict_to_list({ \"D\": 1, \"B\": 2, \"C\": 3 }) ➞ [(\"B\", 2), (\"C\", 3), (\"D\", 1)] \n",
    "    dict_to_list({ \"likes\": 2, \"dislikes\": 3, \"followers\": 10 }) ➞ [(\"dislikes\", 3), (\"followers\", 10), (\"likes\", 2)]\n",
    "\n",
    "Notes:\n",
    "Return the elements in the list in alphabetical order."
   ]
  },
  {
   "cell_type": "code",
   "execution_count": 3,
   "id": "5663d7a7",
   "metadata": {},
   "outputs": [],
   "source": [
    "def dict_to_list(d):\n",
    "    output = []\n",
    "    for keys, values in d.items():\n",
    "        output.append((keys, values))\n",
    "    print(f'➞ {output}')"
   ]
  },
  {
   "cell_type": "code",
   "execution_count": 4,
   "id": "bbdf5b4b",
   "metadata": {},
   "outputs": [
    {
     "name": "stdout",
     "output_type": "stream",
     "text": [
      "➞ [('D', 1), ('B', 2), ('C', 3)]\n",
      "➞ [('likes', 2), ('dislikes', 3), ('followers', 10)]\n"
     ]
    }
   ],
   "source": [
    "dict_to_list({ \"D\": 1, \"B\": 2, \"C\": 3 })\n",
    "dict_to_list({ \"likes\": 2, \"dislikes\": 3, \"followers\": 10 })"
   ]
  },
  {
   "cell_type": "markdown",
   "id": "dda89e8f",
   "metadata": {},
   "source": [
    "### Q3.Write a function that creates a dictionary with each (key, value) pair being the (lower case, upper case) versions of a letter, respectively.\n",
    "\n",
    "**Examples:**\n",
    "\n",
    "    mapping([\"p\", \"s\"]) ➞ { \"p\": \"P\", \"s\": \"S\" }\n",
    "    mapping([\"a\", \"b\", \"c\"]) ➞ { \"a\": \"A\", \"b\": \"B\", \"c\": \"C\" }\n",
    "    mapping([\"a\", \"v\", \"y\", \"z\"]) ➞ { \"a\": \"A\", \"v\": \"V\", \"y\": \"Y\", \"z\": \"Z\" }\n",
    "\n",
    "Notes:\n",
    "All of the letters in the input list will always be lowercase."
   ]
  },
  {
   "cell_type": "code",
   "execution_count": 5,
   "id": "5824dd2d",
   "metadata": {},
   "outputs": [],
   "source": [
    "def mapping(l):\n",
    "    d = {}\n",
    "    for i in l:\n",
    "        d[i.lower()] = i.upper()\n",
    "    print(f'Output ➞ {d}')"
   ]
  },
  {
   "cell_type": "code",
   "execution_count": 6,
   "id": "08d07413",
   "metadata": {},
   "outputs": [
    {
     "name": "stdout",
     "output_type": "stream",
     "text": [
      "Output ➞ {'p': 'P', 's': 'S'}\n",
      "Output ➞ {'a': 'A', 'b': 'B', 'c': 'C'}\n",
      "Output ➞ {'a': 'A', 'v': 'V', 'y': 'Y', 'z': 'Z'}\n"
     ]
    }
   ],
   "source": [
    "mapping([\"p\", \"s\"])\n",
    "mapping([\"a\", \"b\", \"c\"])\n",
    "mapping([\"a\", \"v\", \"y\", \"z\"])"
   ]
  },
  {
   "cell_type": "markdown",
   "id": "412610b2",
   "metadata": {},
   "source": [
    "### Q4.Write a function, that replaces all vowels in a string with a specified vowel.\n",
    "\n",
    "**Examples:**\n",
    "\n",
    "    vow_replace(\"apples and bananas\", \"u\") ➞ \"upplus und bununus\"\n",
    "    vow_replace(\"cheese casserole\", \"o\") ➞ \"chooso cossorolo\"\n",
    "    vow_replace(\"stuffed jalapeno poppers\", \"e\") ➞ \"steffed jelepene peppers\"\n",
    "\n",
    "Notes:\n",
    "All words will be lowercase. Y is not considered a vowel."
   ]
  },
  {
   "cell_type": "code",
   "execution_count": 8,
   "id": "9ca110ca",
   "metadata": {},
   "outputs": [],
   "source": [
    "def vow_replace(s,c):\n",
    "    output = ''\n",
    "    vowels = 'aeiouv'\n",
    "    for i in s:\n",
    "        if i in vowels:\n",
    "            output = output+c\n",
    "        else:\n",
    "            output = output+i\n",
    "    print(f\"➞ {output}\")"
   ]
  },
  {
   "cell_type": "code",
   "execution_count": 9,
   "id": "b4c3ee73",
   "metadata": {},
   "outputs": [
    {
     "name": "stdout",
     "output_type": "stream",
     "text": [
      "➞ upplus und bununus\n",
      "➞ chooso cossorolo\n",
      "➞ steffed jelepene peppers\n"
     ]
    }
   ],
   "source": [
    "vow_replace(\"apples and bananas\", \"u\")\n",
    "vow_replace(\"cheese casserole\", \"o\")\n",
    "vow_replace(\"stuffed jalapeno poppers\", \"e\")"
   ]
  },
  {
   "cell_type": "markdown",
   "id": "261b9fe2",
   "metadata": {},
   "source": [
    "### Q5.Create a function that takes a string as input and capitalizes a letter if its ASCII code is even and returns its lower case version if its ASCII code is odd.\n",
    "\n",
    "**Examples:**\n",
    "\n",
    "    ascii_capitalize(\"to be or not to be!\") ➞ \"To Be oR NoT To Be!\"\n",
    "    ascii_capitalize(\"THE LITTLE MERMAID\") ➞ \"THe LiTTLe meRmaiD\"\n",
    "    ascii_capitalize(\"Oh what a beautiful morning.\") ➞ \"oH wHaT a BeauTiFuL moRNiNg.\""
   ]
  },
  {
   "cell_type": "code",
   "execution_count": 12,
   "id": "92efd575",
   "metadata": {},
   "outputs": [],
   "source": [
    "def ascii_capitalize(in_string):\n",
    "    out_string = ''\n",
    "    for ele in in_string.lower():\n",
    "        if (ord(ele)%2 == 0):\n",
    "            out_string += ele.upper()\n",
    "        else:\n",
    "            out_string += ele\n",
    "    print(f'➞ {out_string}')"
   ]
  },
  {
   "cell_type": "code",
   "execution_count": 13,
   "id": "8d4a3030",
   "metadata": {},
   "outputs": [
    {
     "name": "stdout",
     "output_type": "stream",
     "text": [
      "➞ To Be oR NoT To Be!\n",
      "➞ THe LiTTLe meRmaiD\n",
      "➞ oH wHaT a BeauTiFuL moRNiNg.\n"
     ]
    }
   ],
   "source": [
    "ascii_capitalize(\"to be or not to be!\")\n",
    "ascii_capitalize(\"THE LITTLE MERMAID\")\n",
    "ascii_capitalize(\"Oh what a beautiful morning.\")"
   ]
  }
 ],
 "metadata": {
  "kernelspec": {
   "display_name": "Python 3",
   "language": "python",
   "name": "python3"
  },
  "language_info": {
   "codemirror_mode": {
    "name": "ipython",
    "version": 3
   },
   "file_extension": ".py",
   "mimetype": "text/x-python",
   "name": "python",
   "nbconvert_exporter": "python",
   "pygments_lexer": "ipython3",
   "version": "3.8.8"
  }
 },
 "nbformat": 4,
 "nbformat_minor": 5
}
