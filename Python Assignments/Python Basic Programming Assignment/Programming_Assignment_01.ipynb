{
 "cells": [
  {
   "cell_type": "markdown",
   "metadata": {},
   "source": [
    "## Programming Assignment 1\n",
    "### 1. Write a Python program to print \"Hello Python\"?\n",
    "**Ans:-**"
   ]
  },
  {
   "cell_type": "code",
   "execution_count": 1,
   "metadata": {},
   "outputs": [
    {
     "name": "stdout",
     "output_type": "stream",
     "text": [
      "Hello Python\n"
     ]
    }
   ],
   "source": [
    "print('Hello Python')"
   ]
  },
  {
   "cell_type": "markdown",
   "metadata": {},
   "source": [
    "### 2. Write a Python program to do arithmetical operations addition and division.?\n",
    "**Ans:-**"
   ]
  },
  {
   "cell_type": "code",
   "execution_count": 2,
   "metadata": {},
   "outputs": [
    {
     "name": "stdout",
     "output_type": "stream",
     "text": [
      "Enter first nunber:2\n",
      "Enter second nunber:2\n",
      "The addition of two numbers is :  4\n",
      "--------------------------------------------------\n",
      "The division of two numbers is :  1.0\n"
     ]
    }
   ],
   "source": [
    "a = int(input('Enter first nunber:'))\n",
    "b = int(input('Enter second nunber:'))\n",
    "print('The addition of two numbers is : ', a+b)\n",
    "print(\"-\"*50)\n",
    "print('The division of two numbers is : ',a/b)"
   ]
  },
  {
   "cell_type": "markdown",
   "metadata": {},
   "source": [
    "### 3. Write a Python program to find the area of a triangle?\n",
    "**Ans:-**"
   ]
  },
  {
   "cell_type": "code",
   "execution_count": 3,
   "metadata": {},
   "outputs": [
    {
     "name": "stdout",
     "output_type": "stream",
     "text": [
      "Enter Height of the Triangle: 3\n",
      "Enter Base of the Triangle: 3\n",
      "The area of the Triangle: 4.5\n"
     ]
    }
   ],
   "source": [
    "h = int(input(\"Enter Height of the Triangle: \"))\n",
    "b = int(input(\"Enter Base of the Triangle: \"))\n",
    "area = (h*b)/2\n",
    "\n",
    "print(f\"The area of the Triangle: {area}\")"
   ]
  },
  {
   "cell_type": "markdown",
   "metadata": {},
   "source": [
    "### 4. Write a Python program to swap two variables?\n",
    "_Ans:-_"
   ]
  },
  {
   "cell_type": "code",
   "execution_count": 4,
   "metadata": {},
   "outputs": [
    {
     "name": "stdout",
     "output_type": "stream",
     "text": [
      "Num-1: 4\n",
      "Num-2: 7\n",
      "Before Swap :\n",
      "\tnum-1: 4\tnum-2: 7 \n",
      "After Swap :\n",
      "\tnum-1: 7\tnum-2: 4 \n"
     ]
    }
   ],
   "source": [
    "\n",
    "num_1 = int(input(\"Num-1: \"))\n",
    "num_2 = int(input(\"Num-2: \"))\n",
    "\n",
    "print(f\"Before Swap :\\n\\tnum-1: {num_1}\\tnum-2: {num_2} \")\n",
    "\n",
    "num_1,num_2 = num_2,num_1\n",
    "\n",
    "print(f\"After Swap :\\n\\tnum-1: {num_1}\\tnum-2: {num_2} \")"
   ]
  },
  {
   "cell_type": "markdown",
   "metadata": {},
   "source": [
    "### 5. Write a Python program to generate a random number?\n",
    "_Ans:-_"
   ]
  },
  {
   "cell_type": "code",
   "execution_count": 11,
   "metadata": {},
   "outputs": [
    {
     "name": "stdout",
     "output_type": "stream",
     "text": [
      "Enter Min number : 10\n",
      "Enter Max number : 100\n"
     ]
    }
   ],
   "source": [
    "import random\n",
    "\n",
    "a = int(input(\"Enter Min number : \"))\n",
    "b = int(input(\"Enter Max number : \"))"
   ]
  },
  {
   "cell_type": "code",
   "execution_count": 12,
   "metadata": {},
   "outputs": [
    {
     "name": "stdout",
     "output_type": "stream",
     "text": [
      "70\n"
     ]
    }
   ],
   "source": [
    "print(random.randint(a,b))"
   ]
  },
  {
   "cell_type": "code",
   "execution_count": 13,
   "metadata": {},
   "outputs": [
    {
     "name": "stdout",
     "output_type": "stream",
     "text": [
      "12\n"
     ]
    }
   ],
   "source": [
    "print(random.randint(a,b))"
   ]
  }
 ],
 "metadata": {
  "kernelspec": {
   "display_name": "Python 3",
   "language": "python",
   "name": "python3"
  },
  "language_info": {
   "codemirror_mode": {
    "name": "ipython",
    "version": 3
   },
   "file_extension": ".py",
   "mimetype": "text/x-python",
   "name": "python",
   "nbconvert_exporter": "python",
   "pygments_lexer": "ipython3",
   "version": "3.8.8"
  },
  "vscode": {
   "interpreter": {
    "hash": "aee8b7b246df8f9039afb4144a1f6fd8d2ca17a180786b69acc140d282b71a49"
   }
  }
 },
 "nbformat": 4,
 "nbformat_minor": 2
}
