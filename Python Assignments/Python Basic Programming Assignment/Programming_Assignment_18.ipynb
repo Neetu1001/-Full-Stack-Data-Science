{
 "cells": [
  {
   "cell_type": "markdown",
   "id": "09ae1ee5",
   "metadata": {},
   "source": [
    "## Programming Assignment 18\n",
    "\n",
    "### Q1.Create a function that takes a list of non-negative integers and strings and return a new list without the strings ?\n",
    "\n",
    "**Examples:**\n",
    "\n",
    "    filter_list([1, 2, \"a\", \"b\"]) ➞ [1, 2]\n",
    "    filter_list([1, \"a\", \"b\", 0, 15]) ➞ [1, 0, 15]\n",
    "    filter_list([1, 2, \"aasf\", \"1\", \"123\", 123]) ➞ [1, 2, 123]"
   ]
  },
  {
   "cell_type": "code",
   "execution_count": 7,
   "id": "7a24d36e",
   "metadata": {},
   "outputs": [],
   "source": [
    "def filter_list(list):\n",
    "    out_string = []\n",
    "    for ele in list:\n",
    "        if type(ele) == int and ele >= 0:\n",
    "            out_string.append(ele)\n",
    "    return out_string"
   ]
  },
  {
   "cell_type": "code",
   "execution_count": 8,
   "id": "0055565b",
   "metadata": {},
   "outputs": [
    {
     "name": "stdout",
     "output_type": "stream",
     "text": [
      "➞ [1, 2]\n",
      "➞ [1, 0, 15]\n",
      "➞ [1, 2, 123]\n"
     ]
    }
   ],
   "source": [
    "print(f'➞ {filter_list([1, 2, \"a\", \"b\"])}')\n",
    "print(f'➞ {filter_list([1, \"a\", \"b\", 0, 15])}')\n",
    "print(f'➞ {filter_list([1, 2, \"aasf\", \"1\", \"123\", 123])}')"
   ]
  },
  {
   "cell_type": "markdown",
   "id": "a55e3090",
   "metadata": {},
   "source": [
    "### Q2. The \"Reverser\" takes a string as input and returns that string in reverse order, with the opposite case ?\n",
    "\n",
    "**Examples:**\n",
    "\n",
    "    reverse(\"Hello World\") ➞ \"DLROw OLLEh\"\n",
    "    reverse(\"ReVeRsE\") ➞ \"eSrEvEr\"\n",
    "    reverse(\"Radar\") ➞ \"RADAr\""
   ]
  },
  {
   "cell_type": "code",
   "execution_count": 23,
   "id": "5f94e76b",
   "metadata": {},
   "outputs": [],
   "source": [
    "def reverser():\n",
    "    n = input(\"Enter Your String: \")\n",
    "    l = n[::-1]\n",
    "    o = ''\n",
    "    for i in l:\n",
    "        if i.islower() == True:\n",
    "            o = o+i.upper()\n",
    "        if i.isupper() == True:\n",
    "            o = o+i.lower()\n",
    "    print(f\"Reverse of {n} is ➞ '{o}'\")"
   ]
  },
  {
   "cell_type": "code",
   "execution_count": 24,
   "id": "b06a10f9",
   "metadata": {},
   "outputs": [
    {
     "name": "stdout",
     "output_type": "stream",
     "text": [
      "Enter Your String: Hello World\n",
      "Reverse of Hello World is ➞ 'DLROwOLLEh'\n"
     ]
    }
   ],
   "source": [
    "reverser()"
   ]
  },
  {
   "cell_type": "code",
   "execution_count": 25,
   "id": "52b86c4d",
   "metadata": {},
   "outputs": [
    {
     "name": "stdout",
     "output_type": "stream",
     "text": [
      "Enter Your String: ReVeRsE\n",
      "Reverse of ReVeRsE is ➞ 'eSrEvEr'\n"
     ]
    }
   ],
   "source": [
    "reverser()"
   ]
  },
  {
   "cell_type": "code",
   "execution_count": 26,
   "id": "5d82ff52",
   "metadata": {},
   "outputs": [
    {
     "name": "stdout",
     "output_type": "stream",
     "text": [
      "Enter Your String: Radar\n",
      "Reverse of Radar is ➞ 'RADAr'\n"
     ]
    }
   ],
   "source": [
    "reverser()"
   ]
  },
  {
   "cell_type": "markdown",
   "id": "be5161fd",
   "metadata": {},
   "source": [
    "### Q3.You can assign variables from lists like this:\n",
    "\n",
    "    lst = [1, 2, 3, 4, 5, 6] \n",
    "    first = lst[0] \n",
    "    middle = lst[1:-1] \n",
    "    last = lst[-1] \n",
    "    print(first) ➞ outputs 1 \n",
    "    print(middle) ➞ outputs [2, 3, 4, 5] \n",
    "    print(last) ➞ outputs 6\n",
    "\n",
    "With Python 3, you can assign variables from lists in a much more succinct way. Create variables first, middle and last from the given list using destructuring assignment\n",
    "(check the Resources tab for some examples), where:\n",
    "\n",
    "first ➞ 1 middle ➞ [2, 3, 4, 5] last ➞ 6\n",
    "\n",
    "Your task is to unpack the list writeyourcodehere into three variables, being first, middle, and last, with middle being everything in between the first and last element. Then print all three variables."
   ]
  },
  {
   "cell_type": "code",
   "execution_count": 27,
   "id": "186db058",
   "metadata": {},
   "outputs": [
    {
     "name": "stdout",
     "output_type": "stream",
     "text": [
      "First ➞ 1\n",
      "Middle ➞ [2, 3, 4, 5]\n",
      "Last ➞ 6\n"
     ]
    }
   ],
   "source": [
    "lst = [1,2,3,4,5,6]\n",
    "print(f'First ➞ {lst[0]}')\n",
    "print(f'Middle ➞ {lst[1:-1]}')\n",
    "print(f'Last ➞ {lst[-1]}')"
   ]
  },
  {
   "cell_type": "markdown",
   "id": "1d830f30",
   "metadata": {},
   "source": [
    "### Q4.Write a function that calculates the factorial of a number recursively.\n",
    "\n",
    "**Examples:**\n",
    "\n",
    "    factorial(5) ➞ 120\n",
    "    factorial(3) ➞ 6\n",
    "    factorial(1) ➞ 1\n",
    "    factorial(0) ➞ 1"
   ]
  },
  {
   "cell_type": "code",
   "execution_count": 28,
   "id": "e2ab9f75",
   "metadata": {},
   "outputs": [],
   "source": [
    "def factorial(n):\n",
    "    if n==0:\n",
    "        return 1\n",
    "    return n * factorial(n-1)"
   ]
  },
  {
   "cell_type": "code",
   "execution_count": 29,
   "id": "cfa1ac79",
   "metadata": {},
   "outputs": [
    {
     "name": "stdout",
     "output_type": "stream",
     "text": [
      "factorial(5) ➞ 120\n",
      "factorial(3) ➞ 6\n",
      "factorial(1) ➞ 1\n",
      "factorial(0) ➞ 1\n"
     ]
    }
   ],
   "source": [
    "print(f'factorial(5) ➞ {factorial(5)}')\n",
    "print(f'factorial(3) ➞ {factorial(3)}')\n",
    "print(f'factorial(1) ➞ {factorial(1)}')\n",
    "print(f'factorial(0) ➞ {factorial(0)}')"
   ]
  },
  {
   "cell_type": "markdown",
   "id": "dd91a91a",
   "metadata": {},
   "source": [
    "### Q5.Write a function that moves all elements of one type to the end of the list.\n",
    "\n",
    "**Examples:**\n",
    "\n",
    "move_to_end([1, 3, 2, 4, 4, 1], 1) ➞ ``[3, 2, 4, 4, 1, 1]`` {Move all the 1s to the end of the array}\n",
    "\n",
    "move_to_end([7, 8, 9, 1, 2, 3, 4], 9) ➞ ``[7, 8, 1, 2, 3, 4, 9]``\n",
    "\n",
    "move_to_end([\"a\", \"a\", \"a\", \"b\"], \"a\") ➞ ``[\"b\", \"a\", \"a\", \"a\"]``"
   ]
  },
  {
   "cell_type": "code",
   "execution_count": 36,
   "id": "088d0162",
   "metadata": {},
   "outputs": [],
   "source": [
    "def move_to_end(list,num):\n",
    "    first_end = []\n",
    "    second_end = []\n",
    "    for ele in list:\n",
    "        if ele == num:\n",
    "            second_end.append(ele)\n",
    "        else:\n",
    "            first_end.append(ele)\n",
    "    first_end.extend(second_end)\n",
    "    return first_end"
   ]
  },
  {
   "cell_type": "code",
   "execution_count": 37,
   "id": "f942a943",
   "metadata": {},
   "outputs": [
    {
     "name": "stdout",
     "output_type": "stream",
     "text": [
      "move_to_end([1, 3, 2, 4, 4, 1], 1) ➞ [3, 2, 4, 4, 1, 1]\n",
      "move_to_end([7, 8, 9, 1, 2, 3, 4], 9) ➞ [7, 8, 1, 2, 3, 4, 9]\n",
      "move_to_end([\"a\", \"a\", \"a\", \"b\"], \"a\") ➞ ['b', 'a', 'a', 'a']\n"
     ]
    }
   ],
   "source": [
    "print(f'move_to_end([1, 3, 2, 4, 4, 1], 1) ➞ {move_to_end([1, 3, 2, 4, 4, 1], 1)}')\n",
    "print(f'move_to_end([7, 8, 9, 1, 2, 3, 4], 9) ➞ {move_to_end([7, 8, 9, 1, 2, 3, 4], 9)}')\n",
    "print(f'move_to_end([\"a\", \"a\", \"a\", \"b\"], \"a\") ➞ {move_to_end([\"a\", \"a\", \"a\", \"b\"], \"a\")}')"
   ]
  }
 ],
 "metadata": {
  "kernelspec": {
   "display_name": "Python 3",
   "language": "python",
   "name": "python3"
  },
  "language_info": {
   "codemirror_mode": {
    "name": "ipython",
    "version": 3
   },
   "file_extension": ".py",
   "mimetype": "text/x-python",
   "name": "python",
   "nbconvert_exporter": "python",
   "pygments_lexer": "ipython3",
   "version": "3.8.8"
  }
 },
 "nbformat": 4,
 "nbformat_minor": 5
}
