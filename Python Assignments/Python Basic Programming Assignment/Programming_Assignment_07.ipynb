{
 "cells": [
  {
   "cell_type": "markdown",
   "id": "3e9aa236",
   "metadata": {},
   "source": [
    "## Programming Assignment 7\n",
    "\n",
    "### 1.\tWrite a Python Program to find sum of array?"
   ]
  },
  {
   "cell_type": "code",
   "execution_count": 4,
   "id": "ec0bafbe",
   "metadata": {},
   "outputs": [],
   "source": [
    "def sum_array(*args):\n",
    "    s = 0\n",
    "    for i in args:\n",
    "        s = s + i\n",
    "    return s"
   ]
  },
  {
   "cell_type": "code",
   "execution_count": 6,
   "id": "4d23efe2",
   "metadata": {},
   "outputs": [
    {
     "data": {
      "text/plain": [
       "52"
      ]
     },
     "execution_count": 6,
     "metadata": {},
     "output_type": "execute_result"
    }
   ],
   "source": [
    "sum_array(2,3,4,5,6,7,2,4,10,9)"
   ]
  },
  {
   "cell_type": "markdown",
   "id": "5053cd05",
   "metadata": {},
   "source": [
    "### 2.\tWrite a Python Program to find largest element in an array?"
   ]
  },
  {
   "cell_type": "code",
   "execution_count": 9,
   "id": "717be910",
   "metadata": {},
   "outputs": [],
   "source": [
    "def largest(*args):\n",
    "    l = 0\n",
    "    for i in args:\n",
    "        if i > l:\n",
    "            l = i\n",
    "        else:\n",
    "            pass\n",
    "    return f'Largest Number is: {l}'"
   ]
  },
  {
   "cell_type": "code",
   "execution_count": 10,
   "id": "ffded731",
   "metadata": {},
   "outputs": [
    {
     "data": {
      "text/plain": [
       "'Largest Number is: 22'"
      ]
     },
     "execution_count": 10,
     "metadata": {},
     "output_type": "execute_result"
    }
   ],
   "source": [
    "largest(2,3,4,5,6,7,2,4,10,9,22, 13,7)"
   ]
  },
  {
   "cell_type": "code",
   "execution_count": 13,
   "id": "d9743ee0",
   "metadata": {},
   "outputs": [
    {
     "name": "stdout",
     "output_type": "stream",
     "text": [
      "Length of array: 10\n",
      "4\n",
      "7\n",
      "9\n",
      "12\n",
      "11\n",
      "22\n",
      "45\n",
      "34\n",
      "78\n",
      "91\n",
      "Array: [4, 7, 9, 12, 11, 22, 45, 34, 78, 91] \n",
      "Largest element in given array is: 91\n"
     ]
    }
   ],
   "source": [
    "size = int(input(\"Length of array: \"))\n",
    "array = [int(input()) for i in range(size)]\n",
    "    \n",
    "print(f\"Array: {array} \\nLargest element in given array is: {max(array)}\")"
   ]
  },
  {
   "cell_type": "markdown",
   "id": "7ae00d4c",
   "metadata": {},
   "source": [
    "### 3.\tWrite a Python Program for array rotation?"
   ]
  },
  {
   "cell_type": "code",
   "execution_count": 14,
   "id": "cdbff728",
   "metadata": {},
   "outputs": [],
   "source": [
    "def rotation(*args):\n",
    "    return args[::-1]"
   ]
  },
  {
   "cell_type": "code",
   "execution_count": 15,
   "id": "b4998984",
   "metadata": {},
   "outputs": [
    {
     "data": {
      "text/plain": [
       "(9, 10, 4, 2, 7, 6, 5, 4, 3, 2)"
      ]
     },
     "execution_count": 15,
     "metadata": {},
     "output_type": "execute_result"
    }
   ],
   "source": [
    "rotation(2,3,4,5,6,7,2,4,10,9)"
   ]
  },
  {
   "cell_type": "markdown",
   "id": "3e1573d8",
   "metadata": {},
   "source": [
    "### 4.\tWrite a Python Program to Split the array and add the first part to the end?"
   ]
  },
  {
   "cell_type": "code",
   "execution_count": 44,
   "id": "cc3352cd",
   "metadata": {},
   "outputs": [],
   "source": [
    "def split(*args):\n",
    "    mid = len(args)//2\n",
    "    first = args[:mid]\n",
    "    second = args[mid:]\n",
    "    print(f'First Part: {first}')\n",
    "    print(f'Second Part: {second}')\n",
    "    print(f'Final Array: {args}')"
   ]
  },
  {
   "cell_type": "code",
   "execution_count": 45,
   "id": "ea2e268e",
   "metadata": {},
   "outputs": [
    {
     "name": "stdout",
     "output_type": "stream",
     "text": [
      "First Part: (2, 3, 4, 5)\n",
      "Second Part: (6, 7, 8, 9, 10)\n",
      "Final Array: (2, 3, 4, 5, 6, 7, 8, 9, 10)\n"
     ]
    }
   ],
   "source": [
    "split(2,3,4,5,6,7,8,9,10)"
   ]
  },
  {
   "cell_type": "markdown",
   "id": "147fca51",
   "metadata": {},
   "source": [
    "### 5.\tWrite a Python Program to check if given array is Monotonic?"
   ]
  },
  {
   "cell_type": "code",
   "execution_count": 1,
   "id": "bc6838c8",
   "metadata": {},
   "outputs": [
    {
     "name": "stdout",
     "output_type": "stream",
     "text": [
      "True\n"
     ]
    }
   ],
   "source": [
    "def isMonotonic(A):\n",
    "\tx, y = [], []\n",
    "\tx.extend(A)\n",
    "\ty.extend(A)\n",
    "\tx.sort()\n",
    "\ty.sort(reverse=True)\n",
    "\tif(x == A or y == A):\n",
    "\t\treturn True\n",
    "\treturn False\n",
    "\n",
    "A = [6, 4, 4]\n",
    "\n",
    "print(isMonotonic(A))"
   ]
  }
 ],
 "metadata": {
  "kernelspec": {
   "display_name": "Python 3",
   "language": "python",
   "name": "python3"
  },
  "language_info": {
   "codemirror_mode": {
    "name": "ipython",
    "version": 3
   },
   "file_extension": ".py",
   "mimetype": "text/x-python",
   "name": "python",
   "nbconvert_exporter": "python",
   "pygments_lexer": "ipython3",
   "version": "3.8.8"
  }
 },
 "nbformat": 4,
 "nbformat_minor": 5
}
