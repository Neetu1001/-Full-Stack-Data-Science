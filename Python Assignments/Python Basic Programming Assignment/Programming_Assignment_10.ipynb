{
 "cells": [
  {
   "cell_type": "markdown",
   "id": "c175a016",
   "metadata": {},
   "source": [
    "## Programming Assignment 10\n",
    "\n",
    "### Q1.Write a Python Program to find sum of elements in a list ?"
   ]
  },
  {
   "cell_type": "code",
   "execution_count": 5,
   "id": "ec868b60",
   "metadata": {},
   "outputs": [],
   "source": [
    "def sum_ele_in_list():\n",
    "    e = int(input(\"Total Number of Elements: \"))\n",
    "    l = []\n",
    "    s = 0\n",
    "    for i in range(1,e+1):\n",
    "        l.append(int(input(f\"Enter your {i} Number: \")))\n",
    "    for i in l:\n",
    "        s = s + i\n",
    "    print(f'Sum of all number is: {s}')"
   ]
  },
  {
   "cell_type": "code",
   "execution_count": 6,
   "id": "59d4b0a1",
   "metadata": {},
   "outputs": [
    {
     "name": "stdout",
     "output_type": "stream",
     "text": [
      "Total Number of Elements: 5\n",
      "Enter your 1 Number: 34\n",
      "Enter your 2 Number: 67\n",
      "Enter your 3 Number: 23\n",
      "Enter your 4 Number: 22\n",
      "Enter your 5 Number: 78\n",
      "Sum of all number is: 224\n"
     ]
    }
   ],
   "source": [
    "sum_ele_in_list()"
   ]
  },
  {
   "cell_type": "markdown",
   "id": "ff613352",
   "metadata": {},
   "source": [
    "### Q2.Write a Python Program to multiply all numbers in the list ?"
   ]
  },
  {
   "cell_type": "code",
   "execution_count": 9,
   "id": "618a9419",
   "metadata": {},
   "outputs": [],
   "source": [
    "def mul_ele_in_list():\n",
    "    e = int(input(\"Total Number of Elements: \"))\n",
    "    l = []\n",
    "    m = 1\n",
    "    for i in range(1,e+1):\n",
    "        l.append(int(input(f\"Enter your {i} Number: \")))\n",
    "    for i in l:\n",
    "        m = m * i\n",
    "    print(f'Total Product of all number is: {m}')"
   ]
  },
  {
   "cell_type": "code",
   "execution_count": 10,
   "id": "8bf72365",
   "metadata": {},
   "outputs": [
    {
     "name": "stdout",
     "output_type": "stream",
     "text": [
      "Total Number of Elements: 4\n",
      "Enter your 1 Number: 20\n",
      "Enter your 2 Number: 22\n",
      "Enter your 3 Number: 14\n",
      "Enter your 4 Number: 5\n",
      "Total Product of all number is: 30800\n"
     ]
    }
   ],
   "source": [
    "mul_ele_in_list()"
   ]
  },
  {
   "cell_type": "markdown",
   "id": "3b4fecd3",
   "metadata": {},
   "source": [
    "### Q3.Write a Python Program to find smallest number in the list ?"
   ]
  },
  {
   "cell_type": "code",
   "execution_count": 12,
   "id": "d22983c8",
   "metadata": {},
   "outputs": [],
   "source": [
    "# method 1\n",
    "def smallest_ele_in_list():\n",
    "    e = int(input(\"Total Number of Elements: \"))\n",
    "    l = []\n",
    "    \n",
    "    for i in range(1,e+1):\n",
    "        l.append(int(input(f\"Enter your {i} Number: \")))\n",
    "    m = l[0]\n",
    "    for i in l:\n",
    "        if i < m:\n",
    "            m = i\n",
    "        else:\n",
    "            pass\n",
    "    print(f'Smallest Number: {m}')"
   ]
  },
  {
   "cell_type": "code",
   "execution_count": 13,
   "id": "c6c30649",
   "metadata": {},
   "outputs": [
    {
     "name": "stdout",
     "output_type": "stream",
     "text": [
      "Total Number of Elements: 5\n",
      "Enter your 1 Number: 2\n",
      "Enter your 2 Number: 14\n",
      "Enter your 3 Number: 11\n",
      "Enter your 4 Number: 20\n",
      "Enter your 5 Number: 9\n",
      "Smallest Number: 2\n"
     ]
    }
   ],
   "source": [
    "smallest_ele_in_list()"
   ]
  },
  {
   "cell_type": "code",
   "execution_count": 14,
   "id": "c6abe8b2",
   "metadata": {},
   "outputs": [
    {
     "name": "stdout",
     "output_type": "stream",
     "text": [
      "Enter the No of elements in a list: 4\n",
      "Enter a Element: 10\n",
      "Enter a Element: 11\n",
      "Enter a Element: 2\n",
      "Enter a Element: 3\n",
      "The Smallest Element in [10, 11, 2, 3] is 2\n"
     ]
    }
   ],
   "source": [
    "# method 2\n",
    "def smallEleInList():\n",
    "    in_ele = int(input('Enter the No of elements in a list: '))\n",
    "    in_list = []\n",
    "    for ele in range(in_ele):\n",
    "        in_list.append(int(input('Enter a Element: ')))\n",
    "    print(f'The Smallest Element in {in_list} is {sorted(in_list)[0]}')\n",
    "smallEleInList()"
   ]
  },
  {
   "cell_type": "markdown",
   "id": "f5a125a0",
   "metadata": {},
   "source": [
    "### Q4.Write a Python Program to find largest number in the list ?"
   ]
  },
  {
   "cell_type": "code",
   "execution_count": 17,
   "id": "eb91518d",
   "metadata": {},
   "outputs": [],
   "source": [
    "def largestnum():\n",
    "    n = int(input(\"Total Number of Elements: \"))\n",
    "    l = []\n",
    "    for i in range(n):\n",
    "        l.append(int(input(f'Enter your {i} Number: ')))\n",
    "    print(f'Largest number in {l} is: {sorted(l)[-1]}')"
   ]
  },
  {
   "cell_type": "code",
   "execution_count": 18,
   "id": "5c9c13d9",
   "metadata": {},
   "outputs": [
    {
     "name": "stdout",
     "output_type": "stream",
     "text": [
      "Total Number of Elements: 4\n",
      "Enter your 0 Number: 10\n",
      "Enter your 1 Number: 11\n",
      "Enter your 2 Number: 88\n",
      "Enter your 3 Number: 90\n",
      "Largest number in [10, 11, 88, 90] is: 90\n"
     ]
    }
   ],
   "source": [
    "largestnum()"
   ]
  },
  {
   "cell_type": "markdown",
   "id": "2a8de0cf",
   "metadata": {},
   "source": [
    "### Q5.Write a Python Program to find second largest number in the list ?"
   ]
  },
  {
   "cell_type": "code",
   "execution_count": 24,
   "id": "43bdda32",
   "metadata": {},
   "outputs": [],
   "source": [
    "def secondlargestnum():\n",
    "    n = int(input(\"Total Number of Elements: \"))\n",
    "    l = []\n",
    "    for i in range(n):\n",
    "        l.append(int(input(f'Enter your {i} Number: ')))\n",
    "    print(f'Second Largest number in {l} is: {sorted(l)[-2]}')"
   ]
  },
  {
   "cell_type": "code",
   "execution_count": 25,
   "id": "1ee07962",
   "metadata": {},
   "outputs": [
    {
     "name": "stdout",
     "output_type": "stream",
     "text": [
      "Total Number of Elements: 5\n",
      "Enter your 0 Number: 12\n",
      "Enter your 1 Number: 45\n",
      "Enter your 2 Number: 23\n",
      "Enter your 3 Number: 65\n",
      "Enter your 4 Number: 55\n",
      "Second Largest number in [12, 45, 23, 65, 55] is: 55\n"
     ]
    }
   ],
   "source": [
    "secondlargestnum()"
   ]
  },
  {
   "cell_type": "markdown",
   "id": "f6e14947",
   "metadata": {},
   "source": [
    "### Q6.Write a Python Program to find N largest elements in the list ?"
   ]
  },
  {
   "cell_type": "code",
   "execution_count": 32,
   "id": "965b72f6",
   "metadata": {},
   "outputs": [],
   "source": [
    "def nthlargestnum(m):\n",
    "    n = int(input(\"Total Number of Elements: \"))\n",
    "    l = []\n",
    "    import inflect\n",
    "    p = inflect.engine()\n",
    "    for i in range(n):\n",
    "        l.append(int(input(f'Enter your {i} Number: ')))\n",
    "    print(f'{p.ordinal(m)} Largest number in {l} is: {sorted(l)[-m]}')"
   ]
  },
  {
   "cell_type": "code",
   "execution_count": 33,
   "id": "47d74d67",
   "metadata": {},
   "outputs": [
    {
     "name": "stdout",
     "output_type": "stream",
     "text": [
      "Total Number of Elements: 6\n",
      "Enter your 0 Number: 12\n",
      "Enter your 1 Number: 33\n",
      "Enter your 2 Number: 45\n",
      "Enter your 3 Number: 66\n",
      "Enter your 4 Number: 65\n",
      "Enter your 5 Number: 31\n",
      "3rd Largest number in [12, 33, 45, 66, 65, 31] is: 45\n"
     ]
    }
   ],
   "source": [
    "nthlargestnum(3)"
   ]
  },
  {
   "cell_type": "markdown",
   "id": "b8622009",
   "metadata": {},
   "source": [
    "### Q 7.Write a Python Program to find even numbers in the list ?"
   ]
  },
  {
   "cell_type": "code",
   "execution_count": 38,
   "id": "75640f0b",
   "metadata": {},
   "outputs": [],
   "source": [
    "def evennum():\n",
    "    n = int(input(\"Total Number of Elements: \"))\n",
    "    l = []\n",
    "    even = []\n",
    "    for i in range(n):\n",
    "        l.append(int(input(f'Enter your {i} Number: ')))\n",
    "    for i in l:\n",
    "        if i%2 == 0:\n",
    "            even.append(i)\n",
    "        else:\n",
    "            pass\n",
    "    print(f\"Even Numbers in {l} is: {even}\")"
   ]
  },
  {
   "cell_type": "code",
   "execution_count": 37,
   "id": "9100872f",
   "metadata": {},
   "outputs": [
    {
     "name": "stdout",
     "output_type": "stream",
     "text": [
      "Total Number of Elements: 5\n",
      "Enter your 0 Number: 23\n",
      "Enter your 1 Number: 12\n",
      "Enter your 2 Number: 44\n",
      "Enter your 3 Number: 55\n",
      "Enter your 4 Number: 61\n",
      "Even Numbers in [23, 12, 44, 55, 61] is: [12, 44]\n"
     ]
    }
   ],
   "source": [
    "evennum()"
   ]
  },
  {
   "cell_type": "markdown",
   "id": "0f27bbd8",
   "metadata": {},
   "source": [
    "### Q8.Write a Python Program to find odd numbers in the list ?"
   ]
  },
  {
   "cell_type": "code",
   "execution_count": 41,
   "id": "0e3bbfe3",
   "metadata": {},
   "outputs": [],
   "source": [
    "def oddnum():\n",
    "    n = int(input(\"Total Number of Elements: \"))\n",
    "    l = []\n",
    "    even = []\n",
    "    for i in range(n):\n",
    "        l.append(int(input(f'Enter your {i} Number: ')))\n",
    "    for i in l:\n",
    "        if i%2 != 0:\n",
    "            even.append(i)\n",
    "        else:\n",
    "            pass\n",
    "    print(f\"Odd Numbers in {l} is: {even}\")"
   ]
  },
  {
   "cell_type": "code",
   "execution_count": 42,
   "id": "acb2bcea",
   "metadata": {},
   "outputs": [
    {
     "name": "stdout",
     "output_type": "stream",
     "text": [
      "Total Number of Elements: 5\n",
      "Enter your 0 Number: 22\n",
      "Enter your 1 Number: 13\n",
      "Enter your 2 Number: 45\n",
      "Enter your 3 Number: 67\n",
      "Enter your 4 Number: 54\n",
      "Odd Numbers in [22, 13, 45, 67, 54] is: [13, 45, 67]\n"
     ]
    }
   ],
   "source": [
    "oddnum()"
   ]
  },
  {
   "cell_type": "markdown",
   "id": "a07e1872",
   "metadata": {},
   "source": [
    "### Q9.Write a Python Program to remove empty list from list ?"
   ]
  },
  {
   "cell_type": "code",
   "execution_count": 45,
   "id": "8eb65c09",
   "metadata": {},
   "outputs": [
    {
     "name": "stdout",
     "output_type": "stream",
     "text": [
      "Enter all elements of the list: [2,13,45,[],89,67]\n",
      "There is an Empty list in [2, 13, 45, [], 89, 67] at Position 3\n",
      "The List after removing [] is [2, 13, 45, 89, 67]\n"
     ]
    }
   ],
   "source": [
    "def checkEmptyList():\n",
    "    in_list = eval(input('Enter all elements of the list: '))\n",
    "    if [] in in_list:\n",
    "        print(f'There is an Empty list in {in_list} at Position {in_list.index([])}')\n",
    "        in_list.remove([])\n",
    "        print(f'The List after removing [] is {in_list}')\n",
    "    else:\n",
    "        print(f'There is no [] List in the list {in_list}')\n",
    "        \n",
    "checkEmptyList()"
   ]
  },
  {
   "cell_type": "markdown",
   "id": "2eb1c5f0",
   "metadata": {},
   "source": [
    "### Q10.Write a Python Program to Cloning or Copying a list ?"
   ]
  },
  {
   "cell_type": "code",
   "execution_count": 49,
   "id": "64b9c7a3",
   "metadata": {},
   "outputs": [],
   "source": [
    "def cloneList():\n",
    "    import copy\n",
    "    in_list = eval(input('Enter a list'))\n",
    "    print(f'Original List: {in_list}, ID: {id(in_list)}')\n",
    "    cloned_list = in_list.copy()\n",
    "    print(f\"Copied List: {cloned_list}, ID: {id(cloned_list)}\")"
   ]
  },
  {
   "cell_type": "code",
   "execution_count": 50,
   "id": "cde19662",
   "metadata": {},
   "outputs": [
    {
     "name": "stdout",
     "output_type": "stream",
     "text": [
      "Enter a list[12,3,4,2]\n",
      "Original List: [12, 3, 4, 2], ID: 1593547028864\n",
      "Copied List: [12, 3, 4, 2], ID: 1593547093568\n"
     ]
    }
   ],
   "source": [
    "cloneList()"
   ]
  },
  {
   "cell_type": "markdown",
   "id": "0ec9aff6",
   "metadata": {},
   "source": [
    "### Q11.Write a Python Program to count occurences of an element in a list ?"
   ]
  },
  {
   "cell_type": "code",
   "execution_count": 51,
   "id": "b6bda0f8",
   "metadata": {},
   "outputs": [],
   "source": [
    "def checkOccurence():\n",
    "    in_list = eval(input('Enter the elements of the list: '))\n",
    "    in_num = eval(input('Enter the element to find: '))\n",
    "    count = 0\n",
    "    if in_num in in_list:\n",
    "        for ele in in_list:\n",
    "            if ele == in_num:\n",
    "                count = count+1\n",
    "    print(f'There are {count} occurences of {in_num} in {in_list}')"
   ]
  },
  {
   "cell_type": "code",
   "execution_count": 53,
   "id": "1a32e478",
   "metadata": {},
   "outputs": [
    {
     "name": "stdout",
     "output_type": "stream",
     "text": [
      "Enter the elements of the list: [2,3,2,2,1,4,5,6,2,7,5,6]\n",
      "Enter the element to find: 2\n",
      "There are 4 occurences of 2 in [2, 3, 2, 2, 1, 4, 5, 6, 2, 7, 5, 6]\n"
     ]
    }
   ],
   "source": [
    "checkOccurence()"
   ]
  }
 ],
 "metadata": {
  "kernelspec": {
   "display_name": "Python 3",
   "language": "python",
   "name": "python3"
  },
  "language_info": {
   "codemirror_mode": {
    "name": "ipython",
    "version": 3
   },
   "file_extension": ".py",
   "mimetype": "text/x-python",
   "name": "python",
   "nbconvert_exporter": "python",
   "pygments_lexer": "ipython3",
   "version": "3.8.8"
  }
 },
 "nbformat": 4,
 "nbformat_minor": 5
}
